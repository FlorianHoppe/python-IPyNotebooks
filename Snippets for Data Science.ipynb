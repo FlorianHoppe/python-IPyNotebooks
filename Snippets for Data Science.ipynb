{
 "metadata": {
  "name": "Snippets for Data Science"
 },
 "nbformat": 3,
 "nbformat_minor": 0,
 "worksheets": [
  {
   "cells": [
    {
     "cell_type": "markdown",
     "metadata": {},
     "source": [
      "Python for Data Science\n",
      "=====\n",
      "I wrote this notebook while figuring out what tools Python offers to solve data science problems i.e. those kind of programming task where spreadsheet like data has to be handled and analyzed with a statistical set of mind. Consequently the following code snippets are mainly using packages like `numpy, pandas` and `matplotlib`. It comprises the topics:\n",
      "\n",
      "- Random Numbers\n",
      "- Numpy Arrays and Matrices\n",
      "- Broadcasting of values in matrices\n",
      "- Pandas Series and DataFrames\n",
      "- I/O for DataFrames\n",
      "- Combining, Merging and Rearranging of DataFrames\n",
      "- Histograms\n",
      "- Plotting\n",
      "- Data Grouping and Aggregation\n",
      "- Pivot and Cross Tables\n",
      "- Handling of Time Series and Finanzial Data\n",
      "\n",
      "*Acknowledgment:* Lots of the code down below is inspired by the very helpfull book \"Python for Data Analysis\" by Wes McKinney published at O'Reilly.\n",
      "\n",
      "(c) Florian Hoppe 2013"
     ]
    },
    {
     "cell_type": "code",
     "collapsed": false,
     "input": [
      "import pandas as pd\n",
      "from pandas import DataFrame, Series\n",
      "import numpy as np\n",
      "import matplotlib.pyplot as plt\n",
      "import numpy.random as rand\n",
      "from datetime import datetime, timedelta\n",
      "import dateutil\n",
      "import misc as hlp"
     ],
     "language": "python",
     "metadata": {},
     "outputs": [],
     "prompt_number": 14
    },
    {
     "cell_type": "code",
     "collapsed": false,
     "input": [
      "%pylab inline"
     ],
     "language": "python",
     "metadata": {},
     "outputs": [
      {
       "output_type": "stream",
       "stream": "stdout",
       "text": [
        "\n",
        "Welcome to pylab, a matplotlib-based Python environment [backend: module://IPython.zmq.pylab.backend_inline].\n",
        "For more information, type 'help(pylab)'.\n"
       ]
      }
     ],
     "prompt_number": 4
    },
    {
     "cell_type": "heading",
     "level": 1,
     "metadata": {},
     "source": [
      "Random Numbers:"
     ]
    },
    {
     "cell_type": "code",
     "collapsed": false,
     "input": [
      "rand.randint(0,2,size=(5,2))"
     ],
     "language": "python",
     "metadata": {},
     "outputs": [
      {
       "output_type": "pyout",
       "prompt_number": 101,
       "text": [
        "array([[0, 0],\n",
        "       [1, 0],\n",
        "       [0, 1],\n",
        "       [0, 1],\n",
        "       [0, 0]])"
       ]
      }
     ],
     "prompt_number": 101
    },
    {
     "cell_type": "code",
     "collapsed": false,
     "input": [
      "rand.normal(0, 1, size=(10,2))"
     ],
     "language": "python",
     "metadata": {},
     "outputs": [
      {
       "output_type": "pyout",
       "prompt_number": 102,
       "text": [
        "array([[-0.09675095,  1.41022276],\n",
        "       [ 0.08331002, -1.01390688],\n",
        "       [-1.02670791,  0.78575858],\n",
        "       [-0.56622282,  1.28850691],\n",
        "       [-1.44063462, -0.23504318],\n",
        "       [-2.60446661,  0.46358683],\n",
        "       [ 0.08546987, -2.18813767],\n",
        "       [ 0.59816834, -0.70568697],\n",
        "       [-1.06188424,  0.34101838],\n",
        "       [ 0.65117497, -0.34601664]])"
       ]
      }
     ],
     "prompt_number": 102
    },
    {
     "cell_type": "code",
     "collapsed": false,
     "input": [
      "random_data = np.concatenate([rand.normal(0,.5,(100,2)),rand.normal(5,1,(200,2))])\n",
      "plt.scatter(random_data[:,0],random_data[:,1])"
     ],
     "language": "python",
     "metadata": {},
     "outputs": [
      {
       "output_type": "pyout",
       "prompt_number": 110,
       "text": [
        "<matplotlib.collections.PathCollection at 0xa7eb940>"
       ]
      }
     ],
     "prompt_number": 110
    },
    {
     "cell_type": "code",
     "collapsed": false,
     "input": [
      "np.random.randn(2,3) # normal distribution\n",
      "np.random.rand(2,3)  # uniform distribution"
     ],
     "language": "python",
     "metadata": {},
     "outputs": [
      {
       "output_type": "pyout",
       "prompt_number": 33,
       "text": [
        "array([[ 0.6062381 ,  0.73490793,  0.54977326],\n",
        "       [ 0.37106928,  0.74039583,  0.96761176]])"
       ]
      }
     ],
     "prompt_number": 33
    },
    {
     "cell_type": "code",
     "collapsed": false,
     "input": [
      "np.random.permutation(10)"
     ],
     "language": "python",
     "metadata": {},
     "outputs": [
      {
       "output_type": "pyout",
       "prompt_number": 28,
       "text": [
        "array([4, 0, 6, 2, 7, 1, 3, 5, 8, 9])"
       ]
      }
     ],
     "prompt_number": 28
    },
    {
     "cell_type": "code",
     "collapsed": false,
     "input": [
      "t = np.arange(5)\n",
      "np.random.shuffle(t)\n",
      "t"
     ],
     "language": "python",
     "metadata": {},
     "outputs": [
      {
       "output_type": "pyout",
       "prompt_number": 120,
       "text": [
        "array([0, 4, 2, 1, 3])"
       ]
      }
     ],
     "prompt_number": 120
    },
    {
     "cell_type": "code",
     "collapsed": false,
     "input": [
      "n = 10000\n",
      "v1 = rand.normal(0,.5,n)\n",
      "v2 = rand.normal(10,.75,n)\n",
      "v3 = v1*3+10\n",
      "v4 = rand.uniform(-10,10,n)\n",
      "v5 = v1*v2\n",
      "v6 = v1+v2+v3\n",
      "mat = np.concatenate([v1,v2,v3,v4,v5,v6]).reshape(6,n).T\n",
      "mat.shape"
     ],
     "language": "python",
     "metadata": {},
     "outputs": [
      {
       "output_type": "pyout",
       "prompt_number": 2,
       "text": [
        "(10000L, 6L)"
       ]
      }
     ],
     "prompt_number": 2
    },
    {
     "cell_type": "code",
     "collapsed": false,
     "input": [
      "v1.std()==v1.var()**.5"
     ],
     "language": "python",
     "metadata": {},
     "outputs": [
      {
       "output_type": "pyout",
       "prompt_number": 59,
       "text": [
        "True"
       ]
      }
     ],
     "prompt_number": 59
    },
    {
     "cell_type": "code",
     "collapsed": false,
     "input": [
      "np.cov(mat.T)"
     ],
     "language": "python",
     "metadata": {},
     "outputs": [
      {
       "output_type": "pyout",
       "prompt_number": 3,
       "text": [
        "array([[  2.47965623e-01,   4.08848491e-03,   7.43896868e-01,\n",
        "          1.98422062e-02,   2.48179344e+00,   9.95950976e-01],\n",
        "       [  4.08848491e-03,   5.61573123e-01,   1.22654547e-02,\n",
        "          3.87392111e-02,   3.97894902e-02,   5.77927062e-01],\n",
        "       [  7.43896868e-01,   1.22654547e-02,   2.23169060e+00,\n",
        "          5.95266187e-02,   7.44538032e+00,   2.98785293e+00],\n",
        "       [  1.98422062e-02,   3.87392111e-02,   5.95266187e-02,\n",
        "          3.33664381e+01,   2.45949459e-01,   1.18108036e-01],\n",
        "       [  2.48179344e+00,   3.97894902e-02,   7.44538032e+00,\n",
        "          2.45949459e-01,   2.49790676e+01,   9.96696326e+00],\n",
        "       [  9.95950976e-01,   5.77927062e-01,   2.98785293e+00,\n",
        "          1.18108036e-01,   9.96696326e+00,   4.56173096e+00]])"
       ]
      }
     ],
     "prompt_number": 3
    },
    {
     "cell_type": "code",
     "collapsed": false,
     "input": [
      "np.corrcoef(mat.T)"
     ],
     "language": "python",
     "metadata": {},
     "outputs": [
      {
       "output_type": "pyout",
       "prompt_number": 4,
       "text": [
        "array([[ 1.        ,  0.01095629,  1.        ,  0.00689826,  0.99719888,\n",
        "         0.93643447],\n",
        "       [ 0.01095629,  1.        ,  0.01095629,  0.00894937,  0.01062373,\n",
        "         0.36108134],\n",
        "       [ 1.        ,  0.01095629,  1.        ,  0.00689826,  0.99719888,\n",
        "         0.93643447],\n",
        "       [ 0.00689826,  0.00894937,  0.00689826,  1.        ,  0.00851928,\n",
        "         0.00957326],\n",
        "       [ 0.99719888,  0.01062373,  0.99719888,  0.00851928,  1.        ,\n",
        "         0.93370549],\n",
        "       [ 0.93643447,  0.36108134,  0.93643447,  0.00957326,  0.93370549,\n",
        "         1.        ]])"
       ]
      }
     ],
     "prompt_number": 4
    },
    {
     "cell_type": "code",
     "collapsed": false,
     "input": [
      "df = DataFrame({'v1':v1,'v2':v2,'v3':v3,'v4':v4,'v5':v5,'v6':v6})\n",
      "df[:3]"
     ],
     "language": "python",
     "metadata": {},
     "outputs": [
      {
       "html": [
        "<div style=\"max-height:1000px;max-width:1500px;overflow:auto;\">\n",
        "<table border=\"1\" class=\"dataframe\">\n",
        "  <thead>\n",
        "    <tr style=\"text-align: right;\">\n",
        "      <th></th>\n",
        "      <th>v1</th>\n",
        "      <th>v2</th>\n",
        "      <th>v3</th>\n",
        "      <th>v4</th>\n",
        "      <th>v5</th>\n",
        "      <th>v6</th>\n",
        "    </tr>\n",
        "  </thead>\n",
        "  <tbody>\n",
        "    <tr>\n",
        "      <th>0</th>\n",
        "      <td> 0.856301</td>\n",
        "      <td>  9.804413</td>\n",
        "      <td> 12.568904</td>\n",
        "      <td>-3.444391</td>\n",
        "      <td> 8.395533</td>\n",
        "      <td> 23.229618</td>\n",
        "    </tr>\n",
        "    <tr>\n",
        "      <th>1</th>\n",
        "      <td> 0.168428</td>\n",
        "      <td> 10.670377</td>\n",
        "      <td> 10.505283</td>\n",
        "      <td> 5.160607</td>\n",
        "      <td> 1.797187</td>\n",
        "      <td> 21.344088</td>\n",
        "    </tr>\n",
        "    <tr>\n",
        "      <th>2</th>\n",
        "      <td>-0.098325</td>\n",
        "      <td>  8.586418</td>\n",
        "      <td>  9.705026</td>\n",
        "      <td> 7.626106</td>\n",
        "      <td>-0.844257</td>\n",
        "      <td> 18.193119</td>\n",
        "    </tr>\n",
        "  </tbody>\n",
        "</table>\n",
        "</div>"
       ],
       "output_type": "pyout",
       "prompt_number": 5,
       "text": [
        "         v1         v2         v3        v4        v5         v6\n",
        "0  0.856301   9.804413  12.568904 -3.444391  8.395533  23.229618\n",
        "1  0.168428  10.670377  10.505283  5.160607  1.797187  21.344088\n",
        "2 -0.098325   8.586418   9.705026  7.626106 -0.844257  18.193119"
       ]
      }
     ],
     "prompt_number": 5
    },
    {
     "cell_type": "code",
     "collapsed": false,
     "input": [
      "df.cov()"
     ],
     "language": "python",
     "metadata": {},
     "outputs": [
      {
       "html": [
        "<div style=\"max-height:1000px;max-width:1500px;overflow:auto;\">\n",
        "<table border=\"1\" class=\"dataframe\">\n",
        "  <thead>\n",
        "    <tr style=\"text-align: right;\">\n",
        "      <th></th>\n",
        "      <th>v1</th>\n",
        "      <th>v2</th>\n",
        "      <th>v3</th>\n",
        "      <th>v4</th>\n",
        "    </tr>\n",
        "  </thead>\n",
        "  <tbody>\n",
        "    <tr>\n",
        "      <th>v1</th>\n",
        "      <td> 0.249482</td>\n",
        "      <td>-0.001939</td>\n",
        "      <td> 0.748447</td>\n",
        "      <td> -0.001653</td>\n",
        "    </tr>\n",
        "    <tr>\n",
        "      <th>v2</th>\n",
        "      <td>-0.001939</td>\n",
        "      <td> 0.569149</td>\n",
        "      <td>-0.005817</td>\n",
        "      <td> -0.053476</td>\n",
        "    </tr>\n",
        "    <tr>\n",
        "      <th>v3</th>\n",
        "      <td> 0.748447</td>\n",
        "      <td>-0.005817</td>\n",
        "      <td> 2.245341</td>\n",
        "      <td> -0.004959</td>\n",
        "    </tr>\n",
        "    <tr>\n",
        "      <th>v4</th>\n",
        "      <td>-0.001653</td>\n",
        "      <td>-0.053476</td>\n",
        "      <td>-0.004959</td>\n",
        "      <td> 33.431387</td>\n",
        "    </tr>\n",
        "  </tbody>\n",
        "</table>\n",
        "</div>"
       ],
       "output_type": "pyout",
       "prompt_number": 77,
       "text": [
        "          v1        v2        v3         v4\n",
        "v1  0.249482 -0.001939  0.748447  -0.001653\n",
        "v2 -0.001939  0.569149 -0.005817  -0.053476\n",
        "v3  0.748447 -0.005817  2.245341  -0.004959\n",
        "v4 -0.001653 -0.053476 -0.004959  33.431387"
       ]
      }
     ],
     "prompt_number": 77
    },
    {
     "cell_type": "code",
     "collapsed": false,
     "input": [
      "df.cov()\n",
      "# corr is standardized cov: each cov value has to be devided by the product of the std dev of the correlated variables\n",
      "# df.cov().div(df.std()[0]*df.std()[1])"
     ],
     "language": "python",
     "metadata": {},
     "outputs": [
      {
       "html": [
        "<div style=\"max-height:1000px;max-width:1500px;overflow:auto;\">\n",
        "<table border=\"1\" class=\"dataframe\">\n",
        "  <thead>\n",
        "    <tr style=\"text-align: right;\">\n",
        "      <th></th>\n",
        "      <th>v1</th>\n",
        "      <th>v2</th>\n",
        "      <th>v3</th>\n",
        "      <th>v4</th>\n",
        "      <th>v5</th>\n",
        "      <th>v6</th>\n",
        "    </tr>\n",
        "  </thead>\n",
        "  <tbody>\n",
        "    <tr>\n",
        "      <th>v1</th>\n",
        "      <td> 0.247966</td>\n",
        "      <td> 0.004088</td>\n",
        "      <td> 0.743897</td>\n",
        "      <td>  0.019842</td>\n",
        "      <td>  2.481793</td>\n",
        "      <td> 0.995951</td>\n",
        "    </tr>\n",
        "    <tr>\n",
        "      <th>v2</th>\n",
        "      <td> 0.004088</td>\n",
        "      <td> 0.561573</td>\n",
        "      <td> 0.012265</td>\n",
        "      <td>  0.038739</td>\n",
        "      <td>  0.039789</td>\n",
        "      <td> 0.577927</td>\n",
        "    </tr>\n",
        "    <tr>\n",
        "      <th>v3</th>\n",
        "      <td> 0.743897</td>\n",
        "      <td> 0.012265</td>\n",
        "      <td> 2.231691</td>\n",
        "      <td>  0.059527</td>\n",
        "      <td>  7.445380</td>\n",
        "      <td> 2.987853</td>\n",
        "    </tr>\n",
        "    <tr>\n",
        "      <th>v4</th>\n",
        "      <td> 0.019842</td>\n",
        "      <td> 0.038739</td>\n",
        "      <td> 0.059527</td>\n",
        "      <td> 33.366438</td>\n",
        "      <td>  0.245949</td>\n",
        "      <td> 0.118108</td>\n",
        "    </tr>\n",
        "    <tr>\n",
        "      <th>v5</th>\n",
        "      <td> 2.481793</td>\n",
        "      <td> 0.039789</td>\n",
        "      <td> 7.445380</td>\n",
        "      <td>  0.245949</td>\n",
        "      <td> 24.979068</td>\n",
        "      <td> 9.966963</td>\n",
        "    </tr>\n",
        "    <tr>\n",
        "      <th>v6</th>\n",
        "      <td> 0.995951</td>\n",
        "      <td> 0.577927</td>\n",
        "      <td> 2.987853</td>\n",
        "      <td>  0.118108</td>\n",
        "      <td>  9.966963</td>\n",
        "      <td> 4.561731</td>\n",
        "    </tr>\n",
        "  </tbody>\n",
        "</table>\n",
        "</div>"
       ],
       "output_type": "pyout",
       "prompt_number": 6,
       "text": [
        "          v1        v2        v3         v4         v5        v6\n",
        "v1  0.247966  0.004088  0.743897   0.019842   2.481793  0.995951\n",
        "v2  0.004088  0.561573  0.012265   0.038739   0.039789  0.577927\n",
        "v3  0.743897  0.012265  2.231691   0.059527   7.445380  2.987853\n",
        "v4  0.019842  0.038739  0.059527  33.366438   0.245949  0.118108\n",
        "v5  2.481793  0.039789  7.445380   0.245949  24.979068  9.966963\n",
        "v6  0.995951  0.577927  2.987853   0.118108   9.966963  4.561731"
       ]
      }
     ],
     "prompt_number": 6
    },
    {
     "cell_type": "code",
     "collapsed": false,
     "input": [
      "df.corr()"
     ],
     "language": "python",
     "metadata": {},
     "outputs": [
      {
       "html": [
        "<div style=\"max-height:1000px;max-width:1500px;overflow:auto;\">\n",
        "<table border=\"1\" class=\"dataframe\">\n",
        "  <thead>\n",
        "    <tr style=\"text-align: right;\">\n",
        "      <th></th>\n",
        "      <th>v1</th>\n",
        "      <th>v2</th>\n",
        "      <th>v3</th>\n",
        "      <th>v4</th>\n",
        "      <th>v5</th>\n",
        "      <th>v6</th>\n",
        "    </tr>\n",
        "  </thead>\n",
        "  <tbody>\n",
        "    <tr>\n",
        "      <th>v1</th>\n",
        "      <td> 1.000000</td>\n",
        "      <td> 0.010956</td>\n",
        "      <td> 1.000000</td>\n",
        "      <td> 0.006898</td>\n",
        "      <td> 0.997199</td>\n",
        "      <td> 0.936434</td>\n",
        "    </tr>\n",
        "    <tr>\n",
        "      <th>v2</th>\n",
        "      <td> 0.010956</td>\n",
        "      <td> 1.000000</td>\n",
        "      <td> 0.010956</td>\n",
        "      <td> 0.008949</td>\n",
        "      <td> 0.010624</td>\n",
        "      <td> 0.361081</td>\n",
        "    </tr>\n",
        "    <tr>\n",
        "      <th>v3</th>\n",
        "      <td> 1.000000</td>\n",
        "      <td> 0.010956</td>\n",
        "      <td> 1.000000</td>\n",
        "      <td> 0.006898</td>\n",
        "      <td> 0.997199</td>\n",
        "      <td> 0.936434</td>\n",
        "    </tr>\n",
        "    <tr>\n",
        "      <th>v4</th>\n",
        "      <td> 0.006898</td>\n",
        "      <td> 0.008949</td>\n",
        "      <td> 0.006898</td>\n",
        "      <td> 1.000000</td>\n",
        "      <td> 0.008519</td>\n",
        "      <td> 0.009573</td>\n",
        "    </tr>\n",
        "    <tr>\n",
        "      <th>v5</th>\n",
        "      <td> 0.997199</td>\n",
        "      <td> 0.010624</td>\n",
        "      <td> 0.997199</td>\n",
        "      <td> 0.008519</td>\n",
        "      <td> 1.000000</td>\n",
        "      <td> 0.933705</td>\n",
        "    </tr>\n",
        "    <tr>\n",
        "      <th>v6</th>\n",
        "      <td> 0.936434</td>\n",
        "      <td> 0.361081</td>\n",
        "      <td> 0.936434</td>\n",
        "      <td> 0.009573</td>\n",
        "      <td> 0.933705</td>\n",
        "      <td> 1.000000</td>\n",
        "    </tr>\n",
        "  </tbody>\n",
        "</table>\n",
        "</div>"
       ],
       "output_type": "pyout",
       "prompt_number": 26,
       "text": [
        "          v1        v2        v3        v4        v5        v6\n",
        "v1  1.000000  0.010956  1.000000  0.006898  0.997199  0.936434\n",
        "v2  0.010956  1.000000  0.010956  0.008949  0.010624  0.361081\n",
        "v3  1.000000  0.010956  1.000000  0.006898  0.997199  0.936434\n",
        "v4  0.006898  0.008949  0.006898  1.000000  0.008519  0.009573\n",
        "v5  0.997199  0.010624  0.997199  0.008519  1.000000  0.933705\n",
        "v6  0.936434  0.361081  0.936434  0.009573  0.933705  1.000000"
       ]
      }
     ],
     "prompt_number": 26
    },
    {
     "cell_type": "code",
     "collapsed": false,
     "input": [
      "U,S,V = np.linalg.svd(df)"
     ],
     "language": "python",
     "metadata": {},
     "outputs": [],
     "prompt_number": 8
    },
    {
     "cell_type": "code",
     "collapsed": false,
     "input": [
      "Series(S)"
     ],
     "language": "python",
     "metadata": {},
     "outputs": [
      {
       "output_type": "pyout",
       "prompt_number": 16,
       "text": [
        "0    2.461739e+03\n",
        "1    5.776395e+02\n",
        "2    5.118762e+02\n",
        "3    5.232475e+01\n",
        "4    4.228912e+00\n",
        "5    3.276289e-12\n",
        "dtype: float64"
       ]
      }
     ],
     "prompt_number": 16
    },
    {
     "cell_type": "code",
     "collapsed": false,
     "input": [
      "V = DataFrame(V)\n",
      "V[V<0.001]=0\n",
      "V"
     ],
     "language": "python",
     "metadata": {},
     "outputs": [
      {
       "html": [
        "<div style=\"max-height:1000px;max-width:1500px;overflow:auto;\">\n",
        "<table border=\"1\" class=\"dataframe\">\n",
        "  <thead>\n",
        "    <tr style=\"text-align: right;\">\n",
        "      <th></th>\n",
        "      <th>0</th>\n",
        "      <th>1</th>\n",
        "      <th>2</th>\n",
        "      <th>3</th>\n",
        "      <th>4</th>\n",
        "      <th>5</th>\n",
        "    </tr>\n",
        "  </thead>\n",
        "  <tbody>\n",
        "    <tr>\n",
        "      <th>0</th>\n",
        "      <td> 0.000000</td>\n",
        "      <td> 0.0</td>\n",
        "      <td> 0.000000</td>\n",
        "      <td> 0.000000</td>\n",
        "      <td> 0.00000</td>\n",
        "      <td> 0.000000</td>\n",
        "    </tr>\n",
        "    <tr>\n",
        "      <th>1</th>\n",
        "      <td> 0.002499</td>\n",
        "      <td> 0.0</td>\n",
        "      <td> 0.000000</td>\n",
        "      <td> 0.999621</td>\n",
        "      <td> 0.02654</td>\n",
        "      <td> 0.000000</td>\n",
        "    </tr>\n",
        "    <tr>\n",
        "      <th>2</th>\n",
        "      <td> 0.096563</td>\n",
        "      <td> 0.0</td>\n",
        "      <td> 0.106076</td>\n",
        "      <td> 0.000000</td>\n",
        "      <td> 0.97153</td>\n",
        "      <td> 0.016809</td>\n",
        "    </tr>\n",
        "    <tr>\n",
        "      <th>3</th>\n",
        "      <td> 0.000000</td>\n",
        "      <td> 0.0</td>\n",
        "      <td> 0.695710</td>\n",
        "      <td> 0.001045</td>\n",
        "      <td> 0.00000</td>\n",
        "      <td> 0.000000</td>\n",
        "    </tr>\n",
        "    <tr>\n",
        "      <th>4</th>\n",
        "      <td> 0.860556</td>\n",
        "      <td> 0.0</td>\n",
        "      <td> 0.000000</td>\n",
        "      <td> 0.000000</td>\n",
        "      <td> 0.00000</td>\n",
        "      <td> 0.286849</td>\n",
        "    </tr>\n",
        "    <tr>\n",
        "      <th>5</th>\n",
        "      <td> 0.500000</td>\n",
        "      <td> 0.5</td>\n",
        "      <td> 0.500000</td>\n",
        "      <td> 0.000000</td>\n",
        "      <td> 0.00000</td>\n",
        "      <td> 0.000000</td>\n",
        "    </tr>\n",
        "  </tbody>\n",
        "</table>\n",
        "</div>"
       ],
       "output_type": "pyout",
       "prompt_number": 14,
       "text": [
        "          0    1         2         3        4         5\n",
        "0  0.000000  0.0  0.000000  0.000000  0.00000  0.000000\n",
        "1  0.002499  0.0  0.000000  0.999621  0.02654  0.000000\n",
        "2  0.096563  0.0  0.106076  0.000000  0.97153  0.016809\n",
        "3  0.000000  0.0  0.695710  0.001045  0.00000  0.000000\n",
        "4  0.860556  0.0  0.000000  0.000000  0.00000  0.286849\n",
        "5  0.500000  0.5  0.500000  0.000000  0.00000  0.000000"
       ]
      }
     ],
     "prompt_number": 14
    },
    {
     "cell_type": "code",
     "collapsed": false,
     "input": [
      "df.corr()"
     ],
     "language": "python",
     "metadata": {},
     "outputs": [
      {
       "html": [
        "<div style=\"max-height:1000px;max-width:1500px;overflow:auto;\">\n",
        "<table border=\"1\" class=\"dataframe\">\n",
        "  <thead>\n",
        "    <tr style=\"text-align: right;\">\n",
        "      <th></th>\n",
        "      <th>v1</th>\n",
        "      <th>v2</th>\n",
        "      <th>v3</th>\n",
        "      <th>v4</th>\n",
        "      <th>v5</th>\n",
        "      <th>v6</th>\n",
        "    </tr>\n",
        "  </thead>\n",
        "  <tbody>\n",
        "    <tr>\n",
        "      <th>v1</th>\n",
        "      <td> 1.000000</td>\n",
        "      <td> 0.010956</td>\n",
        "      <td> 1.000000</td>\n",
        "      <td> 0.006898</td>\n",
        "      <td> 0.997199</td>\n",
        "      <td> 0.936434</td>\n",
        "    </tr>\n",
        "    <tr>\n",
        "      <th>v2</th>\n",
        "      <td> 0.010956</td>\n",
        "      <td> 1.000000</td>\n",
        "      <td> 0.010956</td>\n",
        "      <td> 0.008949</td>\n",
        "      <td> 0.010624</td>\n",
        "      <td> 0.361081</td>\n",
        "    </tr>\n",
        "    <tr>\n",
        "      <th>v3</th>\n",
        "      <td> 1.000000</td>\n",
        "      <td> 0.010956</td>\n",
        "      <td> 1.000000</td>\n",
        "      <td> 0.006898</td>\n",
        "      <td> 0.997199</td>\n",
        "      <td> 0.936434</td>\n",
        "    </tr>\n",
        "    <tr>\n",
        "      <th>v4</th>\n",
        "      <td> 0.006898</td>\n",
        "      <td> 0.008949</td>\n",
        "      <td> 0.006898</td>\n",
        "      <td> 1.000000</td>\n",
        "      <td> 0.008519</td>\n",
        "      <td> 0.009573</td>\n",
        "    </tr>\n",
        "    <tr>\n",
        "      <th>v5</th>\n",
        "      <td> 0.997199</td>\n",
        "      <td> 0.010624</td>\n",
        "      <td> 0.997199</td>\n",
        "      <td> 0.008519</td>\n",
        "      <td> 1.000000</td>\n",
        "      <td> 0.933705</td>\n",
        "    </tr>\n",
        "    <tr>\n",
        "      <th>v6</th>\n",
        "      <td> 0.936434</td>\n",
        "      <td> 0.361081</td>\n",
        "      <td> 0.936434</td>\n",
        "      <td> 0.009573</td>\n",
        "      <td> 0.933705</td>\n",
        "      <td> 1.000000</td>\n",
        "    </tr>\n",
        "  </tbody>\n",
        "</table>\n",
        "</div>"
       ],
       "output_type": "pyout",
       "prompt_number": 27,
       "text": [
        "          v1        v2        v3        v4        v5        v6\n",
        "v1  1.000000  0.010956  1.000000  0.006898  0.997199  0.936434\n",
        "v2  0.010956  1.000000  0.010956  0.008949  0.010624  0.361081\n",
        "v3  1.000000  0.010956  1.000000  0.006898  0.997199  0.936434\n",
        "v4  0.006898  0.008949  0.006898  1.000000  0.008519  0.009573\n",
        "v5  0.997199  0.010624  0.997199  0.008519  1.000000  0.933705\n",
        "v6  0.936434  0.361081  0.936434  0.009573  0.933705  1.000000"
       ]
      }
     ],
     "prompt_number": 27
    },
    {
     "cell_type": "code",
     "collapsed": false,
     "input": [
      "stddf = df.sub(df.mean()).describe()\n",
      "print(stddf.cov())"
     ],
     "language": "python",
     "metadata": {},
     "outputs": [
      {
       "output_type": "stream",
       "stream": "stdout",
       "text": [
        "                 v1               v2               v3               v4  \\\n",
        "v1  12499774.901795  12499761.023268  12499550.957176  12498879.460149   \n",
        "v2  12499761.023268  12499747.356090  12499538.057453  12498867.884048   \n",
        "v3  12499550.957176  12499538.057453  12499331.626895  12498666.028934   \n",
        "v4  12498879.460149  12498867.884048  12498666.028934  12498012.387348   \n",
        "v5  12499221.653703  12499212.106789  12499017.962439  12498372.752814   \n",
        "v6  12499501.996624  12499489.483402  12499284.438758  12498621.464544   \n",
        "\n",
        "                 v5               v6  \n",
        "v1  12499221.653703  12499501.996624  \n",
        "v2  12499212.106789  12499489.483402  \n",
        "v3  12499017.962439  12499284.438758  \n",
        "v4  12498372.752814  12498621.464544  \n",
        "v5  12498757.668284  12498976.866422  \n",
        "v6  12498976.866422  12499237.969240  \n"
       ]
      }
     ],
     "prompt_number": 29
    },
    {
     "cell_type": "code",
     "collapsed": false,
     "input": [
      "latent, coeff = linalg.eig(stddf.cov())"
     ],
     "language": "python",
     "metadata": {},
     "outputs": [],
     "prompt_number": 30
    },
    {
     "cell_type": "code",
     "collapsed": false,
     "input": [
      "DataFrame(coeff)"
     ],
     "language": "python",
     "metadata": {},
     "outputs": [
      {
       "html": [
        "<div style=\"max-height:1000px;max-width:1500px;overflow:auto;\">\n",
        "<table border=\"1\" class=\"dataframe\">\n",
        "  <thead>\n",
        "    <tr style=\"text-align: right;\">\n",
        "      <th></th>\n",
        "      <th>0</th>\n",
        "      <th>1</th>\n",
        "      <th>2</th>\n",
        "      <th>3</th>\n",
        "      <th>4</th>\n",
        "      <th>5</th>\n",
        "    </tr>\n",
        "  </thead>\n",
        "  <tbody>\n",
        "    <tr>\n",
        "      <th>0</th>\n",
        "      <td> 0.408259</td>\n",
        "      <td> 0.427506</td>\n",
        "      <td>-0.097629</td>\n",
        "      <td>-0.297606</td>\n",
        "      <td> 0.717532</td>\n",
        "      <td>-0.193934</td>\n",
        "    </tr>\n",
        "    <tr>\n",
        "      <th>1</th>\n",
        "      <td> 0.408258</td>\n",
        "      <td> 0.368728</td>\n",
        "      <td>-0.099061</td>\n",
        "      <td>-0.487072</td>\n",
        "      <td>-0.670932</td>\n",
        "      <td>-0.012789</td>\n",
        "    </tr>\n",
        "    <tr>\n",
        "      <th>2</th>\n",
        "      <td> 0.408252</td>\n",
        "      <td> 0.153725</td>\n",
        "      <td>-0.178969</td>\n",
        "      <td> 0.736024</td>\n",
        "      <td>-0.166302</td>\n",
        "      <td>-0.456380</td>\n",
        "    </tr>\n",
        "    <tr>\n",
        "      <th>3</th>\n",
        "      <td> 0.408230</td>\n",
        "      <td>-0.215985</td>\n",
        "      <td> 0.885130</td>\n",
        "      <td>-0.001184</td>\n",
        "      <td> 0.000964</td>\n",
        "      <td>-0.056935</td>\n",
        "    </tr>\n",
        "    <tr>\n",
        "      <th>4</th>\n",
        "      <td> 0.408242</td>\n",
        "      <td>-0.780292</td>\n",
        "      <td>-0.387778</td>\n",
        "      <td>-0.231219</td>\n",
        "      <td> 0.047279</td>\n",
        "      <td>-0.135699</td>\n",
        "    </tr>\n",
        "    <tr>\n",
        "      <th>5</th>\n",
        "      <td> 0.408250</td>\n",
        "      <td> 0.046274</td>\n",
        "      <td>-0.121654</td>\n",
        "      <td> 0.281065</td>\n",
        "      <td> 0.071459</td>\n",
        "      <td> 0.855738</td>\n",
        "    </tr>\n",
        "  </tbody>\n",
        "</table>\n",
        "</div>"
       ],
       "output_type": "pyout",
       "prompt_number": 35,
       "text": [
        "          0         1         2         3         4         5\n",
        "0  0.408259  0.427506 -0.097629 -0.297606  0.717532 -0.193934\n",
        "1  0.408258  0.368728 -0.099061 -0.487072 -0.670932 -0.012789\n",
        "2  0.408252  0.153725 -0.178969  0.736024 -0.166302 -0.456380\n",
        "3  0.408230 -0.215985  0.885130 -0.001184  0.000964 -0.056935\n",
        "4  0.408242 -0.780292 -0.387778 -0.231219  0.047279 -0.135699\n",
        "5  0.408250  0.046274 -0.121654  0.281065  0.071459  0.855738"
       ]
      }
     ],
     "prompt_number": 35
    },
    {
     "cell_type": "heading",
     "level": 1,
     "metadata": {},
     "source": [
      "Arrays & Matrices:"
     ]
    },
    {
     "cell_type": "code",
     "collapsed": false,
     "input": [
      "# false tolerant value retieval:\n",
      "dict = {'a':1,'b':2}\n",
      "dict.get('t',-1)  # return -1 if key is not in the dictionary"
     ],
     "language": "python",
     "metadata": {},
     "outputs": [
      {
       "output_type": "pyout",
       "prompt_number": 195,
       "text": [
        "-1"
       ]
      }
     ],
     "prompt_number": 195
    },
    {
     "cell_type": "code",
     "collapsed": false,
     "input": [
      "x = np.array(range(3))\n",
      "print(x.dot(x))\n",
      "x * x   # elementwise *"
     ],
     "language": "python",
     "metadata": {},
     "outputs": [
      {
       "output_type": "stream",
       "stream": "stdout",
       "text": [
        "5\n"
       ]
      },
      {
       "output_type": "pyout",
       "prompt_number": 2,
       "text": [
        "array([0, 1, 4])"
       ]
      }
     ],
     "prompt_number": 2
    },
    {
     "cell_type": "code",
     "collapsed": false,
     "input": [
      "x = np.array([0, 1])\n",
      "y = np.array([2, 3])\n",
      "x * y"
     ],
     "language": "python",
     "metadata": {},
     "outputs": [],
     "prompt_number": 8
    },
    {
     "cell_type": "code",
     "collapsed": false,
     "input": [
      "e = np.identity(3)\n",
      "e"
     ],
     "language": "python",
     "metadata": {},
     "outputs": [
      {
       "output_type": "pyout",
       "prompt_number": 2,
       "text": [
        "array([[ 1.,  0.,  0.],\n",
        "       [ 0.,  1.,  0.],\n",
        "       [ 0.,  0.,  1.]])"
       ]
      }
     ],
     "prompt_number": 2
    },
    {
     "cell_type": "code",
     "collapsed": false,
     "input": [
      "m = np.arange(6).reshape(3,2)\n",
      "m"
     ],
     "language": "python",
     "metadata": {},
     "outputs": [
      {
       "output_type": "pyout",
       "prompt_number": 3,
       "text": [
        "array([[0, 1],\n",
        "       [2, 3],\n",
        "       [4, 5]])"
       ]
      }
     ],
     "prompt_number": 3
    },
    {
     "cell_type": "code",
     "collapsed": false,
     "input": [
      "m[0,:]"
     ],
     "language": "python",
     "metadata": {},
     "outputs": [
      {
       "output_type": "pyout",
       "prompt_number": 133,
       "text": [
        "array([0, 1])"
       ]
      }
     ],
     "prompt_number": 133
    },
    {
     "cell_type": "code",
     "collapsed": false,
     "input": [
      "m[:,:1]"
     ],
     "language": "python",
     "metadata": {},
     "outputs": [
      {
       "output_type": "pyout",
       "prompt_number": 128,
       "text": [
        "array([[0],\n",
        "       [2],\n",
        "       [4]])"
       ]
      }
     ],
     "prompt_number": 128
    },
    {
     "cell_type": "code",
     "collapsed": false,
     "input": [
      "# elementwise multiplication\n",
      "np.multiply(e,np.arange(9).reshape((3,3))) # == e * np.arange(9).reshape((3,3))"
     ],
     "language": "python",
     "metadata": {},
     "outputs": [
      {
       "output_type": "pyout",
       "prompt_number": 7,
       "text": [
        "array([[ 0.,  0.,  0.],\n",
        "       [ 0.,  4.,  0.],\n",
        "       [ 0.,  0.,  8.]])"
       ]
      }
     ],
     "prompt_number": 7
    },
    {
     "cell_type": "code",
     "collapsed": false,
     "input": [
      "# real matrix multiplication\n",
      "np.dot(e,m)"
     ],
     "language": "python",
     "metadata": {},
     "outputs": [
      {
       "output_type": "pyout",
       "prompt_number": 125,
       "text": [
        "array([[ 0.,  1.],\n",
        "       [ 2.,  3.],\n",
        "       [ 4.,  5.]])"
       ]
      }
     ],
     "prompt_number": 125
    },
    {
     "cell_type": "code",
     "collapsed": false,
     "input": [
      "E = np.matrix(e)\n",
      "M = np.matrix(m)\n",
      "E*M"
     ],
     "language": "python",
     "metadata": {},
     "outputs": [
      {
       "output_type": "pyout",
       "prompt_number": 130,
       "text": [
        "matrix([[ 0.,  1.],\n",
        "        [ 2.,  3.],\n",
        "        [ 4.,  5.]])"
       ]
      }
     ],
     "prompt_number": 130
    },
    {
     "cell_type": "code",
     "collapsed": false,
     "input": [
      "M[0,:]"
     ],
     "language": "python",
     "metadata": {},
     "outputs": [
      {
       "output_type": "pyout",
       "prompt_number": 132,
       "text": [
        "matrix([[0, 1]])"
       ]
      }
     ],
     "prompt_number": 132
    },
    {
     "cell_type": "code",
     "collapsed": false,
     "input": [
      "M[:,0]"
     ],
     "language": "python",
     "metadata": {},
     "outputs": [
      {
       "output_type": "pyout",
       "prompt_number": 131,
       "text": [
        "matrix([[0],\n",
        "        [2],\n",
        "        [4]])"
       ]
      }
     ],
     "prompt_number": 131
    },
    {
     "cell_type": "heading",
     "level": 1,
     "metadata": {},
     "source": [
      "Broadcasting:"
     ]
    },
    {
     "cell_type": "code",
     "collapsed": false,
     "input": [
      "arr_1d = np.random.normal(size=3)\n",
      "arr_1d"
     ],
     "language": "python",
     "metadata": {},
     "outputs": [
      {
       "output_type": "pyout",
       "prompt_number": 10,
       "text": [
        "array([-1.58033814, -0.29357562,  0.45257015])"
       ]
      }
     ],
     "prompt_number": 10
    },
    {
     "cell_type": "code",
     "collapsed": false,
     "input": [
      "arr_1d[:, np.newaxis]"
     ],
     "language": "python",
     "metadata": {},
     "outputs": [
      {
       "output_type": "pyout",
       "prompt_number": 11,
       "text": [
        "array([[-1.58033814],\n",
        "       [-0.29357562],\n",
        "       [ 0.45257015]])"
       ]
      }
     ],
     "prompt_number": 11
    },
    {
     "cell_type": "code",
     "collapsed": false,
     "input": [
      "arr_1d[np.newaxis, :]"
     ],
     "language": "python",
     "metadata": {},
     "outputs": [
      {
       "output_type": "pyout",
       "prompt_number": 9,
       "text": [
        "array([[-1.71826784, -0.81097857, -0.0277865 ]])"
       ]
      }
     ],
     "prompt_number": 9
    },
    {
     "cell_type": "code",
     "collapsed": false,
     "input": [
      "arr = randn(3, 4, 5)\n",
      "arr.shape"
     ],
     "language": "python",
     "metadata": {},
     "outputs": [
      {
       "output_type": "pyout",
       "prompt_number": 12,
       "text": [
        "(3L, 4L, 5L)"
       ]
      }
     ],
     "prompt_number": 12
    },
    {
     "cell_type": "code",
     "collapsed": false,
     "input": [
      "depth_means = arr.mean(2)\n",
      "print(depth_means.shape)\n",
      "print(depth_means[:, :, np.newaxis].shape)"
     ],
     "language": "python",
     "metadata": {},
     "outputs": [
      {
       "output_type": "stream",
       "stream": "stdout",
       "text": [
        "(3L, 4L)\n",
        "(3L, 4L, 1L)\n"
       ]
      }
     ],
     "prompt_number": 17
    },
    {
     "cell_type": "code",
     "collapsed": false,
     "input": [
      "demean = arr - depth_means[:, :, np.newaxis]\n",
      "demean.mean(2)"
     ],
     "language": "python",
     "metadata": {},
     "outputs": [
      {
       "output_type": "pyout",
       "prompt_number": 15,
       "text": [
        "array([[  0.00000000e+00,  -6.66133815e-17,  -2.22044605e-17,\n",
        "          0.00000000e+00],\n",
        "       [  1.11022302e-17,   0.00000000e+00,   0.00000000e+00,\n",
        "         -6.66133815e-17],\n",
        "       [  2.22044605e-17,  -4.44089210e-17,   0.00000000e+00,\n",
        "          4.44089210e-17]])"
       ]
      }
     ],
     "prompt_number": 15
    },
    {
     "cell_type": "code",
     "collapsed": false,
     "input": [
      "arr = np.zeros((4, 3))\n",
      "arr[:2] = [[-1.37], [0.509]]\n",
      "arr"
     ],
     "language": "python",
     "metadata": {},
     "outputs": [
      {
       "output_type": "pyout",
       "prompt_number": 22,
       "text": [
        "array([[-1.37 , -1.37 , -1.37 ],\n",
        "       [ 0.509,  0.509,  0.509],\n",
        "       [ 0.   ,  0.   ,  0.   ],\n",
        "       [ 0.   ,  0.   ,  0.   ]])"
       ]
      }
     ],
     "prompt_number": 22
    },
    {
     "cell_type": "code",
     "collapsed": false,
     "input": [
      "arr = np.zeros((4, 3))\n",
      "arr[:,:2] = [-1.37, 0.509]\n",
      "arr"
     ],
     "language": "python",
     "metadata": {},
     "outputs": [
      {
       "output_type": "pyout",
       "prompt_number": 24,
       "text": [
        "array([[-1.37 ,  0.509,  0.   ],\n",
        "       [-1.37 ,  0.509,  0.   ],\n",
        "       [-1.37 ,  0.509,  0.   ],\n",
        "       [-1.37 ,  0.509,  0.   ]])"
       ]
      }
     ],
     "prompt_number": 24
    },
    {
     "cell_type": "heading",
     "level": 1,
     "metadata": {},
     "source": [
      "Series & DataFrames"
     ]
    },
    {
     "cell_type": "code",
     "collapsed": false,
     "input": [
      "ser = Series([1,4,\"three\",5.])\n",
      "print(ser.values)"
     ],
     "language": "python",
     "metadata": {},
     "outputs": [
      {
       "output_type": "stream",
       "stream": "stdout",
       "text": [
        "Int64Index([0, 1, 2, 3], dtype=int64)\n",
        "[1 4 'three' 5.0]\n"
       ]
      }
     ],
     "prompt_number": 6
    },
    {
     "cell_type": "code",
     "collapsed": false,
     "input": [
      "ser  = Series([1,4,\"three\",5.], index=['dim1','dim2','name','val'])\n",
      "print(ser.index)"
     ],
     "language": "python",
     "metadata": {},
     "outputs": [
      {
       "output_type": "stream",
       "stream": "stdout",
       "text": [
        "Index([dim1, dim2, name, val], dtype=object)\n"
       ]
      }
     ],
     "prompt_number": 9
    },
    {
     "cell_type": "code",
     "collapsed": false,
     "input": [
      "print(ser['val'])\n",
      "print(ser[(ser == 5)|(ser == 1)])"
     ],
     "language": "python",
     "metadata": {},
     "outputs": [
      {
       "output_type": "stream",
       "stream": "stdout",
       "text": [
        "5.0\n",
        "dim1    1\n",
        "val     5\n",
        "dtype: object\n"
       ]
      }
     ],
     "prompt_number": 18
    },
    {
     "cell_type": "code",
     "collapsed": false,
     "input": [
      "ser2 = Series({'Ohio': 35000, 'Texas': 71000, 'Oregon': 16000, 'Utah': 5000})\n",
      "print(ser2)"
     ],
     "language": "python",
     "metadata": {},
     "outputs": [
      {
       "output_type": "stream",
       "stream": "stdout",
       "text": [
        "Ohio      35000\n",
        "Oregon    16000\n",
        "Texas     71000\n",
        "Utah       5000\n",
        "dtype: int64\n"
       ]
      }
     ],
     "prompt_number": 19
    },
    {
     "cell_type": "code",
     "collapsed": false,
     "input": [
      "ser3 = Series({'Ohio': 35000, 'Texas': 71000, 'Oregon': 16000, 'Utah': 5000}, index = ['Texas','Ohio','Berlin','Oregon','Utah'])\n",
      "print(ser3)"
     ],
     "language": "python",
     "metadata": {},
     "outputs": [
      {
       "output_type": "stream",
       "stream": "stdout",
       "text": [
        "Texas     71000\n",
        "Ohio      35000\n",
        "Berlin      NaN\n",
        "Oregon    16000\n",
        "Utah       5000\n",
        "dtype: float64\n"
       ]
      }
     ],
     "prompt_number": 21
    },
    {
     "cell_type": "code",
     "collapsed": false,
     "input": [
      "ser3.index = ['T','O','B','OR','U']\n",
      "print(ser3)"
     ],
     "language": "python",
     "metadata": {},
     "outputs": [
      {
       "output_type": "stream",
       "stream": "stdout",
       "text": [
        "T     71000\n",
        "O     35000\n",
        "B       NaN\n",
        "OR    16000\n",
        "U      5000\n",
        "dtype: float64\n"
       ]
      }
     ],
     "prompt_number": 22
    },
    {
     "cell_type": "code",
     "collapsed": false,
     "input": [
      "ser4 = Series([4.5, 7.2, -5.3, 3.6], index=['d', 'b', 'a', 'c'])\n",
      "print(ser4)\n",
      "print(ser4.reindex(['a','aa','b','c','d','e'],fill_value=99))"
     ],
     "language": "python",
     "metadata": {},
     "outputs": [
      {
       "output_type": "stream",
       "stream": "stdout",
       "text": [
        "d    4.5\n",
        "b    7.2\n",
        "a   -5.3\n",
        "c    3.6\n",
        "dtype: float64\n",
        "a     -5.3\n",
        "aa    99.0\n",
        "b      7.2\n",
        "c      3.6\n",
        "d      4.5\n",
        "e     99.0\n",
        "dtype: float64\n"
       ]
      }
     ],
     "prompt_number": 80
    },
    {
     "cell_type": "code",
     "collapsed": false,
     "input": [
      "ser5 = Series(['blue', 'purple', 'yellow'], index=[0, 2, 4])\n",
      "ser5.reindex(range(6), method='ffill')"
     ],
     "language": "python",
     "metadata": {},
     "outputs": [
      {
       "output_type": "pyout",
       "prompt_number": 81,
       "text": [
        "0      blue\n",
        "1      blue\n",
        "2    purple\n",
        "3    purple\n",
        "4    yellow\n",
        "5    yellow\n",
        "dtype: object"
       ]
      }
     ],
     "prompt_number": 81
    },
    {
     "cell_type": "code",
     "collapsed": false,
     "input": [
      "ser4"
     ],
     "language": "python",
     "metadata": {},
     "outputs": [
      {
       "output_type": "pyout",
       "prompt_number": 75,
       "text": [
        "d    4.5\n",
        "b    7.2\n",
        "a   -5.3\n",
        "c    3.6\n",
        "dtype: float64"
       ]
      }
     ],
     "prompt_number": 75
    },
    {
     "cell_type": "code",
     "collapsed": false,
     "input": [
      "data = {'state': ['Ohio', 'Ohio', 'Ohio', 'Nevada', 'Nevada'], 'year': [2000, 2001, 2002, 2001, 2002],'popp': [1.5, 1.7, 3.6, 2.4, 2.9]}\n",
      "df = DataFrame(data, columns=['year', 'state', 'popp', 'debt'], index=['one', 'two', 'three', 'four', 'five'])\n",
      "df"
     ],
     "language": "python",
     "metadata": {},
     "outputs": [
      {
       "html": [
        "<div style=\"max-height:1000px;max-width:1500px;overflow:auto;\">\n",
        "<table border=\"1\" class=\"dataframe\">\n",
        "  <thead>\n",
        "    <tr style=\"text-align: right;\">\n",
        "      <th></th>\n",
        "      <th>year</th>\n",
        "      <th>state</th>\n",
        "      <th>popp</th>\n",
        "      <th>debt</th>\n",
        "    </tr>\n",
        "  </thead>\n",
        "  <tbody>\n",
        "    <tr>\n",
        "      <th>one</th>\n",
        "      <td> 2000</td>\n",
        "      <td>   Ohio</td>\n",
        "      <td> 1.5</td>\n",
        "      <td> NaN</td>\n",
        "    </tr>\n",
        "    <tr>\n",
        "      <th>two</th>\n",
        "      <td> 2001</td>\n",
        "      <td>   Ohio</td>\n",
        "      <td> 1.7</td>\n",
        "      <td> NaN</td>\n",
        "    </tr>\n",
        "    <tr>\n",
        "      <th>three</th>\n",
        "      <td> 2002</td>\n",
        "      <td>   Ohio</td>\n",
        "      <td> 3.6</td>\n",
        "      <td> NaN</td>\n",
        "    </tr>\n",
        "    <tr>\n",
        "      <th>four</th>\n",
        "      <td> 2001</td>\n",
        "      <td> Nevada</td>\n",
        "      <td> 2.4</td>\n",
        "      <td> NaN</td>\n",
        "    </tr>\n",
        "    <tr>\n",
        "      <th>five</th>\n",
        "      <td> 2002</td>\n",
        "      <td> Nevada</td>\n",
        "      <td> 2.9</td>\n",
        "      <td> NaN</td>\n",
        "    </tr>\n",
        "  </tbody>\n",
        "</table>\n",
        "</div>"
       ],
       "output_type": "pyout",
       "prompt_number": 45,
       "text": [
        "       year   state  popp debt\n",
        "one    2000    Ohio   1.5  NaN\n",
        "two    2001    Ohio   1.7  NaN\n",
        "three  2002    Ohio   3.6  NaN\n",
        "four   2001  Nevada   2.4  NaN\n",
        "five   2002  Nevada   2.9  NaN"
       ]
      }
     ],
     "prompt_number": 45
    },
    {
     "cell_type": "code",
     "collapsed": false,
     "input": [
      "df.ix['four'] # == df.ix[3]"
     ],
     "language": "python",
     "metadata": {},
     "outputs": [
      {
       "output_type": "pyout",
       "prompt_number": 49,
       "text": [
        "year       2001\n",
        "state    Nevada\n",
        "popp        2.4\n",
        "debt        NaN\n",
        "Name: four, dtype: object"
       ]
      }
     ],
     "prompt_number": 49
    },
    {
     "cell_type": "code",
     "collapsed": false,
     "input": [
      "print(df.ix['one','state'])\n",
      "df.ix[['one','two'],['state','popp']]"
     ],
     "language": "python",
     "metadata": {},
     "outputs": [
      {
       "output_type": "stream",
       "stream": "stdout",
       "text": [
        "Ohio\n"
       ]
      },
      {
       "html": [
        "<div style=\"max-height:1000px;max-width:1500px;overflow:auto;\">\n",
        "<table border=\"1\" class=\"dataframe\">\n",
        "  <thead>\n",
        "    <tr style=\"text-align: right;\">\n",
        "      <th></th>\n",
        "      <th>state</th>\n",
        "      <th>popp</th>\n",
        "    </tr>\n",
        "  </thead>\n",
        "  <tbody>\n",
        "    <tr>\n",
        "      <th>one</th>\n",
        "      <td> Ohio</td>\n",
        "      <td> 1.5</td>\n",
        "    </tr>\n",
        "    <tr>\n",
        "      <th>two</th>\n",
        "      <td> Ohio</td>\n",
        "      <td> 1.7</td>\n",
        "    </tr>\n",
        "  </tbody>\n",
        "</table>\n",
        "</div>"
       ],
       "output_type": "pyout",
       "prompt_number": 71,
       "text": [
        "    state  popp\n",
        "one  Ohio   1.5\n",
        "two  Ohio   1.7"
       ]
      }
     ],
     "prompt_number": 71
    },
    {
     "cell_type": "code",
     "collapsed": false,
     "input": [
      "df['popp'] == df.popp"
     ],
     "language": "python",
     "metadata": {},
     "outputs": [
      {
       "output_type": "pyout",
       "prompt_number": 48,
       "text": [
        "one      True\n",
        "two      True\n",
        "three    True\n",
        "four     True\n",
        "five     True\n",
        "Name: popp, dtype: bool"
       ]
      }
     ],
     "prompt_number": 48
    },
    {
     "cell_type": "code",
     "collapsed": false,
     "input": [
      "df['newcol'] = np.arange(5)\n",
      "df"
     ],
     "language": "python",
     "metadata": {},
     "outputs": [
      {
       "html": [
        "<div style=\"max-height:1000px;max-width:1500px;overflow:auto;\">\n",
        "<table border=\"1\" class=\"dataframe\">\n",
        "  <thead>\n",
        "    <tr style=\"text-align: right;\">\n",
        "      <th></th>\n",
        "      <th>year</th>\n",
        "      <th>state</th>\n",
        "      <th>popp</th>\n",
        "      <th>debt</th>\n",
        "      <th>newcol</th>\n",
        "    </tr>\n",
        "  </thead>\n",
        "  <tbody>\n",
        "    <tr>\n",
        "      <th>one</th>\n",
        "      <td> 2000</td>\n",
        "      <td>   Ohio</td>\n",
        "      <td> 1.5</td>\n",
        "      <td> NaN</td>\n",
        "      <td> 0</td>\n",
        "    </tr>\n",
        "    <tr>\n",
        "      <th>two</th>\n",
        "      <td> 2001</td>\n",
        "      <td>   Ohio</td>\n",
        "      <td> 1.7</td>\n",
        "      <td> NaN</td>\n",
        "      <td> 1</td>\n",
        "    </tr>\n",
        "    <tr>\n",
        "      <th>three</th>\n",
        "      <td> 2002</td>\n",
        "      <td>   Ohio</td>\n",
        "      <td> 3.6</td>\n",
        "      <td> NaN</td>\n",
        "      <td> 2</td>\n",
        "    </tr>\n",
        "    <tr>\n",
        "      <th>four</th>\n",
        "      <td> 2001</td>\n",
        "      <td> Nevada</td>\n",
        "      <td> 2.4</td>\n",
        "      <td> NaN</td>\n",
        "      <td> 3</td>\n",
        "    </tr>\n",
        "    <tr>\n",
        "      <th>five</th>\n",
        "      <td> 2002</td>\n",
        "      <td> Nevada</td>\n",
        "      <td> 2.9</td>\n",
        "      <td> NaN</td>\n",
        "      <td> 4</td>\n",
        "    </tr>\n",
        "  </tbody>\n",
        "</table>\n",
        "</div>"
       ],
       "output_type": "pyout",
       "prompt_number": 51,
       "text": [
        "       year   state  popp debt  newcol\n",
        "one    2000    Ohio   1.5  NaN       0\n",
        "two    2001    Ohio   1.7  NaN       1\n",
        "three  2002    Ohio   3.6  NaN       2\n",
        "four   2001  Nevada   2.4  NaN       3\n",
        "five   2002  Nevada   2.9  NaN       4"
       ]
      }
     ],
     "prompt_number": 51
    },
    {
     "cell_type": "code",
     "collapsed": false,
     "input": [
      "del df['debt']\n",
      "df"
     ],
     "language": "python",
     "metadata": {},
     "outputs": [
      {
       "html": [
        "<div style=\"max-height:1000px;max-width:1500px;overflow:auto;\">\n",
        "<table border=\"1\" class=\"dataframe\">\n",
        "  <thead>\n",
        "    <tr style=\"text-align: right;\">\n",
        "      <th></th>\n",
        "      <th>year</th>\n",
        "      <th>state</th>\n",
        "      <th>popp</th>\n",
        "      <th>newcol</th>\n",
        "    </tr>\n",
        "  </thead>\n",
        "  <tbody>\n",
        "    <tr>\n",
        "      <th>one</th>\n",
        "      <td> 2000</td>\n",
        "      <td>   Ohio</td>\n",
        "      <td> 1.5</td>\n",
        "      <td> 0</td>\n",
        "    </tr>\n",
        "    <tr>\n",
        "      <th>two</th>\n",
        "      <td> 2001</td>\n",
        "      <td>   Ohio</td>\n",
        "      <td> 1.7</td>\n",
        "      <td> 1</td>\n",
        "    </tr>\n",
        "    <tr>\n",
        "      <th>three</th>\n",
        "      <td> 2002</td>\n",
        "      <td>   Ohio</td>\n",
        "      <td> 3.6</td>\n",
        "      <td> 2</td>\n",
        "    </tr>\n",
        "    <tr>\n",
        "      <th>four</th>\n",
        "      <td> 2001</td>\n",
        "      <td> Nevada</td>\n",
        "      <td> 2.4</td>\n",
        "      <td> 3</td>\n",
        "    </tr>\n",
        "    <tr>\n",
        "      <th>five</th>\n",
        "      <td> 2002</td>\n",
        "      <td> Nevada</td>\n",
        "      <td> 2.9</td>\n",
        "      <td> 4</td>\n",
        "    </tr>\n",
        "  </tbody>\n",
        "</table>\n",
        "</div>"
       ],
       "output_type": "pyout",
       "prompt_number": 53,
       "text": [
        "       year   state  popp  newcol\n",
        "one    2000    Ohio   1.5       0\n",
        "two    2001    Ohio   1.7       1\n",
        "three  2002    Ohio   3.6       2\n",
        "four   2001  Nevada   2.4       3\n",
        "five   2002  Nevada   2.9       4"
       ]
      }
     ],
     "prompt_number": 53
    },
    {
     "cell_type": "code",
     "collapsed": false,
     "input": [
      "df.T.drop(['year','newcol'])"
     ],
     "language": "python",
     "metadata": {},
     "outputs": [
      {
       "html": [
        "<div style=\"max-height:1000px;max-width:1500px;overflow:auto;\">\n",
        "<table border=\"1\" class=\"dataframe\">\n",
        "  <thead>\n",
        "    <tr style=\"text-align: right;\">\n",
        "      <th></th>\n",
        "      <th>one</th>\n",
        "      <th>two</th>\n",
        "      <th>three</th>\n",
        "      <th>four</th>\n",
        "      <th>five</th>\n",
        "    </tr>\n",
        "  </thead>\n",
        "  <tbody>\n",
        "    <tr>\n",
        "      <th>state</th>\n",
        "      <td> Ohio</td>\n",
        "      <td> Ohio</td>\n",
        "      <td> Ohio</td>\n",
        "      <td> Nevada</td>\n",
        "      <td> Nevada</td>\n",
        "    </tr>\n",
        "    <tr>\n",
        "      <th>popp</th>\n",
        "      <td>  1.5</td>\n",
        "      <td>  1.7</td>\n",
        "      <td>  3.6</td>\n",
        "      <td>    2.4</td>\n",
        "      <td>    2.9</td>\n",
        "    </tr>\n",
        "  </tbody>\n",
        "</table>\n",
        "</div>"
       ],
       "output_type": "pyout",
       "prompt_number": 85,
       "text": [
        "        one   two three    four    five\n",
        "state  Ohio  Ohio  Ohio  Nevada  Nevada\n",
        "popp    1.5   1.7   3.6     2.4     2.9"
       ]
      }
     ],
     "prompt_number": 85
    },
    {
     "cell_type": "code",
     "collapsed": false,
     "input": [
      "df.T.drop('one',axis=1)"
     ],
     "language": "python",
     "metadata": {},
     "outputs": [
      {
       "html": [
        "<div style=\"max-height:1000px;max-width:1500px;overflow:auto;\">\n",
        "<table border=\"1\" class=\"dataframe\">\n",
        "  <thead>\n",
        "    <tr style=\"text-align: right;\">\n",
        "      <th></th>\n",
        "      <th>two</th>\n",
        "      <th>three</th>\n",
        "      <th>four</th>\n",
        "      <th>five</th>\n",
        "    </tr>\n",
        "  </thead>\n",
        "  <tbody>\n",
        "    <tr>\n",
        "      <th>year</th>\n",
        "      <td> 2001</td>\n",
        "      <td> 2002</td>\n",
        "      <td>   2001</td>\n",
        "      <td>   2002</td>\n",
        "    </tr>\n",
        "    <tr>\n",
        "      <th>state</th>\n",
        "      <td> Ohio</td>\n",
        "      <td> Ohio</td>\n",
        "      <td> Nevada</td>\n",
        "      <td> Nevada</td>\n",
        "    </tr>\n",
        "    <tr>\n",
        "      <th>popp</th>\n",
        "      <td>  1.7</td>\n",
        "      <td>  3.6</td>\n",
        "      <td>    2.4</td>\n",
        "      <td>    2.9</td>\n",
        "    </tr>\n",
        "    <tr>\n",
        "      <th>newcol</th>\n",
        "      <td>    1</td>\n",
        "      <td>    2</td>\n",
        "      <td>      3</td>\n",
        "      <td>      4</td>\n",
        "    </tr>\n",
        "  </tbody>\n",
        "</table>\n",
        "</div>"
       ],
       "output_type": "pyout",
       "prompt_number": 83,
       "text": [
        "         two three    four    five\n",
        "year    2001  2002    2001    2002\n",
        "state   Ohio  Ohio  Nevada  Nevada\n",
        "popp     1.7   3.6     2.4     2.9\n",
        "newcol     1     2       3       4"
       ]
      }
     ],
     "prompt_number": 83
    },
    {
     "cell_type": "code",
     "collapsed": false,
     "input": [
      "df.values"
     ],
     "language": "python",
     "metadata": {},
     "outputs": [
      {
       "output_type": "pyout",
       "prompt_number": 56,
       "text": [
        "array([[2000, 'Ohio', 1.5, 0],\n",
        "       [2001, 'Ohio', 1.7, 1],\n",
        "       [2002, 'Ohio', 3.6, 2],\n",
        "       [2001, 'Nevada', 2.4, 3],\n",
        "       [2002, 'Nevada', 2.9, 4]], dtype=object)"
       ]
      }
     ],
     "prompt_number": 56
    },
    {
     "cell_type": "code",
     "collapsed": false,
     "input": [
      "2.4 in df.values"
     ],
     "language": "python",
     "metadata": {},
     "outputs": [
      {
       "output_type": "pyout",
       "prompt_number": 67,
       "text": [
        "True"
       ]
      }
     ],
     "prompt_number": 67
    },
    {
     "cell_type": "code",
     "collapsed": false,
     "input": [
      "df.T.ix['year':'popp'] # last element ie 'popp' is included"
     ],
     "language": "python",
     "metadata": {},
     "outputs": [
      {
       "html": [
        "<div style=\"max-height:1000px;max-width:1500px;overflow:auto;\">\n",
        "<table border=\"1\" class=\"dataframe\">\n",
        "  <thead>\n",
        "    <tr style=\"text-align: right;\">\n",
        "      <th></th>\n",
        "      <th>one</th>\n",
        "      <th>two</th>\n",
        "      <th>three</th>\n",
        "      <th>four</th>\n",
        "      <th>five</th>\n",
        "    </tr>\n",
        "  </thead>\n",
        "  <tbody>\n",
        "    <tr>\n",
        "      <th>year</th>\n",
        "      <td> 2000</td>\n",
        "      <td> 2001</td>\n",
        "      <td> 2002</td>\n",
        "      <td>   2001</td>\n",
        "      <td>   2002</td>\n",
        "    </tr>\n",
        "    <tr>\n",
        "      <th>state</th>\n",
        "      <td> Ohio</td>\n",
        "      <td> Ohio</td>\n",
        "      <td> Ohio</td>\n",
        "      <td> Nevada</td>\n",
        "      <td> Nevada</td>\n",
        "    </tr>\n",
        "    <tr>\n",
        "      <th>popp</th>\n",
        "      <td>  1.5</td>\n",
        "      <td>  1.7</td>\n",
        "      <td>  3.6</td>\n",
        "      <td>    2.4</td>\n",
        "      <td>    2.9</td>\n",
        "    </tr>\n",
        "  </tbody>\n",
        "</table>\n",
        "</div>"
       ],
       "output_type": "pyout",
       "prompt_number": 91,
       "text": [
        "        one   two three    four    five\n",
        "year   2000  2001  2002    2001    2002\n",
        "state  Ohio  Ohio  Ohio  Nevada  Nevada\n",
        "popp    1.5   1.7   3.6     2.4     2.9"
       ]
      }
     ],
     "prompt_number": 91
    },
    {
     "cell_type": "code",
     "collapsed": false,
     "input": [
      "df[df.popp > 2]"
     ],
     "language": "python",
     "metadata": {},
     "outputs": [
      {
       "html": [
        "<div style=\"max-height:1000px;max-width:1500px;overflow:auto;\">\n",
        "<table border=\"1\" class=\"dataframe\">\n",
        "  <thead>\n",
        "    <tr style=\"text-align: right;\">\n",
        "      <th></th>\n",
        "      <th>year</th>\n",
        "      <th>state</th>\n",
        "      <th>popp</th>\n",
        "      <th>newcol</th>\n",
        "    </tr>\n",
        "  </thead>\n",
        "  <tbody>\n",
        "    <tr>\n",
        "      <th>three</th>\n",
        "      <td> 2002</td>\n",
        "      <td>   Ohio</td>\n",
        "      <td> 3.6</td>\n",
        "      <td> 2</td>\n",
        "    </tr>\n",
        "    <tr>\n",
        "      <th>four</th>\n",
        "      <td> 2001</td>\n",
        "      <td> Nevada</td>\n",
        "      <td> 2.4</td>\n",
        "      <td> 3</td>\n",
        "    </tr>\n",
        "    <tr>\n",
        "      <th>five</th>\n",
        "      <td> 2002</td>\n",
        "      <td> Nevada</td>\n",
        "      <td> 2.9</td>\n",
        "      <td> 4</td>\n",
        "    </tr>\n",
        "  </tbody>\n",
        "</table>\n",
        "</div>"
       ],
       "output_type": "pyout",
       "prompt_number": 96,
       "text": [
        "       year   state  popp  newcol\n",
        "three  2002    Ohio   3.6       2\n",
        "four   2001  Nevada   2.4       3\n",
        "five   2002  Nevada   2.9       4"
       ]
      }
     ],
     "prompt_number": 96
    },
    {
     "cell_type": "code",
     "collapsed": false,
     "input": [
      "df[df.popp>2].newcol.sum()"
     ],
     "language": "python",
     "metadata": {},
     "outputs": [
      {
       "output_type": "pyout",
       "prompt_number": 100,
       "text": [
        "9"
       ]
      }
     ],
     "prompt_number": 100
    },
    {
     "cell_type": "code",
     "collapsed": false,
     "input": [
      "dn = DataFrame(np.arange(12).reshape(4,3),columns=['col2','col1','col3'],index=['1','2','4','3'])\n",
      "dn"
     ],
     "language": "python",
     "metadata": {},
     "outputs": [
      {
       "html": [
        "<div style=\"max-height:1000px;max-width:1500px;overflow:auto;\">\n",
        "<table border=\"1\" class=\"dataframe\">\n",
        "  <thead>\n",
        "    <tr style=\"text-align: right;\">\n",
        "      <th></th>\n",
        "      <th>col2</th>\n",
        "      <th>col1</th>\n",
        "      <th>col3</th>\n",
        "    </tr>\n",
        "  </thead>\n",
        "  <tbody>\n",
        "    <tr>\n",
        "      <th>1</th>\n",
        "      <td> 0</td>\n",
        "      <td>  1</td>\n",
        "      <td>  2</td>\n",
        "    </tr>\n",
        "    <tr>\n",
        "      <th>2</th>\n",
        "      <td> 3</td>\n",
        "      <td>  4</td>\n",
        "      <td>  5</td>\n",
        "    </tr>\n",
        "    <tr>\n",
        "      <th>4</th>\n",
        "      <td> 6</td>\n",
        "      <td>  7</td>\n",
        "      <td>  8</td>\n",
        "    </tr>\n",
        "    <tr>\n",
        "      <th>3</th>\n",
        "      <td> 9</td>\n",
        "      <td> 10</td>\n",
        "      <td> 11</td>\n",
        "    </tr>\n",
        "  </tbody>\n",
        "</table>\n",
        "</div>"
       ],
       "output_type": "pyout",
       "prompt_number": 5,
       "text": [
        "   col2  col1  col3\n",
        "1     0     1     2\n",
        "2     3     4     5\n",
        "4     6     7     8\n",
        "3     9    10    11"
       ]
      }
     ],
     "prompt_number": 5
    },
    {
     "cell_type": "code",
     "collapsed": false,
     "input": [
      "func_on_series = lambda x:x.max()\n",
      "dn.apply(func_on_series)"
     ],
     "language": "python",
     "metadata": {},
     "outputs": [
      {
       "output_type": "pyout",
       "prompt_number": 6,
       "text": [
        "col2     9\n",
        "col1    10\n",
        "col3    11\n",
        "dtype: int64"
       ]
      }
     ],
     "prompt_number": 6
    },
    {
     "cell_type": "code",
     "collapsed": false,
     "input": [
      "dn.apply(func_on_series,axis=1)"
     ],
     "language": "python",
     "metadata": {},
     "outputs": [
      {
       "output_type": "pyout",
       "prompt_number": 7,
       "text": [
        "1     2\n",
        "2     5\n",
        "4     8\n",
        "3    11\n",
        "dtype: int64"
       ]
      }
     ],
     "prompt_number": 7
    },
    {
     "cell_type": "code",
     "collapsed": false,
     "input": [
      "dn.applymap(lambda x:x+1) # == dn + 1"
     ],
     "language": "python",
     "metadata": {},
     "outputs": [
      {
       "html": [
        "<div style=\"max-height:1000px;max-width:1500px;overflow:auto;\">\n",
        "<table border=\"1\" class=\"dataframe\">\n",
        "  <thead>\n",
        "    <tr style=\"text-align: right;\">\n",
        "      <th></th>\n",
        "      <th>col2</th>\n",
        "      <th>col1</th>\n",
        "      <th>col3</th>\n",
        "    </tr>\n",
        "  </thead>\n",
        "  <tbody>\n",
        "    <tr>\n",
        "      <th>1</th>\n",
        "      <td>  1</td>\n",
        "      <td>  2</td>\n",
        "      <td>  3</td>\n",
        "    </tr>\n",
        "    <tr>\n",
        "      <th>2</th>\n",
        "      <td>  4</td>\n",
        "      <td>  5</td>\n",
        "      <td>  6</td>\n",
        "    </tr>\n",
        "    <tr>\n",
        "      <th>4</th>\n",
        "      <td>  7</td>\n",
        "      <td>  8</td>\n",
        "      <td>  9</td>\n",
        "    </tr>\n",
        "    <tr>\n",
        "      <th>3</th>\n",
        "      <td> 10</td>\n",
        "      <td> 11</td>\n",
        "      <td> 12</td>\n",
        "    </tr>\n",
        "  </tbody>\n",
        "</table>\n",
        "</div>"
       ],
       "output_type": "pyout",
       "prompt_number": 8,
       "text": [
        "   col2  col1  col3\n",
        "1     1     2     3\n",
        "2     4     5     6\n",
        "4     7     8     9\n",
        "3    10    11    12"
       ]
      }
     ],
     "prompt_number": 8
    },
    {
     "cell_type": "code",
     "collapsed": false,
     "input": [
      "dn.sort('col1',ascending=0)"
     ],
     "language": "python",
     "metadata": {},
     "outputs": [
      {
       "html": [
        "<div style=\"max-height:1000px;max-width:1500px;overflow:auto;\">\n",
        "<table border=\"1\" class=\"dataframe\">\n",
        "  <thead>\n",
        "    <tr style=\"text-align: right;\">\n",
        "      <th></th>\n",
        "      <th>col2</th>\n",
        "      <th>col1</th>\n",
        "      <th>col3</th>\n",
        "    </tr>\n",
        "  </thead>\n",
        "  <tbody>\n",
        "    <tr>\n",
        "      <th>3</th>\n",
        "      <td> 9</td>\n",
        "      <td> 10</td>\n",
        "      <td> 11</td>\n",
        "    </tr>\n",
        "    <tr>\n",
        "      <th>4</th>\n",
        "      <td> 6</td>\n",
        "      <td>  7</td>\n",
        "      <td>  8</td>\n",
        "    </tr>\n",
        "    <tr>\n",
        "      <th>2</th>\n",
        "      <td> 3</td>\n",
        "      <td>  4</td>\n",
        "      <td>  5</td>\n",
        "    </tr>\n",
        "    <tr>\n",
        "      <th>1</th>\n",
        "      <td> 0</td>\n",
        "      <td>  1</td>\n",
        "      <td>  2</td>\n",
        "    </tr>\n",
        "  </tbody>\n",
        "</table>\n",
        "</div>"
       ],
       "output_type": "pyout",
       "prompt_number": 9,
       "text": [
        "   col2  col1  col3\n",
        "3     9    10    11\n",
        "4     6     7     8\n",
        "2     3     4     5\n",
        "1     0     1     2"
       ]
      }
     ],
     "prompt_number": 9
    },
    {
     "cell_type": "code",
     "collapsed": false,
     "input": [
      "dn.sort(['col1','col2'],ascending=[0,1])"
     ],
     "language": "python",
     "metadata": {},
     "outputs": [
      {
       "html": [
        "<div style=\"max-height:1000px;max-width:1500px;overflow:auto;\">\n",
        "<table border=\"1\" class=\"dataframe\">\n",
        "  <thead>\n",
        "    <tr style=\"text-align: right;\">\n",
        "      <th></th>\n",
        "      <th>col2</th>\n",
        "      <th>col1</th>\n",
        "      <th>col3</th>\n",
        "    </tr>\n",
        "  </thead>\n",
        "  <tbody>\n",
        "    <tr>\n",
        "      <th>3</th>\n",
        "      <td> 9</td>\n",
        "      <td> 10</td>\n",
        "      <td> 11</td>\n",
        "    </tr>\n",
        "    <tr>\n",
        "      <th>4</th>\n",
        "      <td> 6</td>\n",
        "      <td>  7</td>\n",
        "      <td>  8</td>\n",
        "    </tr>\n",
        "    <tr>\n",
        "      <th>2</th>\n",
        "      <td> 3</td>\n",
        "      <td>  4</td>\n",
        "      <td>  5</td>\n",
        "    </tr>\n",
        "    <tr>\n",
        "      <th>1</th>\n",
        "      <td> 0</td>\n",
        "      <td>  1</td>\n",
        "      <td>  2</td>\n",
        "    </tr>\n",
        "  </tbody>\n",
        "</table>\n",
        "</div>"
       ],
       "output_type": "pyout",
       "prompt_number": 10,
       "text": [
        "   col2  col1  col3\n",
        "3     9    10    11\n",
        "4     6     7     8\n",
        "2     3     4     5\n",
        "1     0     1     2"
       ]
      }
     ],
     "prompt_number": 10
    },
    {
     "cell_type": "code",
     "collapsed": false,
     "input": [
      "dn.sort_index(ascending=False).sort_index(axis=1)"
     ],
     "language": "python",
     "metadata": {},
     "outputs": [
      {
       "html": [
        "<div style=\"max-height:1000px;max-width:1500px;overflow:auto;\">\n",
        "<table border=\"1\" class=\"dataframe\">\n",
        "  <thead>\n",
        "    <tr style=\"text-align: right;\">\n",
        "      <th></th>\n",
        "      <th>col1</th>\n",
        "      <th>col2</th>\n",
        "      <th>col3</th>\n",
        "    </tr>\n",
        "  </thead>\n",
        "  <tbody>\n",
        "    <tr>\n",
        "      <th>4</th>\n",
        "      <td>  7</td>\n",
        "      <td> 6</td>\n",
        "      <td>  8</td>\n",
        "    </tr>\n",
        "    <tr>\n",
        "      <th>3</th>\n",
        "      <td> 10</td>\n",
        "      <td> 9</td>\n",
        "      <td> 11</td>\n",
        "    </tr>\n",
        "    <tr>\n",
        "      <th>2</th>\n",
        "      <td>  4</td>\n",
        "      <td> 3</td>\n",
        "      <td>  5</td>\n",
        "    </tr>\n",
        "    <tr>\n",
        "      <th>1</th>\n",
        "      <td>  1</td>\n",
        "      <td> 0</td>\n",
        "      <td>  2</td>\n",
        "    </tr>\n",
        "  </tbody>\n",
        "</table>\n",
        "</div>"
       ],
       "output_type": "pyout",
       "prompt_number": 121,
       "text": [
        "   col1  col2  col3\n",
        "4     7     6     8\n",
        "3    10     9    11\n",
        "2     4     3     5\n",
        "1     1     0     2"
       ]
      }
     ],
     "prompt_number": 121
    },
    {
     "cell_type": "code",
     "collapsed": false,
     "input": [
      "dn.col1.order()"
     ],
     "language": "python",
     "metadata": {},
     "outputs": [
      {
       "output_type": "pyout",
       "prompt_number": 124,
       "text": [
        "1     1\n",
        "2     4\n",
        "4     7\n",
        "3    10\n",
        "Name: col1, dtype: int64"
       ]
      }
     ],
     "prompt_number": 124
    },
    {
     "cell_type": "code",
     "collapsed": false,
     "input": [
      "dn.col2 = [34,34,3,99]\n",
      "dn"
     ],
     "language": "python",
     "metadata": {},
     "outputs": [
      {
       "html": [
        "<div style=\"max-height:1000px;max-width:1500px;overflow:auto;\">\n",
        "<table border=\"1\" class=\"dataframe\">\n",
        "  <thead>\n",
        "    <tr style=\"text-align: right;\">\n",
        "      <th></th>\n",
        "      <th>col2</th>\n",
        "      <th>col1</th>\n",
        "      <th>col3</th>\n",
        "    </tr>\n",
        "  </thead>\n",
        "  <tbody>\n",
        "    <tr>\n",
        "      <th>1</th>\n",
        "      <td> 34</td>\n",
        "      <td>  1</td>\n",
        "      <td>  2</td>\n",
        "    </tr>\n",
        "    <tr>\n",
        "      <th>2</th>\n",
        "      <td> 34</td>\n",
        "      <td>  4</td>\n",
        "      <td>  5</td>\n",
        "    </tr>\n",
        "    <tr>\n",
        "      <th>4</th>\n",
        "      <td>  3</td>\n",
        "      <td>  7</td>\n",
        "      <td>  8</td>\n",
        "    </tr>\n",
        "    <tr>\n",
        "      <th>3</th>\n",
        "      <td> 99</td>\n",
        "      <td> 10</td>\n",
        "      <td> 11</td>\n",
        "    </tr>\n",
        "  </tbody>\n",
        "</table>\n",
        "</div>"
       ],
       "output_type": "pyout",
       "prompt_number": 133,
       "text": [
        "   col2  col1  col3\n",
        "1    34     1     2\n",
        "2    34     4     5\n",
        "4     3     7     8\n",
        "3    99    10    11"
       ]
      }
     ],
     "prompt_number": 133
    },
    {
     "cell_type": "code",
     "collapsed": false,
     "input": [
      "dn.sort_index(by=['col2','col1'],ascending=False)"
     ],
     "language": "python",
     "metadata": {},
     "outputs": [
      {
       "html": [
        "<div style=\"max-height:1000px;max-width:1500px;overflow:auto;\">\n",
        "<table border=\"1\" class=\"dataframe\">\n",
        "  <thead>\n",
        "    <tr style=\"text-align: right;\">\n",
        "      <th></th>\n",
        "      <th>col2</th>\n",
        "      <th>col1</th>\n",
        "      <th>col3</th>\n",
        "    </tr>\n",
        "  </thead>\n",
        "  <tbody>\n",
        "    <tr>\n",
        "      <th>3</th>\n",
        "      <td> 99</td>\n",
        "      <td> 10</td>\n",
        "      <td> 11</td>\n",
        "    </tr>\n",
        "    <tr>\n",
        "      <th>2</th>\n",
        "      <td> 34</td>\n",
        "      <td>  4</td>\n",
        "      <td>  5</td>\n",
        "    </tr>\n",
        "    <tr>\n",
        "      <th>1</th>\n",
        "      <td> 34</td>\n",
        "      <td>  1</td>\n",
        "      <td>  2</td>\n",
        "    </tr>\n",
        "    <tr>\n",
        "      <th>4</th>\n",
        "      <td>  3</td>\n",
        "      <td>  7</td>\n",
        "      <td>  8</td>\n",
        "    </tr>\n",
        "  </tbody>\n",
        "</table>\n",
        "</div>"
       ],
       "output_type": "pyout",
       "prompt_number": 134,
       "text": [
        "   col2  col1  col3\n",
        "3    99    10    11\n",
        "2    34     4     5\n",
        "1    34     1     2\n",
        "4     3     7     8"
       ]
      }
     ],
     "prompt_number": 134
    },
    {
     "cell_type": "code",
     "collapsed": false,
     "input": [
      "dn2 = dn.reindex([str(x) for x in [1,2,4,3,4]])\n",
      "dn2"
     ],
     "language": "python",
     "metadata": {},
     "outputs": [
      {
       "html": [
        "<div style=\"max-height:1000px;max-width:1500px;overflow:auto;\">\n",
        "<table border=\"1\" class=\"dataframe\">\n",
        "  <thead>\n",
        "    <tr style=\"text-align: right;\">\n",
        "      <th></th>\n",
        "      <th>col2</th>\n",
        "      <th>col1</th>\n",
        "      <th>col3</th>\n",
        "    </tr>\n",
        "  </thead>\n",
        "  <tbody>\n",
        "    <tr>\n",
        "      <th>1</th>\n",
        "      <td> 34</td>\n",
        "      <td>  1</td>\n",
        "      <td>  2</td>\n",
        "    </tr>\n",
        "    <tr>\n",
        "      <th>2</th>\n",
        "      <td> 34</td>\n",
        "      <td>  4</td>\n",
        "      <td>  5</td>\n",
        "    </tr>\n",
        "    <tr>\n",
        "      <th>4</th>\n",
        "      <td>  3</td>\n",
        "      <td>  7</td>\n",
        "      <td>  8</td>\n",
        "    </tr>\n",
        "    <tr>\n",
        "      <th>3</th>\n",
        "      <td> 99</td>\n",
        "      <td> 10</td>\n",
        "      <td> 11</td>\n",
        "    </tr>\n",
        "    <tr>\n",
        "      <th>4</th>\n",
        "      <td>  3</td>\n",
        "      <td>  7</td>\n",
        "      <td>  8</td>\n",
        "    </tr>\n",
        "  </tbody>\n",
        "</table>\n",
        "</div>"
       ],
       "output_type": "pyout",
       "prompt_number": 142,
       "text": [
        "   col2  col1  col3\n",
        "1    34     1     2\n",
        "2    34     4     5\n",
        "4     3     7     8\n",
        "3    99    10    11\n",
        "4     3     7     8"
       ]
      }
     ],
     "prompt_number": 142
    },
    {
     "cell_type": "code",
     "collapsed": false,
     "input": [
      "dn2.ix['4']"
     ],
     "language": "python",
     "metadata": {},
     "outputs": [
      {
       "html": [
        "<div style=\"max-height:1000px;max-width:1500px;overflow:auto;\">\n",
        "<table border=\"1\" class=\"dataframe\">\n",
        "  <thead>\n",
        "    <tr style=\"text-align: right;\">\n",
        "      <th></th>\n",
        "      <th>col2</th>\n",
        "      <th>col1</th>\n",
        "      <th>col3</th>\n",
        "    </tr>\n",
        "  </thead>\n",
        "  <tbody>\n",
        "    <tr>\n",
        "      <th>4</th>\n",
        "      <td> 3</td>\n",
        "      <td> 7</td>\n",
        "      <td> 8</td>\n",
        "    </tr>\n",
        "    <tr>\n",
        "      <th>4</th>\n",
        "      <td> 3</td>\n",
        "      <td> 7</td>\n",
        "      <td> 8</td>\n",
        "    </tr>\n",
        "  </tbody>\n",
        "</table>\n",
        "</div>"
       ],
       "output_type": "pyout",
       "prompt_number": 144,
       "text": [
        "   col2  col1  col3\n",
        "4     3     7     8\n",
        "4     3     7     8"
       ]
      }
     ],
     "prompt_number": 144
    },
    {
     "cell_type": "code",
     "collapsed": false,
     "input": [
      "dn"
     ],
     "language": "python",
     "metadata": {},
     "outputs": [
      {
       "html": [
        "<div style=\"max-height:1000px;max-width:1500px;overflow:auto;\">\n",
        "<table border=\"1\" class=\"dataframe\">\n",
        "  <thead>\n",
        "    <tr style=\"text-align: right;\">\n",
        "      <th></th>\n",
        "      <th>col2</th>\n",
        "      <th>col1</th>\n",
        "      <th>col3</th>\n",
        "    </tr>\n",
        "  </thead>\n",
        "  <tbody>\n",
        "    <tr>\n",
        "      <th>1</th>\n",
        "      <td> 0</td>\n",
        "      <td>  1</td>\n",
        "      <td>  2</td>\n",
        "    </tr>\n",
        "    <tr>\n",
        "      <th>2</th>\n",
        "      <td> 3</td>\n",
        "      <td>  4</td>\n",
        "      <td>  5</td>\n",
        "    </tr>\n",
        "    <tr>\n",
        "      <th>4</th>\n",
        "      <td> 6</td>\n",
        "      <td>  7</td>\n",
        "      <td>  8</td>\n",
        "    </tr>\n",
        "    <tr>\n",
        "      <th>3</th>\n",
        "      <td> 9</td>\n",
        "      <td> 10</td>\n",
        "      <td> 11</td>\n",
        "    </tr>\n",
        "  </tbody>\n",
        "</table>\n",
        "</div>"
       ],
       "output_type": "pyout",
       "prompt_number": 21,
       "text": [
        "   col2  col1  col3\n",
        "1     0     1     2\n",
        "2     3     4     5\n",
        "4     6     7     8\n",
        "3     9    10    11"
       ]
      }
     ],
     "prompt_number": 21
    },
    {
     "cell_type": "code",
     "collapsed": false,
     "input": [
      "dn.idxmax()"
     ],
     "language": "python",
     "metadata": {},
     "outputs": [
      {
       "output_type": "pyout",
       "prompt_number": 22,
       "text": [
        "col2    3\n",
        "col1    3\n",
        "col3    3\n",
        "dtype: object"
       ]
      }
     ],
     "prompt_number": 22
    },
    {
     "cell_type": "code",
     "collapsed": false,
     "input": [
      "dn2.count()"
     ],
     "language": "python",
     "metadata": {},
     "outputs": [
      {
       "output_type": "pyout",
       "prompt_number": 153,
       "text": [
        "col2    5\n",
        "col1    5\n",
        "col3    5\n",
        "dtype: int64"
       ]
      }
     ],
     "prompt_number": 153
    },
    {
     "cell_type": "code",
     "collapsed": false,
     "input": [
      "Series([1,2,np.NAN,2]).count()"
     ],
     "language": "python",
     "metadata": {},
     "outputs": [
      {
       "output_type": "pyout",
       "prompt_number": 23,
       "text": [
        "3"
       ]
      }
     ],
     "prompt_number": 23
    },
    {
     "cell_type": "code",
     "collapsed": false,
     "input": [
      "dn[dn==4] = np.nan\n",
      "dn"
     ],
     "language": "python",
     "metadata": {},
     "outputs": [
      {
       "html": [
        "<div style=\"max-height:1000px;max-width:1500px;overflow:auto;\">\n",
        "<table border=\"1\" class=\"dataframe\">\n",
        "  <thead>\n",
        "    <tr style=\"text-align: right;\">\n",
        "      <th></th>\n",
        "      <th>col2</th>\n",
        "      <th>col1</th>\n",
        "      <th>col3</th>\n",
        "    </tr>\n",
        "  </thead>\n",
        "  <tbody>\n",
        "    <tr>\n",
        "      <th>1</th>\n",
        "      <td> 0</td>\n",
        "      <td>  1</td>\n",
        "      <td>  2</td>\n",
        "    </tr>\n",
        "    <tr>\n",
        "      <th>2</th>\n",
        "      <td> 3</td>\n",
        "      <td>NaN</td>\n",
        "      <td>  5</td>\n",
        "    </tr>\n",
        "    <tr>\n",
        "      <th>4</th>\n",
        "      <td> 6</td>\n",
        "      <td>  7</td>\n",
        "      <td>  8</td>\n",
        "    </tr>\n",
        "    <tr>\n",
        "      <th>3</th>\n",
        "      <td> 9</td>\n",
        "      <td> 10</td>\n",
        "      <td> 11</td>\n",
        "    </tr>\n",
        "  </tbody>\n",
        "</table>\n",
        "</div>"
       ],
       "output_type": "pyout",
       "prompt_number": 24,
       "text": [
        "   col2  col1  col3\n",
        "1     0     1     2\n",
        "2     3   NaN     5\n",
        "4     6     7     8\n",
        "3     9    10    11"
       ]
      }
     ],
     "prompt_number": 24
    },
    {
     "cell_type": "code",
     "collapsed": false,
     "input": [
      "dn.col1.isnull()"
     ],
     "language": "python",
     "metadata": {},
     "outputs": [
      {
       "output_type": "pyout",
       "prompt_number": 25,
       "text": [
        "1    False\n",
        "2     True\n",
        "4    False\n",
        "3    False\n",
        "Name: col1, dtype: bool"
       ]
      }
     ],
     "prompt_number": 25
    },
    {
     "cell_type": "code",
     "collapsed": false,
     "input": [
      "np.where(dn.col1.isnull(),-100,dn.col1)"
     ],
     "language": "python",
     "metadata": {},
     "outputs": [
      {
       "output_type": "pyout",
       "prompt_number": 28,
       "text": [
        "1      1\n",
        "2   -100\n",
        "4      7\n",
        "3     10\n",
        "Name: col1, dtype: float64"
       ]
      }
     ],
     "prompt_number": 28
    },
    {
     "cell_type": "code",
     "collapsed": false,
     "input": [
      "type(12.8)"
     ],
     "language": "python",
     "metadata": {},
     "outputs": [
      {
       "output_type": "pyout",
       "prompt_number": 162,
       "text": [
        "float"
       ]
      }
     ],
     "prompt_number": 162
    },
    {
     "cell_type": "code",
     "collapsed": false,
     "input": [
      "data = DataFrame([[1., 6.5, 3.], [1., np.NAN, np.NAN],[np.NAN, np.NAN, np.NAN], [np.NAN, 6.5, 3.]])\n",
      "data"
     ],
     "language": "python",
     "metadata": {},
     "outputs": [
      {
       "html": [
        "<div style=\"max-height:1000px;max-width:1500px;overflow:auto;\">\n",
        "<table border=\"1\" class=\"dataframe\">\n",
        "  <thead>\n",
        "    <tr style=\"text-align: right;\">\n",
        "      <th></th>\n",
        "      <th>0</th>\n",
        "      <th>1</th>\n",
        "      <th>2</th>\n",
        "    </tr>\n",
        "  </thead>\n",
        "  <tbody>\n",
        "    <tr>\n",
        "      <th>0</th>\n",
        "      <td>  1</td>\n",
        "      <td> 6.5</td>\n",
        "      <td>  3</td>\n",
        "    </tr>\n",
        "    <tr>\n",
        "      <th>1</th>\n",
        "      <td>  1</td>\n",
        "      <td> NaN</td>\n",
        "      <td>NaN</td>\n",
        "    </tr>\n",
        "    <tr>\n",
        "      <th>2</th>\n",
        "      <td>NaN</td>\n",
        "      <td> NaN</td>\n",
        "      <td>NaN</td>\n",
        "    </tr>\n",
        "    <tr>\n",
        "      <th>3</th>\n",
        "      <td>NaN</td>\n",
        "      <td> 6.5</td>\n",
        "      <td>  3</td>\n",
        "    </tr>\n",
        "  </tbody>\n",
        "</table>\n",
        "</div>"
       ],
       "output_type": "pyout",
       "prompt_number": 15,
       "text": [
        "    0    1   2\n",
        "0   1  6.5   3\n",
        "1   1  NaN NaN\n",
        "2 NaN  NaN NaN\n",
        "3 NaN  6.5   3"
       ]
      }
     ],
     "prompt_number": 15
    },
    {
     "cell_type": "code",
     "collapsed": false,
     "input": [
      "data.fillna(method='bfill') # oder ffill"
     ],
     "language": "python",
     "metadata": {},
     "outputs": [
      {
       "html": [
        "<div style=\"max-height:1000px;max-width:1500px;overflow:auto;\">\n",
        "<table border=\"1\" class=\"dataframe\">\n",
        "  <thead>\n",
        "    <tr style=\"text-align: right;\">\n",
        "      <th></th>\n",
        "      <th>0</th>\n",
        "      <th>1</th>\n",
        "      <th>2</th>\n",
        "    </tr>\n",
        "  </thead>\n",
        "  <tbody>\n",
        "    <tr>\n",
        "      <th>0</th>\n",
        "      <td>  1</td>\n",
        "      <td> 6.5</td>\n",
        "      <td> 3</td>\n",
        "    </tr>\n",
        "    <tr>\n",
        "      <th>1</th>\n",
        "      <td>  1</td>\n",
        "      <td> 6.5</td>\n",
        "      <td> 3</td>\n",
        "    </tr>\n",
        "    <tr>\n",
        "      <th>2</th>\n",
        "      <td>NaN</td>\n",
        "      <td> 6.5</td>\n",
        "      <td> 3</td>\n",
        "    </tr>\n",
        "    <tr>\n",
        "      <th>3</th>\n",
        "      <td>NaN</td>\n",
        "      <td> 6.5</td>\n",
        "      <td> 3</td>\n",
        "    </tr>\n",
        "  </tbody>\n",
        "</table>\n",
        "</div>"
       ],
       "output_type": "pyout",
       "prompt_number": 17,
       "text": [
        "    0    1  2\n",
        "0   1  6.5  3\n",
        "1   1  6.5  3\n",
        "2 NaN  6.5  3\n",
        "3 NaN  6.5  3"
       ]
      }
     ],
     "prompt_number": 17
    },
    {
     "cell_type": "code",
     "collapsed": false,
     "input": [
      "data.dropna(how='all')"
     ],
     "language": "python",
     "metadata": {},
     "outputs": [
      {
       "html": [
        "<div style=\"max-height:1000px;max-width:1500px;overflow:auto;\">\n",
        "<table border=\"1\" class=\"dataframe\">\n",
        "  <thead>\n",
        "    <tr style=\"text-align: right;\">\n",
        "      <th></th>\n",
        "      <th>0</th>\n",
        "      <th>1</th>\n",
        "      <th>2</th>\n",
        "    </tr>\n",
        "  </thead>\n",
        "  <tbody>\n",
        "    <tr>\n",
        "      <th>0</th>\n",
        "      <td>  1</td>\n",
        "      <td> 6.5</td>\n",
        "      <td>  3</td>\n",
        "    </tr>\n",
        "    <tr>\n",
        "      <th>1</th>\n",
        "      <td>  1</td>\n",
        "      <td> NaN</td>\n",
        "      <td>NaN</td>\n",
        "    </tr>\n",
        "    <tr>\n",
        "      <th>3</th>\n",
        "      <td>NaN</td>\n",
        "      <td> 6.5</td>\n",
        "      <td>  3</td>\n",
        "    </tr>\n",
        "  </tbody>\n",
        "</table>\n",
        "</div>"
       ],
       "output_type": "pyout",
       "prompt_number": 10,
       "text": [
        "    0    1   2\n",
        "0   1  6.5   3\n",
        "1   1  NaN NaN\n",
        "3 NaN  6.5   3"
       ]
      }
     ],
     "prompt_number": 10
    },
    {
     "cell_type": "code",
     "collapsed": false,
     "input": [
      "data.fillna(0, inplace=True) # inplace=True modifiziert die Originaldaten\n",
      "data"
     ],
     "language": "python",
     "metadata": {},
     "outputs": [
      {
       "html": [
        "<div style=\"max-height:1000px;max-width:1500px;overflow:auto;\">\n",
        "<table border=\"1\" class=\"dataframe\">\n",
        "  <thead>\n",
        "    <tr style=\"text-align: right;\">\n",
        "      <th></th>\n",
        "      <th>0</th>\n",
        "      <th>1</th>\n",
        "      <th>2</th>\n",
        "    </tr>\n",
        "  </thead>\n",
        "  <tbody>\n",
        "    <tr>\n",
        "      <th>0</th>\n",
        "      <td> 1</td>\n",
        "      <td> 6.5</td>\n",
        "      <td> 3</td>\n",
        "    </tr>\n",
        "    <tr>\n",
        "      <th>1</th>\n",
        "      <td> 1</td>\n",
        "      <td> 0.0</td>\n",
        "      <td> 0</td>\n",
        "    </tr>\n",
        "    <tr>\n",
        "      <th>2</th>\n",
        "      <td> 0</td>\n",
        "      <td> 0.0</td>\n",
        "      <td> 0</td>\n",
        "    </tr>\n",
        "    <tr>\n",
        "      <th>3</th>\n",
        "      <td> 0</td>\n",
        "      <td> 6.5</td>\n",
        "      <td> 3</td>\n",
        "    </tr>\n",
        "  </tbody>\n",
        "</table>\n",
        "</div>"
       ],
       "output_type": "pyout",
       "prompt_number": 14,
       "text": [
        "   0    1  2\n",
        "0  1  6.5  3\n",
        "1  1  0.0  0\n",
        "2  0  0.0  0\n",
        "3  0  6.5  3"
       ]
      }
     ],
     "prompt_number": 14
    },
    {
     "cell_type": "code",
     "collapsed": false,
     "input": [
      "data = DataFrame({'vals':rand.normal(0,1,size=10),'weights':rand.randint(2,size=10)})\n",
      "data['results']=data.vals*data.weights\n",
      "data"
     ],
     "language": "python",
     "metadata": {},
     "outputs": [
      {
       "html": [
        "<div style=\"max-height:1000px;max-width:1500px;overflow:auto;\">\n",
        "<table border=\"1\" class=\"dataframe\">\n",
        "  <thead>\n",
        "    <tr style=\"text-align: right;\">\n",
        "      <th></th>\n",
        "      <th>vals</th>\n",
        "      <th>weights</th>\n",
        "      <th>results</th>\n",
        "    </tr>\n",
        "  </thead>\n",
        "  <tbody>\n",
        "    <tr>\n",
        "      <th>0</th>\n",
        "      <td>-0.333944</td>\n",
        "      <td> 0</td>\n",
        "      <td>-0.000000</td>\n",
        "    </tr>\n",
        "    <tr>\n",
        "      <th>1</th>\n",
        "      <td>-0.087153</td>\n",
        "      <td> 0</td>\n",
        "      <td>-0.000000</td>\n",
        "    </tr>\n",
        "    <tr>\n",
        "      <th>2</th>\n",
        "      <td>-0.817727</td>\n",
        "      <td> 0</td>\n",
        "      <td>-0.000000</td>\n",
        "    </tr>\n",
        "    <tr>\n",
        "      <th>3</th>\n",
        "      <td> 0.525605</td>\n",
        "      <td> 1</td>\n",
        "      <td> 0.525605</td>\n",
        "    </tr>\n",
        "    <tr>\n",
        "      <th>4</th>\n",
        "      <td>-0.804634</td>\n",
        "      <td> 0</td>\n",
        "      <td>-0.000000</td>\n",
        "    </tr>\n",
        "    <tr>\n",
        "      <th>5</th>\n",
        "      <td> 2.216917</td>\n",
        "      <td> 1</td>\n",
        "      <td> 2.216917</td>\n",
        "    </tr>\n",
        "    <tr>\n",
        "      <th>6</th>\n",
        "      <td>-1.486997</td>\n",
        "      <td> 1</td>\n",
        "      <td>-1.486997</td>\n",
        "    </tr>\n",
        "    <tr>\n",
        "      <th>7</th>\n",
        "      <td>-1.054359</td>\n",
        "      <td> 0</td>\n",
        "      <td>-0.000000</td>\n",
        "    </tr>\n",
        "    <tr>\n",
        "      <th>8</th>\n",
        "      <td> 0.768125</td>\n",
        "      <td> 0</td>\n",
        "      <td> 0.000000</td>\n",
        "    </tr>\n",
        "    <tr>\n",
        "      <th>9</th>\n",
        "      <td>-0.724449</td>\n",
        "      <td> 0</td>\n",
        "      <td>-0.000000</td>\n",
        "    </tr>\n",
        "  </tbody>\n",
        "</table>\n",
        "</div>"
       ],
       "output_type": "pyout",
       "prompt_number": 141,
       "text": [
        "       vals  weights   results\n",
        "0 -0.333944        0 -0.000000\n",
        "1 -0.087153        0 -0.000000\n",
        "2 -0.817727        0 -0.000000\n",
        "3  0.525605        1  0.525605\n",
        "4 -0.804634        0 -0.000000\n",
        "5  2.216917        1  2.216917\n",
        "6 -1.486997        1 -1.486997\n",
        "7 -1.054359        0 -0.000000\n",
        "8  0.768125        0  0.000000\n",
        "9 -0.724449        0 -0.000000"
       ]
      }
     ],
     "prompt_number": 141
    },
    {
     "cell_type": "code",
     "collapsed": false,
     "input": [
      "data.vals.corr(data.results)"
     ],
     "language": "python",
     "metadata": {},
     "outputs": [
      {
       "output_type": "pyout",
       "prompt_number": 142,
       "text": [
        "0.8647573352382677"
       ]
      }
     ],
     "prompt_number": 142
    },
    {
     "cell_type": "heading",
     "level": 1,
     "metadata": {},
     "source": [
      "In/Out"
     ]
    },
    {
     "cell_type": "code",
     "collapsed": false,
     "input": [
      "pd.read_csv('some.csv', names=['a', 'b', 'c', 'd', 'message'], header=None) # otherwise first line will define column names\n",
      "pd.read_table('some.txt', sep='\\t', index_col='message' ) # column messages will become index of table\n",
      "pd.read_csv('some.csv', na_values = {'message':'xxx','a':'NULL'}, converters={'message':lambda x:x[0:1]}) # for each column it can be defined what entry represents a NaN and how it should be parsed by a custom function"
     ],
     "language": "python",
     "metadata": {},
     "outputs": []
    },
    {
     "cell_type": "code",
     "collapsed": false,
     "input": [
      "data.to_csv(sys.stdout, index=False, header=False, sep='|') # write"
     ],
     "language": "python",
     "metadata": {},
     "outputs": []
    },
    {
     "cell_type": "code",
     "collapsed": false,
     "input": [
      "# JSON: read in lists of dicts to get rows where keys become columns\n",
      "tweets = DataFrame(list_of_dicts, columns=list_of_dicts[0].keys())\n",
      "\n",
      "data.save('binary.data')      # pandas only format\n",
      "data = pd.load('binary.data')\n",
      "\n",
      "store = pd.HDFStore('mydata.h5') # common scientific format HDF5 good for: write once, read many"
     ],
     "language": "python",
     "metadata": {},
     "outputs": []
    },
    {
     "cell_type": "code",
     "collapsed": false,
     "input": [
      "from pandas.io.parsers import TextParser\n",
      "from lxml.html import parse from urllib2 import urlopen\n",
      "\n",
      "parsed = parse(urlopen('http://finance.yahoo.com/q/op?s=AAPL+Options'))\n",
      "doc = parsed.getroot()\n",
      "\n",
      "# create DataFrame from table tag in html file:\n",
      "def parse_options_data( doc ):\n",
      "    tables = doc.findall('.//table') # select table\n",
      "    table = tables[0]\n",
      "    rows = table.findall('.//tr') # select rows of table\n",
      "    header = _unpack(rows[0], kind='th') # extract header row\n",
      "    data = [_unpack(r) for r in rows[1:]]\n",
      "    return TextParser(data, names=header).get_chunk() # create DataFrame"
     ],
     "language": "python",
     "metadata": {},
     "outputs": []
    },
    {
     "cell_type": "code",
     "collapsed": false,
     "input": [
      "import pandas.io.sql as sql\n",
      "import sqlite3\n",
      "con = sqlite3.connect(':myDB:')\n",
      "sql.read_frame('select * from test', con)"
     ],
     "language": "python",
     "metadata": {},
     "outputs": []
    },
    {
     "cell_type": "heading",
     "level": 1,
     "metadata": {},
     "source": [
      "Combining, Merging and Rearranging of Data"
     ]
    },
    {
     "cell_type": "code",
     "collapsed": false,
     "input": [
      "#    a.combine_first(b)\n",
      "#    a's values prioritized, use values from b to fill holes\n",
      "\n",
      "# data1.update(data2, overwrite=False)"
     ],
     "language": "python",
     "metadata": {},
     "outputs": []
    },
    {
     "cell_type": "code",
     "collapsed": false,
     "input": [
      "pd.merge(df1, df2, on='key', how='left') # use a list to join with multiple keys, 'inner' is default, 'right', 'outer' are the other option of the how parameter\n",
      "df1.join(df2, on='key') # same but in a neat way\n",
      "df1.join([df2,df3]) # join three DataFrames\n",
      "\n",
      "pd.merge(left1, right1, left_on='key', right_index=True) # joins tables by using column 'key' of left table to match with index of right table \n",
      "left1.join(right1) # same but in a neat way"
     ],
     "language": "python",
     "metadata": {},
     "outputs": []
    },
    {
     "cell_type": "code",
     "collapsed": false,
     "input": [
      "arr = np.arange(12).reshape((3, 4))\n",
      "print(arr)\n",
      "print(np.concatenate([arr,arr],axis=1))\n",
      "print(np.concatenate([arr,arr]))"
     ],
     "language": "python",
     "metadata": {},
     "outputs": [
      {
       "output_type": "stream",
       "stream": "stdout",
       "text": [
        "[[ 0  1  2  3]\n",
        " [ 4  5  6  7]\n",
        " [ 8  9 10 11]]\n",
        "[[ 0  1  2  3  0  1  2  3]\n",
        " [ 4  5  6  7  4  5  6  7]\n",
        " [ 8  9 10 11  8  9 10 11]]\n",
        "[[ 0  1  2  3]\n",
        " [ 4  5  6  7]\n",
        " [ 8  9 10 11]\n",
        " [ 0  1  2  3]\n",
        " [ 4  5  6  7]\n",
        " [ 8  9 10 11]]\n"
       ]
      }
     ],
     "prompt_number": 7
    },
    {
     "cell_type": "code",
     "collapsed": false,
     "input": [
      "s1 = Series([0, 1], index=['a', 'b'])\n",
      "s2 = Series([2, 3, 4, 5], index=['c', 'd', 'e', 'b'])\n",
      "\n",
      "def psdf(data):\n",
      "    print(\"/////////////////\\n%s\" % data)\n",
      "    \n",
      "psdf(pd.concat([s2, s1]))\n",
      "psdf(pd.concat([s1, s2],axis=1))\n",
      "psdf(pd.concat([s1, s2],axis=1,join='inner'))"
     ],
     "language": "python",
     "metadata": {},
     "outputs": [
      {
       "output_type": "stream",
       "stream": "stdout",
       "text": [
        "/////////////////\n",
        "c    2\n",
        "d    3\n",
        "e    4\n",
        "b    5\n",
        "a    0\n",
        "b    1\n",
        "dtype: int64\n",
        "/////////////////\n",
        "    0   1\n",
        "a   0 NaN\n",
        "b   1   5\n",
        "c NaN   2\n",
        "d NaN   3\n",
        "e NaN   4\n",
        "/////////////////\n",
        "   0  1\n",
        "b  1  5\n"
       ]
      }
     ],
     "prompt_number": 39
    },
    {
     "cell_type": "code",
     "collapsed": false,
     "input": [
      "# rotating between row and column indices\n",
      "data = DataFrame(np.arange(6).reshape((2, 3)), index=pd.Index(['Ohio', 'Colorado'], name='state'), columns=pd.Index(['one', 'two', 'three'], name='number'))\n",
      "psdf(data)\n",
      "psdf(data.stack())\n",
      "psdf(data.stack().unstack())"
     ],
     "language": "python",
     "metadata": {},
     "outputs": [
      {
       "output_type": "stream",
       "stream": "stdout",
       "text": [
        "/////////////////\n",
        "number    one  two  three\n",
        "state                    \n",
        "Ohio        0    1      2\n",
        "Colorado    3    4      5\n",
        "/////////////////\n",
        "state     number\n",
        "Ohio      one       0\n",
        "          two       1\n",
        "          three     2\n",
        "Colorado  one       3\n",
        "          two       4\n",
        "          three     5\n",
        "dtype: int64\n",
        "/////////////////\n",
        "number    one  two  three\n",
        "state                    \n",
        "Ohio        0    1      2\n",
        "Colorado    3    4      5\n"
       ]
      }
     ],
     "prompt_number": 31
    },
    {
     "cell_type": "code",
     "collapsed": false,
     "input": [
      "data = DataFrame({'k1': ['one'] * 3 + ['two'] * 4, 'k2': [1, 1, 2, 3, 3, 4, 4]})\n",
      "psdf(data)\n",
      "psdf(data.drop_duplicates())"
     ],
     "language": "python",
     "metadata": {},
     "outputs": [
      {
       "output_type": "stream",
       "stream": "stdout",
       "text": [
        "/////////////////\n",
        "    k1  k2\n",
        "0  one   1\n",
        "1  one   1\n",
        "2  one   2\n",
        "3  two   3\n",
        "4  two   3\n",
        "5  two   4\n",
        "6  two   4\n",
        "/////////////////\n",
        "    k1  k2\n",
        "0  one   1\n",
        "2  one   2\n",
        "3  two   3\n",
        "5  two   4\n"
       ]
      }
     ],
     "prompt_number": 56
    },
    {
     "cell_type": "code",
     "collapsed": false,
     "input": [
      "data['k3'] = range(7)\n",
      "psdf(data)\n",
      "psdf(data.replace([1,2],[111,222]))\n",
      "psdf(data.replace({1:111,2:222})) # should do the same but is not working"
     ],
     "language": "python",
     "metadata": {},
     "outputs": [
      {
       "output_type": "stream",
       "stream": "stdout",
       "text": [
        "/////////////////\n",
        "    k1  k2  k3\n",
        "0  one   1   0\n",
        "1  one   1   1\n",
        "2  one   2   2\n",
        "3  two   3   3\n",
        "4  two   3   4\n",
        "5  two   4   5\n",
        "6  two   4   6\n",
        "/////////////////\n",
        "    k1   k2   k3\n",
        "0  one  111    0\n",
        "1  one  111  111\n",
        "2  one  222  222\n",
        "3  two    3    3\n",
        "4  two    3    4\n",
        "5  two    4    5\n",
        "6  two    4    6\n",
        "/////////////////\n",
        "    k1  k2  k3\n",
        "0  one   1   0\n",
        "1  one   1   1\n",
        "2  one   2   2\n",
        "3  two   3   3\n",
        "4  two   3   4\n",
        "5  two   4   5\n",
        "6  two   4   6\n"
       ]
      }
     ],
     "prompt_number": 60
    },
    {
     "cell_type": "heading",
     "level": 1,
     "metadata": {},
     "source": [
      "Histograms Logic:"
     ]
    },
    {
     "cell_type": "code",
     "collapsed": false,
     "input": [
      "ages = [20, 22, 25, 27, 21, 23, 37, 31, 61, 45, 41, 32]\n",
      "bins = [18, 25, 35, 60, 100]\n",
      "cats = pd.cut(ages, bins)\n",
      "cats"
     ],
     "language": "python",
     "metadata": {},
     "outputs": [
      {
       "output_type": "pyout",
       "prompt_number": 47,
       "text": [
        "Categorical: \n",
        "array(['(18, 25]', '(18, 25]', '(18, 25]', '(25, 35]', '(18, 25]',\n",
        "       '(18, 25]', '(35, 60]', '(25, 35]', '(60, 100]', '(35, 60]',\n",
        "       '(35, 60]', '(25, 35]'], dtype=object)\n",
        "Levels (4): Index(['(18, 25]', '(25, 35]', '(35, 60]', '(60, 100]'], dtype=object)"
       ]
      }
     ],
     "prompt_number": 47
    },
    {
     "cell_type": "code",
     "collapsed": false,
     "input": [
      "cats.labels"
     ],
     "language": "python",
     "metadata": {},
     "outputs": [
      {
       "output_type": "pyout",
       "prompt_number": 50,
       "text": [
        "array([0, 0, 0, 1, 0, 0, 2, 1, 3, 2, 2, 1])"
       ]
      }
     ],
     "prompt_number": 50
    },
    {
     "cell_type": "code",
     "collapsed": false,
     "input": [
      "cats.levels"
     ],
     "language": "python",
     "metadata": {},
     "outputs": [
      {
       "output_type": "pyout",
       "prompt_number": 51,
       "text": [
        "Index([(18, 25], (25, 35], (35, 60], (60, 100]], dtype=object)"
       ]
      }
     ],
     "prompt_number": 51
    },
    {
     "cell_type": "code",
     "collapsed": false,
     "input": [
      "pd.value_counts(cats)"
     ],
     "language": "python",
     "metadata": {},
     "outputs": [
      {
       "output_type": "pyout",
       "prompt_number": 53,
       "text": [
        "(19.959, 30.25]    6\n",
        "(30.25, 40.5]      3\n",
        "(40.5, 50.75]      2\n",
        "(50.75, 61]        1\n",
        "dtype: int64"
       ]
      }
     ],
     "prompt_number": 53
    },
    {
     "cell_type": "code",
     "collapsed": false,
     "input": [
      "cats = pd.cut(ages,4)  # create equally sized bins\n",
      "print(cats.levels)\n",
      "pd.value_counts(cats)"
     ],
     "language": "python",
     "metadata": {},
     "outputs": [
      {
       "output_type": "stream",
       "stream": "stdout",
       "text": [
        "Index([(19.959, 30.25], (30.25, 40.5], (40.5, 50.75], (50.75, 61]], dtype=object)\n"
       ]
      },
      {
       "output_type": "pyout",
       "prompt_number": 54,
       "text": [
        "(19.959, 30.25]    6\n",
        "(30.25, 40.5]      3\n",
        "(40.5, 50.75]      2\n",
        "(50.75, 61]        1\n",
        "dtype: int64"
       ]
      }
     ],
     "prompt_number": 54
    },
    {
     "cell_type": "code",
     "collapsed": false,
     "input": [
      "cats = pd.qcut(ages,4)  # create bins with equilly sized number of elements\n",
      "print(cats.levels)\n",
      "pd.value_counts(cats)"
     ],
     "language": "python",
     "metadata": {},
     "outputs": [
      {
       "output_type": "stream",
       "stream": "stdout",
       "text": [
        "Index([[20, 22.75], (22.75, 29], (29, 38], (38, 61]], dtype=object)\n"
       ]
      },
      {
       "output_type": "pyout",
       "prompt_number": 55,
       "text": [
        "(29, 38]       3\n",
        "[20, 22.75]    3\n",
        "(38, 61]       3\n",
        "(22.75, 29]    3\n",
        "dtype: int64"
       ]
      }
     ],
     "prompt_number": 55
    },
    {
     "cell_type": "heading",
     "level": 1,
     "metadata": {},
     "source": [
      "String Manipulations"
     ]
    },
    {
     "cell_type": "code",
     "collapsed": false,
     "input": [
      "import re\n",
      "data = Series({'Dave': 'dave@google.com', 'Steve': 'steve@gmail.com', 'Rob': 'rob@gmail.com', 'Wes': np.nan})\n",
      "data"
     ],
     "language": "python",
     "metadata": {},
     "outputs": [
      {
       "output_type": "pyout",
       "prompt_number": 117,
       "text": [
        "Dave     dave@google.com\n",
        "Rob        rob@gmail.com\n",
        "Steve    steve@gmail.com\n",
        "Wes                  NaN\n",
        "dtype: object"
       ]
      }
     ],
     "prompt_number": 117
    },
    {
     "cell_type": "code",
     "collapsed": false,
     "input": [
      "data.str[:2]"
     ],
     "language": "python",
     "metadata": {},
     "outputs": [
      {
       "output_type": "pyout",
       "prompt_number": 82,
       "text": [
        "Dave      da\n",
        "Rob       ro\n",
        "Steve     st\n",
        "Wes      NaN\n",
        "dtype: object"
       ]
      }
     ],
     "prompt_number": 82
    },
    {
     "cell_type": "code",
     "collapsed": false,
     "input": [
      "data.str.join(sep=\".\")"
     ],
     "language": "python",
     "metadata": {},
     "outputs": [
      {
       "output_type": "pyout",
       "prompt_number": 83,
       "text": [
        "Dave     d.a.v.e.@.g.o.o.g.l.e...c.o.m\n",
        "Rob          r.o.b.@.g.m.a.i.l...c.o.m\n",
        "Steve    s.t.e.v.e.@.g.m.a.i.l...c.o.m\n",
        "Wes                                NaN\n",
        "dtype: object"
       ]
      }
     ],
     "prompt_number": 83
    },
    {
     "cell_type": "code",
     "collapsed": false,
     "input": [
      "data.c1.str.replace(\"c\",'999')"
     ],
     "language": "python",
     "metadata": {},
     "outputs": [
      {
       "output_type": "pyout",
       "prompt_number": 77,
       "text": [
        "0    ab999\n",
        "1    999de\n",
        "2      fgh\n",
        "Name: c1, dtype: object"
       ]
      }
     ],
     "prompt_number": 77
    },
    {
     "cell_type": "code",
     "collapsed": false,
     "input": [
      "matches = data.str.match('([A-Z0-9._%+-]+)@([A-Z0-9.-]+)\\\\.([A-Z]{2,4})', flags=re.IGNORECASE)\n",
      "matches.str[1]"
     ],
     "language": "python",
     "metadata": {},
     "outputs": [
      {
       "output_type": "pyout",
       "prompt_number": 119,
       "text": [
        "Dave     google\n",
        "Rob       gmail\n",
        "Steve     gmail\n",
        "Wes         NaN\n",
        "dtype: object"
       ]
      }
     ],
     "prompt_number": 119
    },
    {
     "cell_type": "heading",
     "level": 1,
     "metadata": {},
     "source": [
      "Plotting"
     ]
    },
    {
     "cell_type": "code",
     "collapsed": false,
     "input": [
      "randomwalk = rand.randn(40)\n",
      "fig = plt.figure()\n",
      "ax1 = fig.add_subplot(2,2,1)\n",
      "ax1.plot(randomwalk.cumsum(),'o-k')"
     ],
     "language": "python",
     "metadata": {},
     "outputs": [
      {
       "output_type": "pyout",
       "prompt_number": 16,
       "text": [
        "[<matplotlib.lines.Line2D at 0x108b30d90>]"
       ]
      },
      {
       "output_type": "display_data",
       "png": "[encoded data removed]"
      }
     ],
     "prompt_number": 16
    },
    {
     "cell_type": "code",
     "collapsed": false,
     "input": [
      "comp1 = np.random.normal(0, 1, size=200) # N(0, 1)\n",
      "comp2 = np.random.normal(10, 2, size=200) # N(10, 4)\n",
      "values = Series(np.concatenate([comp1, comp2]))\n",
      "values.hist(bins=100, alpha=0.3, color='k', normed=True)\n",
      "values.plot(kind='kde', style='k--')"
     ],
     "language": "python",
     "metadata": {},
     "outputs": [
      {
       "output_type": "pyout",
       "prompt_number": 17,
       "text": [
        "<matplotlib.axes.AxesSubplot at 0x108b3d8d0>"
       ]
      },
      {
       "output_type": "display_data",
       "png": "[encoded data removed]"
      }
     ],
     "prompt_number": 17
    },
    {
     "cell_type": "code",
     "collapsed": false,
     "input": [
      "# making some histogram:\n",
      "s = Series(np.random.randn(100000))\n",
      "hist = np.histogram(s,bins=100)\n",
      "plt.bar(hist[1][:-1],hist[0],width=.1)"
     ],
     "language": "python",
     "metadata": {},
     "outputs": [
      {
       "output_type": "pyout",
       "prompt_number": 18,
       "text": [
        "<Container object of 100 artists>"
       ]
      },
      {
       "output_type": "display_data",
       "png": "[encoded data removed]"
      }
     ],
     "prompt_number": 18
    },
    {
     "cell_type": "code",
     "collapsed": false,
     "input": [
      "tmpdata = DataFrame(np.random.normal(size=(100,3)))\n",
      "tmpdata['cat'] = 'A'\n",
      "data = DataFrame(np.random.normal(10,2,size=(150,3)))\n",
      "data['cat']='B'\n",
      "tmpdata2 = DataFrame(np.random.normal(50,2,size=(150,3)))\n",
      "tmpdata2['cat']='C'\n",
      "data = pd.concat([tmpdata,data,tmpdata2])\n",
      "del tmpdata\n",
      "data[:4]"
     ],
     "language": "python",
     "metadata": {},
     "outputs": [
      {
       "html": [
        "<div style=\"max-height:1000px;max-width:1500px;overflow:auto;\">\n",
        "<table border=\"1\" class=\"dataframe\">\n",
        "  <thead>\n",
        "    <tr style=\"text-align: right;\">\n",
        "      <th></th>\n",
        "      <th>0</th>\n",
        "      <th>1</th>\n",
        "      <th>2</th>\n",
        "      <th>cat</th>\n",
        "    </tr>\n",
        "  </thead>\n",
        "  <tbody>\n",
        "    <tr>\n",
        "      <th>0</th>\n",
        "      <td>-0.281100</td>\n",
        "      <td> 0.792052</td>\n",
        "      <td> 1.172131</td>\n",
        "      <td> A</td>\n",
        "    </tr>\n",
        "    <tr>\n",
        "      <th>1</th>\n",
        "      <td>-0.561721</td>\n",
        "      <td>-1.543955</td>\n",
        "      <td>-0.663505</td>\n",
        "      <td> A</td>\n",
        "    </tr>\n",
        "    <tr>\n",
        "      <th>2</th>\n",
        "      <td>-0.864066</td>\n",
        "      <td>-0.940743</td>\n",
        "      <td> 0.084267</td>\n",
        "      <td> A</td>\n",
        "    </tr>\n",
        "    <tr>\n",
        "      <th>3</th>\n",
        "      <td> 0.490830</td>\n",
        "      <td>-1.012574</td>\n",
        "      <td>-0.456108</td>\n",
        "      <td> A</td>\n",
        "    </tr>\n",
        "  </tbody>\n",
        "</table>\n",
        "</div>"
       ],
       "output_type": "pyout",
       "prompt_number": 154,
       "text": [
        "          0         1         2 cat\n",
        "0 -0.281100  0.792052  1.172131   A\n",
        "1 -0.561721 -1.543955 -0.663505   A\n",
        "2 -0.864066 -0.940743  0.084267   A\n",
        "3  0.490830 -1.012574 -0.456108   A"
       ]
      }
     ],
     "prompt_number": 154
    },
    {
     "cell_type": "code",
     "collapsed": false,
     "input": [
      "hlp.plot_categorical_data(data,[0,1])"
     ],
     "language": "python",
     "metadata": {},
     "outputs": [
      {
       "output_type": "display_data",
       "png": "[encoded data removed]"
      },
      {
       "output_type": "pyout",
       "prompt_number": 19,
       "text": [
        "(<matplotlib.figure.Figure at 0x108b46a90>,\n",
        " <matplotlib.axes.AxesSubplot at 0x108e0d910>)"
       ]
      }
     ],
     "prompt_number": 19
    },
    {
     "cell_type": "code",
     "collapsed": false,
     "input": [
      "fig, ax = plt.subplots()\n",
      "ax.scatter(data[data.cat=='A'][0],data[data.cat=='A'][1],marker='.',facecolor='b')\n",
      "ax.scatter(data[data.cat=='B'][0],data[data.cat=='B'][1],marker='x',facecolor='r')\n",
      "plt.show()"
     ],
     "language": "python",
     "metadata": {},
     "outputs": [
      {
       "output_type": "display_data",
       "png": "[encoded data removed]"
      }
     ],
     "prompt_number": 20
    },
    {
     "cell_type": "code",
     "collapsed": false,
     "input": [
      "pd.scatter_matrix(data)"
     ],
     "language": "python",
     "metadata": {},
     "outputs": [
      {
       "output_type": "pyout",
       "prompt_number": 21,
       "text": [
        "array([[<matplotlib.axes.AxesSubplot object at 0x108eefe90>,\n",
        "        <matplotlib.axes.AxesSubplot object at 0x109876790>,\n",
        "        <matplotlib.axes.AxesSubplot object at 0x109895d50>],\n",
        "       [<matplotlib.axes.AxesSubplot object at 0x109881810>,\n",
        "        <matplotlib.axes.AxesSubplot object at 0x109a31390>,\n",
        "        <matplotlib.axes.AxesSubplot object at 0x109a516d0>],\n",
        "       [<matplotlib.axes.AxesSubplot object at 0x109a39bd0>,\n",
        "        <matplotlib.axes.AxesSubplot object at 0x109a88c90>,\n",
        "        <matplotlib.axes.AxesSubplot object at 0x109aa8fd0>]], dtype=object)"
       ]
      },
      {
       "output_type": "display_data",
       "png": "[encoded data removed]"
      }
     ],
     "prompt_number": 21
    },
    {
     "cell_type": "heading",
     "level": 1,
     "metadata": {},
     "source": [
      "Data Grouping and Aggregation"
     ]
    },
    {
     "cell_type": "code",
     "collapsed": false,
     "input": [
      "df = DataFrame({'key1' : ['a', 'a', 'b', 'b', 'a','a'],'key2' : ['one', 'two', 'one', 'two', 'one','three'],'data1' : np.random.randn(6),'data2' : np.random.randn(6)})\n",
      "df"
     ],
     "language": "python",
     "metadata": {},
     "outputs": [
      {
       "html": [
        "<div style=\"max-height:1000px;max-width:1500px;overflow:auto;\">\n",
        "<table border=\"1\" class=\"dataframe\">\n",
        "  <thead>\n",
        "    <tr style=\"text-align: right;\">\n",
        "      <th></th>\n",
        "      <th>data1</th>\n",
        "      <th>data2</th>\n",
        "      <th>key1</th>\n",
        "      <th>key2</th>\n",
        "    </tr>\n",
        "  </thead>\n",
        "  <tbody>\n",
        "    <tr>\n",
        "      <th>0</th>\n",
        "      <td> 0.739360</td>\n",
        "      <td> 0.621588</td>\n",
        "      <td> a</td>\n",
        "      <td>   one</td>\n",
        "    </tr>\n",
        "    <tr>\n",
        "      <th>1</th>\n",
        "      <td>-0.106926</td>\n",
        "      <td> 0.235336</td>\n",
        "      <td> a</td>\n",
        "      <td>   two</td>\n",
        "    </tr>\n",
        "    <tr>\n",
        "      <th>2</th>\n",
        "      <td> 1.403078</td>\n",
        "      <td> 1.752346</td>\n",
        "      <td> b</td>\n",
        "      <td>   one</td>\n",
        "    </tr>\n",
        "    <tr>\n",
        "      <th>3</th>\n",
        "      <td>-0.444629</td>\n",
        "      <td>-0.142198</td>\n",
        "      <td> b</td>\n",
        "      <td>   two</td>\n",
        "    </tr>\n",
        "    <tr>\n",
        "      <th>4</th>\n",
        "      <td> 0.277675</td>\n",
        "      <td> 0.737866</td>\n",
        "      <td> a</td>\n",
        "      <td>   one</td>\n",
        "    </tr>\n",
        "    <tr>\n",
        "      <th>5</th>\n",
        "      <td> 0.424053</td>\n",
        "      <td>-0.541420</td>\n",
        "      <td> a</td>\n",
        "      <td> three</td>\n",
        "    </tr>\n",
        "  </tbody>\n",
        "</table>\n",
        "</div>"
       ],
       "output_type": "pyout",
       "prompt_number": 18,
       "text": [
        "      data1     data2 key1   key2\n",
        "0  0.739360  0.621588    a    one\n",
        "1 -0.106926  0.235336    a    two\n",
        "2  1.403078  1.752346    b    one\n",
        "3 -0.444629 -0.142198    b    two\n",
        "4  0.277675  0.737866    a    one\n",
        "5  0.424053 -0.541420    a  three"
       ]
      }
     ],
     "prompt_number": 18
    },
    {
     "cell_type": "code",
     "collapsed": false,
     "input": [
      "df.groupby('key1').min()"
     ],
     "language": "python",
     "metadata": {},
     "outputs": [
      {
       "html": [
        "<div style=\"max-height:1000px;max-width:1500px;overflow:auto;\">\n",
        "<table border=\"1\" class=\"dataframe\">\n",
        "  <thead>\n",
        "    <tr style=\"text-align: right;\">\n",
        "      <th></th>\n",
        "      <th>data1</th>\n",
        "      <th>data2</th>\n",
        "      <th>key2</th>\n",
        "    </tr>\n",
        "    <tr>\n",
        "      <th>key1</th>\n",
        "      <th></th>\n",
        "      <th></th>\n",
        "      <th></th>\n",
        "    </tr>\n",
        "  </thead>\n",
        "  <tbody>\n",
        "    <tr>\n",
        "      <th>a</th>\n",
        "      <td>-0.106926</td>\n",
        "      <td>-0.541420</td>\n",
        "      <td> one</td>\n",
        "    </tr>\n",
        "    <tr>\n",
        "      <th>b</th>\n",
        "      <td>-0.444629</td>\n",
        "      <td>-0.142198</td>\n",
        "      <td> one</td>\n",
        "    </tr>\n",
        "  </tbody>\n",
        "</table>\n",
        "</div>"
       ],
       "output_type": "pyout",
       "prompt_number": 35,
       "text": [
        "         data1     data2 key2\n",
        "key1                         \n",
        "a    -0.106926 -0.541420  one\n",
        "b    -0.444629 -0.142198  one"
       ]
      }
     ],
     "prompt_number": 35
    },
    {
     "cell_type": "code",
     "collapsed": false,
     "input": [
      "for name,group in df.groupby('key2'):\n",
      "    print(\"Group %s:\" % name)\n",
      "    print(group)"
     ],
     "language": "python",
     "metadata": {},
     "outputs": [
      {
       "output_type": "stream",
       "stream": "stdout",
       "text": [
        "Group one:\n",
        "      data1     data2 key1 key2\n",
        "0  0.739360  0.621588    a  one\n",
        "2  1.403078  1.752346    b  one\n",
        "4  0.277675  0.737866    a  one\n",
        "Group three:\n",
        "      data1    data2 key1   key2\n",
        "5  0.424053 -0.54142    a  three\n",
        "Group two:\n",
        "      data1     data2 key1 key2\n",
        "1 -0.106926  0.235336    a  two\n",
        "3 -0.444629 -0.142198    b  two\n"
       ]
      }
     ],
     "prompt_number": 22
    },
    {
     "cell_type": "code",
     "collapsed": false,
     "input": [
      "pieces = dict(list(df.groupby('key1')))\n",
      "pieces['a']"
     ],
     "language": "python",
     "metadata": {},
     "outputs": [
      {
       "html": [
        "<div style=\"max-height:1000px;max-width:1500px;overflow:auto;\">\n",
        "<table border=\"1\" class=\"dataframe\">\n",
        "  <thead>\n",
        "    <tr style=\"text-align: right;\">\n",
        "      <th></th>\n",
        "      <th>data1</th>\n",
        "      <th>data2</th>\n",
        "      <th>key1</th>\n",
        "      <th>key2</th>\n",
        "    </tr>\n",
        "  </thead>\n",
        "  <tbody>\n",
        "    <tr>\n",
        "      <th>0</th>\n",
        "      <td> 0.739360</td>\n",
        "      <td> 0.621588</td>\n",
        "      <td> a</td>\n",
        "      <td>   one</td>\n",
        "    </tr>\n",
        "    <tr>\n",
        "      <th>1</th>\n",
        "      <td>-0.106926</td>\n",
        "      <td> 0.235336</td>\n",
        "      <td> a</td>\n",
        "      <td>   two</td>\n",
        "    </tr>\n",
        "    <tr>\n",
        "      <th>4</th>\n",
        "      <td> 0.277675</td>\n",
        "      <td> 0.737866</td>\n",
        "      <td> a</td>\n",
        "      <td>   one</td>\n",
        "    </tr>\n",
        "    <tr>\n",
        "      <th>5</th>\n",
        "      <td> 0.424053</td>\n",
        "      <td>-0.541420</td>\n",
        "      <td> a</td>\n",
        "      <td> three</td>\n",
        "    </tr>\n",
        "  </tbody>\n",
        "</table>\n",
        "</div>"
       ],
       "output_type": "pyout",
       "prompt_number": 21,
       "text": [
        "      data1     data2 key1   key2\n",
        "0  0.739360  0.621588    a    one\n",
        "1 -0.106926  0.235336    a    two\n",
        "4  0.277675  0.737866    a    one\n",
        "5  0.424053 -0.541420    a  three"
       ]
      }
     ],
     "prompt_number": 21
    },
    {
     "cell_type": "code",
     "collapsed": false,
     "input": [
      "df.groupby('key2')['data1'].count() # == ... .size()"
     ],
     "language": "python",
     "metadata": {},
     "outputs": [
      {
       "output_type": "pyout",
       "prompt_number": 37,
       "text": [
        "key2\n",
        "one      3\n",
        "three    1\n",
        "two      2\n",
        "dtype: int64"
       ]
      }
     ],
     "prompt_number": 37
    },
    {
     "cell_type": "code",
     "collapsed": false,
     "input": [
      "people = DataFrame(np.random.randn(5, 5),columns=['a', 'b', 'c', 'd', 'e'],index=['Joe', 'Steve', 'Wes', 'Jim', 'Travis'])\n",
      "people"
     ],
     "language": "python",
     "metadata": {},
     "outputs": [
      {
       "html": [
        "<div style=\"max-height:1000px;max-width:1500px;overflow:auto;\">\n",
        "<table border=\"1\" class=\"dataframe\">\n",
        "  <thead>\n",
        "    <tr style=\"text-align: right;\">\n",
        "      <th></th>\n",
        "      <th>a</th>\n",
        "      <th>b</th>\n",
        "      <th>c</th>\n",
        "      <th>d</th>\n",
        "      <th>e</th>\n",
        "    </tr>\n",
        "  </thead>\n",
        "  <tbody>\n",
        "    <tr>\n",
        "      <th>Joe</th>\n",
        "      <td> 0.708303</td>\n",
        "      <td> 0.340645</td>\n",
        "      <td>-0.351854</td>\n",
        "      <td>-1.377107</td>\n",
        "      <td> 0.019698</td>\n",
        "    </tr>\n",
        "    <tr>\n",
        "      <th>Steve</th>\n",
        "      <td> 1.367789</td>\n",
        "      <td>-0.205284</td>\n",
        "      <td> 1.639879</td>\n",
        "      <td> 0.262293</td>\n",
        "      <td>-1.069834</td>\n",
        "    </tr>\n",
        "    <tr>\n",
        "      <th>Wes</th>\n",
        "      <td> 1.302231</td>\n",
        "      <td> 1.047179</td>\n",
        "      <td>-0.317145</td>\n",
        "      <td>-2.083820</td>\n",
        "      <td> 0.058323</td>\n",
        "    </tr>\n",
        "    <tr>\n",
        "      <th>Jim</th>\n",
        "      <td> 1.095670</td>\n",
        "      <td>-0.898387</td>\n",
        "      <td>-0.656303</td>\n",
        "      <td>-0.885540</td>\n",
        "      <td> 2.002418</td>\n",
        "    </tr>\n",
        "    <tr>\n",
        "      <th>Travis</th>\n",
        "      <td>-0.025436</td>\n",
        "      <td>-0.371457</td>\n",
        "      <td> 0.611380</td>\n",
        "      <td> 0.578107</td>\n",
        "      <td>-0.124972</td>\n",
        "    </tr>\n",
        "  </tbody>\n",
        "</table>\n",
        "</div>"
       ],
       "output_type": "pyout",
       "prompt_number": 29,
       "text": [
        "               a         b         c         d         e\n",
        "Joe     0.708303  0.340645 -0.351854 -1.377107  0.019698\n",
        "Steve   1.367789 -0.205284  1.639879  0.262293 -1.069834\n",
        "Wes     1.302231  1.047179 -0.317145 -2.083820  0.058323\n",
        "Jim     1.095670 -0.898387 -0.656303 -0.885540  2.002418\n",
        "Travis -0.025436 -0.371457  0.611380  0.578107 -0.124972"
       ]
      }
     ],
     "prompt_number": 29
    },
    {
     "cell_type": "code",
     "collapsed": false,
     "input": [
      "# Grouping by groups of keys:\n",
      "people.groupby({'a':'aa','b':'bb','c':'aa','d':'aa','e':'bb'},axis=1).sum()"
     ],
     "language": "python",
     "metadata": {},
     "outputs": [
      {
       "html": [
        "<div style=\"max-height:1000px;max-width:1500px;overflow:auto;\">\n",
        "<table border=\"1\" class=\"dataframe\">\n",
        "  <thead>\n",
        "    <tr style=\"text-align: right;\">\n",
        "      <th></th>\n",
        "      <th>aa</th>\n",
        "      <th>bb</th>\n",
        "    </tr>\n",
        "  </thead>\n",
        "  <tbody>\n",
        "    <tr>\n",
        "      <th>Joe</th>\n",
        "      <td>-1.020658</td>\n",
        "      <td> 0.360343</td>\n",
        "    </tr>\n",
        "    <tr>\n",
        "      <th>Steve</th>\n",
        "      <td> 3.269961</td>\n",
        "      <td>-1.275117</td>\n",
        "    </tr>\n",
        "    <tr>\n",
        "      <th>Wes</th>\n",
        "      <td>-1.098734</td>\n",
        "      <td> 1.105502</td>\n",
        "    </tr>\n",
        "    <tr>\n",
        "      <th>Jim</th>\n",
        "      <td>-0.446173</td>\n",
        "      <td> 1.104031</td>\n",
        "    </tr>\n",
        "    <tr>\n",
        "      <th>Travis</th>\n",
        "      <td> 1.164051</td>\n",
        "      <td>-0.496429</td>\n",
        "    </tr>\n",
        "  </tbody>\n",
        "</table>\n",
        "</div>"
       ],
       "output_type": "pyout",
       "prompt_number": 30,
       "text": [
        "              aa        bb\n",
        "Joe    -1.020658  0.360343\n",
        "Steve   3.269961 -1.275117\n",
        "Wes    -1.098734  1.105502\n",
        "Jim    -0.446173  1.104031\n",
        "Travis  1.164051 -0.496429"
       ]
      }
     ],
     "prompt_number": 30
    },
    {
     "cell_type": "code",
     "collapsed": false,
     "input": [
      "# Grouping by function:\n",
      "people.groupby(lambda idx:idx[0]).first()"
     ],
     "language": "python",
     "metadata": {},
     "outputs": [
      {
       "html": [
        "<div style=\"max-height:1000px;max-width:1500px;overflow:auto;\">\n",
        "<table border=\"1\" class=\"dataframe\">\n",
        "  <thead>\n",
        "    <tr style=\"text-align: right;\">\n",
        "      <th></th>\n",
        "      <th>a</th>\n",
        "      <th>b</th>\n",
        "      <th>c</th>\n",
        "      <th>d</th>\n",
        "      <th>e</th>\n",
        "    </tr>\n",
        "  </thead>\n",
        "  <tbody>\n",
        "    <tr>\n",
        "      <th>J</th>\n",
        "      <td> 0.708303</td>\n",
        "      <td> 0.340645</td>\n",
        "      <td>-0.351854</td>\n",
        "      <td>-1.377107</td>\n",
        "      <td> 0.019698</td>\n",
        "    </tr>\n",
        "    <tr>\n",
        "      <th>S</th>\n",
        "      <td> 1.367789</td>\n",
        "      <td>-0.205284</td>\n",
        "      <td> 1.639879</td>\n",
        "      <td> 0.262293</td>\n",
        "      <td>-1.069834</td>\n",
        "    </tr>\n",
        "    <tr>\n",
        "      <th>T</th>\n",
        "      <td>-0.025436</td>\n",
        "      <td>-0.371457</td>\n",
        "      <td> 0.611380</td>\n",
        "      <td> 0.578107</td>\n",
        "      <td>-0.124972</td>\n",
        "    </tr>\n",
        "    <tr>\n",
        "      <th>W</th>\n",
        "      <td> 1.302231</td>\n",
        "      <td> 1.047179</td>\n",
        "      <td>-0.317145</td>\n",
        "      <td>-2.083820</td>\n",
        "      <td> 0.058323</td>\n",
        "    </tr>\n",
        "  </tbody>\n",
        "</table>\n",
        "</div>"
       ],
       "output_type": "pyout",
       "prompt_number": 40,
       "text": [
        "          a         b         c         d         e\n",
        "J  0.708303  0.340645 -0.351854 -1.377107  0.019698\n",
        "S  1.367789 -0.205284  1.639879  0.262293 -1.069834\n",
        "T -0.025436 -0.371457  0.611380  0.578107 -0.124972\n",
        "W  1.302231  1.047179 -0.317145 -2.083820  0.058323"
       ]
      }
     ],
     "prompt_number": 40
    },
    {
     "cell_type": "heading",
     "level": 3,
     "metadata": {},
     "source": [
      "Aggregation functions convert an array to a scalar."
     ]
    },
    {
     "cell_type": "code",
     "collapsed": false,
     "input": [
      "# call multiple and customized aggregation functions:\n",
      "df.groupby('key2').agg([('Mittel','mean'),'sum',('User function',(lambda arr: min(arr)))])"
     ],
     "language": "python",
     "metadata": {},
     "outputs": [
      {
       "html": [
        "<div style=\"max-height:1000px;max-width:1500px;overflow:auto;\">\n",
        "<table border=\"1\" class=\"dataframe\">\n",
        "  <thead>\n",
        "    <tr>\n",
        "      <th></th>\n",
        "      <th colspan=\"3\" halign=\"left\">data1</th>\n",
        "      <th colspan=\"3\" halign=\"left\">data2</th>\n",
        "    </tr>\n",
        "    <tr>\n",
        "      <th></th>\n",
        "      <th>Mittel</th>\n",
        "      <th>sum</th>\n",
        "      <th>User function</th>\n",
        "      <th>Mittel</th>\n",
        "      <th>sum</th>\n",
        "      <th>User function</th>\n",
        "    </tr>\n",
        "    <tr>\n",
        "      <th>key2</th>\n",
        "      <th></th>\n",
        "      <th></th>\n",
        "      <th></th>\n",
        "      <th></th>\n",
        "      <th></th>\n",
        "      <th></th>\n",
        "    </tr>\n",
        "  </thead>\n",
        "  <tbody>\n",
        "    <tr>\n",
        "      <th>one</th>\n",
        "      <td> 0.806705</td>\n",
        "      <td> 2.420114</td>\n",
        "      <td> 0.277675</td>\n",
        "      <td> 1.037267</td>\n",
        "      <td> 3.111800</td>\n",
        "      <td> 0.621588</td>\n",
        "    </tr>\n",
        "    <tr>\n",
        "      <th>three</th>\n",
        "      <td> 0.424053</td>\n",
        "      <td> 0.424053</td>\n",
        "      <td> 0.424053</td>\n",
        "      <td>-0.541420</td>\n",
        "      <td>-0.541420</td>\n",
        "      <td>-0.541420</td>\n",
        "    </tr>\n",
        "    <tr>\n",
        "      <th>two</th>\n",
        "      <td>-0.275777</td>\n",
        "      <td>-0.551555</td>\n",
        "      <td>-0.444629</td>\n",
        "      <td> 0.046569</td>\n",
        "      <td> 0.093138</td>\n",
        "      <td>-0.142198</td>\n",
        "    </tr>\n",
        "  </tbody>\n",
        "</table>\n",
        "</div>"
       ],
       "output_type": "pyout",
       "prompt_number": 34,
       "text": [
        "          data1                              data2                         \n",
        "         Mittel       sum  User function    Mittel       sum  User function\n",
        "key2                                                                       \n",
        "one    0.806705  2.420114       0.277675  1.037267  3.111800       0.621588\n",
        "three  0.424053  0.424053       0.424053 -0.541420 -0.541420      -0.541420\n",
        "two   -0.275777 -0.551555      -0.444629  0.046569  0.093138      -0.142198"
       ]
      }
     ],
     "prompt_number": 34
    },
    {
     "cell_type": "code",
     "collapsed": false,
     "input": [
      "# call different aggregation functions on different columns:\n",
      "df.groupby('key2').agg({'data1':[min,max],'data2':sum})"
     ],
     "language": "python",
     "metadata": {},
     "outputs": [
      {
       "html": [
        "<div style=\"max-height:1000px;max-width:1500px;overflow:auto;\">\n",
        "<table border=\"1\" class=\"dataframe\">\n",
        "  <thead>\n",
        "    <tr>\n",
        "      <th></th>\n",
        "      <th colspan=\"2\" halign=\"left\">data1</th>\n",
        "      <th>data2</th>\n",
        "    </tr>\n",
        "    <tr>\n",
        "      <th></th>\n",
        "      <th>min</th>\n",
        "      <th>max</th>\n",
        "      <th>sum</th>\n",
        "    </tr>\n",
        "    <tr>\n",
        "      <th>key2</th>\n",
        "      <th></th>\n",
        "      <th></th>\n",
        "      <th></th>\n",
        "    </tr>\n",
        "  </thead>\n",
        "  <tbody>\n",
        "    <tr>\n",
        "      <th>one</th>\n",
        "      <td> 0.277675</td>\n",
        "      <td> 1.403078</td>\n",
        "      <td> 3.111800</td>\n",
        "    </tr>\n",
        "    <tr>\n",
        "      <th>three</th>\n",
        "      <td> 0.424053</td>\n",
        "      <td> 0.424053</td>\n",
        "      <td>-0.541420</td>\n",
        "    </tr>\n",
        "    <tr>\n",
        "      <th>two</th>\n",
        "      <td>-0.444629</td>\n",
        "      <td>-0.106926</td>\n",
        "      <td> 0.093138</td>\n",
        "    </tr>\n",
        "  </tbody>\n",
        "</table>\n",
        "</div>"
       ],
       "output_type": "pyout",
       "prompt_number": 44,
       "text": [
        "          data1               data2\n",
        "            min       max       sum\n",
        "key2                               \n",
        "one    0.277675  1.403078  3.111800\n",
        "three  0.424053  0.424053 -0.541420\n",
        "two   -0.444629 -0.106926  0.093138"
       ]
      }
     ],
     "prompt_number": 44
    },
    {
     "cell_type": "heading",
     "level": 3,
     "metadata": {},
     "source": [
      "Transformation functions convert an array to an array of equal size."
     ]
    },
    {
     "cell_type": "code",
     "collapsed": false,
     "input": [
      "df.groupby('key1').transform(abs)"
     ],
     "language": "python",
     "metadata": {},
     "outputs": [
      {
       "html": [
        "<div style=\"max-height:1000px;max-width:1500px;overflow:auto;\">\n",
        "<table border=\"1\" class=\"dataframe\">\n",
        "  <thead>\n",
        "    <tr style=\"text-align: right;\">\n",
        "      <th></th>\n",
        "      <th>data1</th>\n",
        "      <th>data2</th>\n",
        "    </tr>\n",
        "  </thead>\n",
        "  <tbody>\n",
        "    <tr>\n",
        "      <th>0</th>\n",
        "      <td> 0.739360</td>\n",
        "      <td> 0.621588</td>\n",
        "    </tr>\n",
        "    <tr>\n",
        "      <th>1</th>\n",
        "      <td> 0.106926</td>\n",
        "      <td> 0.235336</td>\n",
        "    </tr>\n",
        "    <tr>\n",
        "      <th>2</th>\n",
        "      <td> 1.403078</td>\n",
        "      <td> 1.752346</td>\n",
        "    </tr>\n",
        "    <tr>\n",
        "      <th>3</th>\n",
        "      <td> 0.444629</td>\n",
        "      <td> 0.142198</td>\n",
        "    </tr>\n",
        "    <tr>\n",
        "      <th>4</th>\n",
        "      <td> 0.277675</td>\n",
        "      <td> 0.737866</td>\n",
        "    </tr>\n",
        "    <tr>\n",
        "      <th>5</th>\n",
        "      <td> 0.424053</td>\n",
        "      <td> 0.541420</td>\n",
        "    </tr>\n",
        "  </tbody>\n",
        "</table>\n",
        "</div>"
       ],
       "output_type": "pyout",
       "prompt_number": 53,
       "text": [
        "      data1     data2\n",
        "0  0.739360  0.621588\n",
        "1  0.106926  0.235336\n",
        "2  1.403078  1.752346\n",
        "3  0.444629  0.142198\n",
        "4  0.277675  0.737866\n",
        "5  0.424053  0.541420"
       ]
      }
     ],
     "prompt_number": 53
    },
    {
     "cell_type": "code",
     "collapsed": false,
     "input": [
      "def demean(arr):\n",
      "    return arr - arr.mean()\n",
      "\n",
      "df.groupby('key1').transform(demean)"
     ],
     "language": "python",
     "metadata": {},
     "outputs": [
      {
       "html": [
        "<div style=\"max-height:1000px;max-width:1500px;overflow:auto;\">\n",
        "<table border=\"1\" class=\"dataframe\">\n",
        "  <thead>\n",
        "    <tr style=\"text-align: right;\">\n",
        "      <th></th>\n",
        "      <th>data1</th>\n",
        "      <th>data2</th>\n",
        "    </tr>\n",
        "  </thead>\n",
        "  <tbody>\n",
        "    <tr>\n",
        "      <th>0</th>\n",
        "      <td> 0.405820</td>\n",
        "      <td> 0.358246</td>\n",
        "    </tr>\n",
        "    <tr>\n",
        "      <th>1</th>\n",
        "      <td>-0.440466</td>\n",
        "      <td>-0.028006</td>\n",
        "    </tr>\n",
        "    <tr>\n",
        "      <th>2</th>\n",
        "      <td> 0.923854</td>\n",
        "      <td> 0.947272</td>\n",
        "    </tr>\n",
        "    <tr>\n",
        "      <th>3</th>\n",
        "      <td>-0.923854</td>\n",
        "      <td>-0.947272</td>\n",
        "    </tr>\n",
        "    <tr>\n",
        "      <th>4</th>\n",
        "      <td>-0.055866</td>\n",
        "      <td> 0.474524</td>\n",
        "    </tr>\n",
        "    <tr>\n",
        "      <th>5</th>\n",
        "      <td> 0.090512</td>\n",
        "      <td>-0.804763</td>\n",
        "    </tr>\n",
        "  </tbody>\n",
        "</table>\n",
        "</div>"
       ],
       "output_type": "pyout",
       "prompt_number": 54,
       "text": [
        "      data1     data2\n",
        "0  0.405820  0.358246\n",
        "1 -0.440466 -0.028006\n",
        "2  0.923854  0.947272\n",
        "3 -0.923854 -0.947272\n",
        "4 -0.055866  0.474524\n",
        "5  0.090512 -0.804763"
       ]
      }
     ],
     "prompt_number": 54
    },
    {
     "cell_type": "code",
     "collapsed": false,
     "input": [
      "df.groupby('key1').transform(demean).mean()"
     ],
     "language": "python",
     "metadata": {},
     "outputs": [
      {
       "output_type": "pyout",
       "prompt_number": 55,
       "text": [
        "data1    1.850372e-17\n",
        "data2    1.850372e-17\n",
        "dtype: float64"
       ]
      }
     ],
     "prompt_number": 55
    },
    {
     "cell_type": "heading",
     "level": 3,
     "metadata": {},
     "source": [
      "Apply function can return panda objects that can be concatenated"
     ]
    },
    {
     "cell_type": "code",
     "collapsed": false,
     "input": [
      "df.groupby('key1').apply(lambda dataframe:dataframe.describe())"
     ],
     "language": "python",
     "metadata": {},
     "outputs": [
      {
       "html": [
        "<div style=\"max-height:1000px;max-width:1500px;overflow:auto;\">\n",
        "<table border=\"1\" class=\"dataframe\">\n",
        "  <thead>\n",
        "    <tr style=\"text-align: right;\">\n",
        "      <th></th>\n",
        "      <th></th>\n",
        "      <th>data1</th>\n",
        "      <th>data2</th>\n",
        "    </tr>\n",
        "    <tr>\n",
        "      <th>key1</th>\n",
        "      <th></th>\n",
        "      <th></th>\n",
        "      <th></th>\n",
        "    </tr>\n",
        "  </thead>\n",
        "  <tbody>\n",
        "    <tr>\n",
        "      <th rowspan=\"8\" valign=\"top\">a</th>\n",
        "      <th>count</th>\n",
        "      <td> 4.000000</td>\n",
        "      <td> 4.000000</td>\n",
        "    </tr>\n",
        "    <tr>\n",
        "      <th>mean</th>\n",
        "      <td> 0.333541</td>\n",
        "      <td> 0.263343</td>\n",
        "    </tr>\n",
        "    <tr>\n",
        "      <th>std</th>\n",
        "      <td> 0.351195</td>\n",
        "      <td> 0.577910</td>\n",
        "    </tr>\n",
        "    <tr>\n",
        "      <th>min</th>\n",
        "      <td>-0.106926</td>\n",
        "      <td>-0.541420</td>\n",
        "    </tr>\n",
        "    <tr>\n",
        "      <th>25%</th>\n",
        "      <td> 0.181525</td>\n",
        "      <td> 0.041147</td>\n",
        "    </tr>\n",
        "    <tr>\n",
        "      <th>50%</th>\n",
        "      <td> 0.350864</td>\n",
        "      <td> 0.428462</td>\n",
        "    </tr>\n",
        "    <tr>\n",
        "      <th>75%</th>\n",
        "      <td> 0.502880</td>\n",
        "      <td> 0.650658</td>\n",
        "    </tr>\n",
        "    <tr>\n",
        "      <th>max</th>\n",
        "      <td> 0.739360</td>\n",
        "      <td> 0.737866</td>\n",
        "    </tr>\n",
        "    <tr>\n",
        "      <th rowspan=\"8\" valign=\"top\">b</th>\n",
        "      <th>count</th>\n",
        "      <td> 2.000000</td>\n",
        "      <td> 2.000000</td>\n",
        "    </tr>\n",
        "    <tr>\n",
        "      <th>mean</th>\n",
        "      <td> 0.479224</td>\n",
        "      <td> 0.805074</td>\n",
        "    </tr>\n",
        "    <tr>\n",
        "      <th>std</th>\n",
        "      <td> 1.306526</td>\n",
        "      <td> 1.339645</td>\n",
        "    </tr>\n",
        "    <tr>\n",
        "      <th>min</th>\n",
        "      <td>-0.444629</td>\n",
        "      <td>-0.142198</td>\n",
        "    </tr>\n",
        "    <tr>\n",
        "      <th>25%</th>\n",
        "      <td> 0.017298</td>\n",
        "      <td> 0.331438</td>\n",
        "    </tr>\n",
        "    <tr>\n",
        "      <th>50%</th>\n",
        "      <td> 0.479224</td>\n",
        "      <td> 0.805074</td>\n",
        "    </tr>\n",
        "    <tr>\n",
        "      <th>75%</th>\n",
        "      <td> 0.941151</td>\n",
        "      <td> 1.278710</td>\n",
        "    </tr>\n",
        "    <tr>\n",
        "      <th>max</th>\n",
        "      <td> 1.403078</td>\n",
        "      <td> 1.752346</td>\n",
        "    </tr>\n",
        "  </tbody>\n",
        "</table>\n",
        "</div>"
       ],
       "output_type": "pyout",
       "prompt_number": 56,
       "text": [
        "               data1     data2\n",
        "key1                          \n",
        "a    count  4.000000  4.000000\n",
        "     mean   0.333541  0.263343\n",
        "     std    0.351195  0.577910\n",
        "     min   -0.106926 -0.541420\n",
        "     25%    0.181525  0.041147\n",
        "     50%    0.350864  0.428462\n",
        "     75%    0.502880  0.650658\n",
        "     max    0.739360  0.737866\n",
        "b    count  2.000000  2.000000\n",
        "     mean   0.479224  0.805074\n",
        "     std    1.306526  1.339645\n",
        "     min   -0.444629 -0.142198\n",
        "     25%    0.017298  0.331438\n",
        "     50%    0.479224  0.805074\n",
        "     75%    0.941151  1.278710\n",
        "     max    1.403078  1.752346"
       ]
      }
     ],
     "prompt_number": 56
    },
    {
     "cell_type": "code",
     "collapsed": false,
     "input": [
      "frame = DataFrame({'data1': np.random.randn(1000),'data2': np.random.randn(1000)})\n",
      "factor = pd.cut(frame.data1, 4)\n",
      "factor[:10]"
     ],
     "language": "python",
     "metadata": {},
     "outputs": [
      {
       "output_type": "pyout",
       "prompt_number": 58,
       "text": [
        "Categorical: \n",
        "array(['(1.349, 2.816]', '(-1.583, -0.117]', '(-0.117, 1.349]',\n",
        "       '(-1.583, -0.117]', '(-1.583, -0.117]', '(-1.583, -0.117]',\n",
        "       '(-0.117, 1.349]', '(-0.117, 1.349]', '(-0.117, 1.349]',\n",
        "       '(-1.583, -0.117]'], dtype=object)\n",
        "Levels (4): Index(['(-3.0546, -1.583]', '(-1.583, -0.117]',\n",
        "                   '(-0.117, 1.349]', '(1.349, 2.816]'], dtype=object)"
       ]
      }
     ],
     "prompt_number": 58
    },
    {
     "cell_type": "code",
     "collapsed": false,
     "input": [
      "grouped = frame.data2.groupby(factor)\n",
      "grouped.min()"
     ],
     "language": "python",
     "metadata": {},
     "outputs": [
      {
       "output_type": "pyout",
       "prompt_number": 67,
       "text": [
        "data1\n",
        "(-3.0546, -1.583]   -2.788622\n",
        "(-1.583, -0.117]    -3.383861\n",
        "(-0.117, 1.349]     -2.574235\n",
        "(1.349, 2.816]      -2.831513\n",
        "dtype: float64"
       ]
      }
     ],
     "prompt_number": 67
    },
    {
     "cell_type": "code",
     "collapsed": false,
     "input": [
      "def get_stats(group,some_parameter):\n",
      "    return {'min': group.min() + some_parameter, 'max': group.max(),'count': group.count(), 'mean': group.mean()}\n",
      "\n",
      "grouped.apply(get_stats, some_parameter=100).unstack()"
     ],
     "language": "python",
     "metadata": {},
     "outputs": [
      {
       "html": [
        "<div style=\"max-height:1000px;max-width:1500px;overflow:auto;\">\n",
        "<table border=\"1\" class=\"dataframe\">\n",
        "  <thead>\n",
        "    <tr style=\"text-align: right;\">\n",
        "      <th></th>\n",
        "      <th>count</th>\n",
        "      <th>max</th>\n",
        "      <th>mean</th>\n",
        "      <th>min</th>\n",
        "    </tr>\n",
        "    <tr>\n",
        "      <th>data1</th>\n",
        "      <th></th>\n",
        "      <th></th>\n",
        "      <th></th>\n",
        "      <th></th>\n",
        "    </tr>\n",
        "  </thead>\n",
        "  <tbody>\n",
        "    <tr>\n",
        "      <th>(-3.0546, -1.583]</th>\n",
        "      <td>  55</td>\n",
        "      <td> 1.771513</td>\n",
        "      <td>-0.023555</td>\n",
        "      <td> 97.211378</td>\n",
        "    </tr>\n",
        "    <tr>\n",
        "      <th>(-1.583, -0.117]</th>\n",
        "      <td> 397</td>\n",
        "      <td> 2.776994</td>\n",
        "      <td> 0.009898</td>\n",
        "      <td> 96.616139</td>\n",
        "    </tr>\n",
        "    <tr>\n",
        "      <th>(-0.117, 1.349]</th>\n",
        "      <td> 451</td>\n",
        "      <td> 2.804875</td>\n",
        "      <td>-0.046946</td>\n",
        "      <td> 97.425765</td>\n",
        "    </tr>\n",
        "    <tr>\n",
        "      <th>(1.349, 2.816]</th>\n",
        "      <td>  97</td>\n",
        "      <td> 2.460343</td>\n",
        "      <td>-0.162391</td>\n",
        "      <td> 97.168487</td>\n",
        "    </tr>\n",
        "  </tbody>\n",
        "</table>\n",
        "</div>"
       ],
       "output_type": "pyout",
       "prompt_number": 80,
       "text": [
        "                   count       max      mean        min\n",
        "data1                                                  \n",
        "(-3.0546, -1.583]     55  1.771513 -0.023555  97.211378\n",
        "(-1.583, -0.117]     397  2.776994  0.009898  96.616139\n",
        "(-0.117, 1.349]      451  2.804875 -0.046946  97.425765\n",
        "(1.349, 2.816]        97  2.460343 -0.162391  97.168487"
       ]
      }
     ],
     "prompt_number": 80
    },
    {
     "cell_type": "heading",
     "level": 1,
     "metadata": {},
     "source": [
      "Pivot and Cross Tables"
     ]
    },
    {
     "cell_type": "code",
     "collapsed": false,
     "input": [
      "tips = pd.read_csv('ch08/tips.csv')\n",
      "tips[:10]"
     ],
     "language": "python",
     "metadata": {},
     "outputs": [
      {
       "html": [
        "<div style=\"max-height:1000px;max-width:1500px;overflow:auto;\">\n",
        "<table border=\"1\" class=\"dataframe\">\n",
        "  <thead>\n",
        "    <tr style=\"text-align: right;\">\n",
        "      <th></th>\n",
        "      <th>total_bill</th>\n",
        "      <th>tip</th>\n",
        "      <th>sex</th>\n",
        "      <th>smoker</th>\n",
        "      <th>day</th>\n",
        "      <th>time</th>\n",
        "      <th>size</th>\n",
        "    </tr>\n",
        "  </thead>\n",
        "  <tbody>\n",
        "    <tr>\n",
        "      <th>0</th>\n",
        "      <td> 16.99</td>\n",
        "      <td> 1.01</td>\n",
        "      <td> Female</td>\n",
        "      <td> No</td>\n",
        "      <td> Sun</td>\n",
        "      <td> Dinner</td>\n",
        "      <td> 2</td>\n",
        "    </tr>\n",
        "    <tr>\n",
        "      <th>1</th>\n",
        "      <td> 10.34</td>\n",
        "      <td> 1.66</td>\n",
        "      <td>   Male</td>\n",
        "      <td> No</td>\n",
        "      <td> Sun</td>\n",
        "      <td> Dinner</td>\n",
        "      <td> 3</td>\n",
        "    </tr>\n",
        "    <tr>\n",
        "      <th>2</th>\n",
        "      <td> 21.01</td>\n",
        "      <td> 3.50</td>\n",
        "      <td>   Male</td>\n",
        "      <td> No</td>\n",
        "      <td> Sun</td>\n",
        "      <td> Dinner</td>\n",
        "      <td> 3</td>\n",
        "    </tr>\n",
        "    <tr>\n",
        "      <th>3</th>\n",
        "      <td> 23.68</td>\n",
        "      <td> 3.31</td>\n",
        "      <td>   Male</td>\n",
        "      <td> No</td>\n",
        "      <td> Sun</td>\n",
        "      <td> Dinner</td>\n",
        "      <td> 2</td>\n",
        "    </tr>\n",
        "    <tr>\n",
        "      <th>4</th>\n",
        "      <td> 24.59</td>\n",
        "      <td> 3.61</td>\n",
        "      <td> Female</td>\n",
        "      <td> No</td>\n",
        "      <td> Sun</td>\n",
        "      <td> Dinner</td>\n",
        "      <td> 4</td>\n",
        "    </tr>\n",
        "    <tr>\n",
        "      <th>5</th>\n",
        "      <td> 25.29</td>\n",
        "      <td> 4.71</td>\n",
        "      <td>   Male</td>\n",
        "      <td> No</td>\n",
        "      <td> Sun</td>\n",
        "      <td> Dinner</td>\n",
        "      <td> 4</td>\n",
        "    </tr>\n",
        "    <tr>\n",
        "      <th>6</th>\n",
        "      <td>  8.77</td>\n",
        "      <td> 2.00</td>\n",
        "      <td>   Male</td>\n",
        "      <td> No</td>\n",
        "      <td> Sun</td>\n",
        "      <td> Dinner</td>\n",
        "      <td> 2</td>\n",
        "    </tr>\n",
        "    <tr>\n",
        "      <th>7</th>\n",
        "      <td> 26.88</td>\n",
        "      <td> 3.12</td>\n",
        "      <td>   Male</td>\n",
        "      <td> No</td>\n",
        "      <td> Sun</td>\n",
        "      <td> Dinner</td>\n",
        "      <td> 4</td>\n",
        "    </tr>\n",
        "    <tr>\n",
        "      <th>8</th>\n",
        "      <td> 15.04</td>\n",
        "      <td> 1.96</td>\n",
        "      <td>   Male</td>\n",
        "      <td> No</td>\n",
        "      <td> Sun</td>\n",
        "      <td> Dinner</td>\n",
        "      <td> 2</td>\n",
        "    </tr>\n",
        "    <tr>\n",
        "      <th>9</th>\n",
        "      <td> 14.78</td>\n",
        "      <td> 3.23</td>\n",
        "      <td>   Male</td>\n",
        "      <td> No</td>\n",
        "      <td> Sun</td>\n",
        "      <td> Dinner</td>\n",
        "      <td> 2</td>\n",
        "    </tr>\n",
        "  </tbody>\n",
        "</table>\n",
        "</div>"
       ],
       "output_type": "pyout",
       "prompt_number": 184,
       "text": [
        "   total_bill   tip     sex smoker  day    time  size\n",
        "0       16.99  1.01  Female     No  Sun  Dinner     2\n",
        "1       10.34  1.66    Male     No  Sun  Dinner     3\n",
        "2       21.01  3.50    Male     No  Sun  Dinner     3\n",
        "3       23.68  3.31    Male     No  Sun  Dinner     2\n",
        "4       24.59  3.61  Female     No  Sun  Dinner     4\n",
        "5       25.29  4.71    Male     No  Sun  Dinner     4\n",
        "6        8.77  2.00    Male     No  Sun  Dinner     2\n",
        "7       26.88  3.12    Male     No  Sun  Dinner     4\n",
        "8       15.04  1.96    Male     No  Sun  Dinner     2\n",
        "9       14.78  3.23    Male     No  Sun  Dinner     2"
       ]
      }
     ],
     "prompt_number": 184
    },
    {
     "cell_type": "code",
     "collapsed": false,
     "input": [
      "tips.pivot_table(rows=['sex', 'smoker']) # == tips.groupby(['sex','smoker']).mean()"
     ],
     "language": "python",
     "metadata": {},
     "outputs": [
      {
       "html": [
        "<div style=\"max-height:1000px;max-width:1500px;overflow:auto;\">\n",
        "<table border=\"1\" class=\"dataframe\">\n",
        "  <thead>\n",
        "    <tr style=\"text-align: right;\">\n",
        "      <th></th>\n",
        "      <th></th>\n",
        "      <th>size</th>\n",
        "      <th>tip</th>\n",
        "      <th>total_bill</th>\n",
        "    </tr>\n",
        "    <tr>\n",
        "      <th>sex</th>\n",
        "      <th>smoker</th>\n",
        "      <th></th>\n",
        "      <th></th>\n",
        "      <th></th>\n",
        "    </tr>\n",
        "  </thead>\n",
        "  <tbody>\n",
        "    <tr>\n",
        "      <th rowspan=\"2\" valign=\"top\">Female</th>\n",
        "      <th>No</th>\n",
        "      <td> 2.592593</td>\n",
        "      <td> 2.773519</td>\n",
        "      <td> 18.105185</td>\n",
        "    </tr>\n",
        "    <tr>\n",
        "      <th>Yes</th>\n",
        "      <td> 2.242424</td>\n",
        "      <td> 2.931515</td>\n",
        "      <td> 17.977879</td>\n",
        "    </tr>\n",
        "    <tr>\n",
        "      <th rowspan=\"2\" valign=\"top\">Male</th>\n",
        "      <th>No</th>\n",
        "      <td> 2.711340</td>\n",
        "      <td> 3.113402</td>\n",
        "      <td> 19.791237</td>\n",
        "    </tr>\n",
        "    <tr>\n",
        "      <th>Yes</th>\n",
        "      <td> 2.500000</td>\n",
        "      <td> 3.051167</td>\n",
        "      <td> 22.284500</td>\n",
        "    </tr>\n",
        "  </tbody>\n",
        "</table>\n",
        "</div>"
       ],
       "output_type": "pyout",
       "prompt_number": 163,
       "text": [
        "                   size       tip  total_bill\n",
        "sex    smoker                                \n",
        "Female No      2.592593  2.773519   18.105185\n",
        "       Yes     2.242424  2.931515   17.977879\n",
        "Male   No      2.711340  3.113402   19.791237\n",
        "       Yes     2.500000  3.051167   22.284500"
       ]
      }
     ],
     "prompt_number": 163
    },
    {
     "cell_type": "code",
     "collapsed": false,
     "input": [
      "tips.pivot_table(['tip','total_bill'],rows=['day','smoker'],cols='sex')"
     ],
     "language": "python",
     "metadata": {},
     "outputs": [
      {
       "html": [
        "<div style=\"max-height:1000px;max-width:1500px;overflow:auto;\">\n",
        "<table border=\"1\" class=\"dataframe\">\n",
        "  <thead>\n",
        "    <tr>\n",
        "      <th></th>\n",
        "      <th></th>\n",
        "      <th colspan=\"2\" halign=\"left\">tip</th>\n",
        "      <th colspan=\"2\" halign=\"left\">total_bill</th>\n",
        "    </tr>\n",
        "    <tr>\n",
        "      <th></th>\n",
        "      <th>sex</th>\n",
        "      <th>Female</th>\n",
        "      <th>Male</th>\n",
        "      <th>Female</th>\n",
        "      <th>Male</th>\n",
        "    </tr>\n",
        "    <tr>\n",
        "      <th>day</th>\n",
        "      <th>smoker</th>\n",
        "      <th></th>\n",
        "      <th></th>\n",
        "      <th></th>\n",
        "      <th></th>\n",
        "    </tr>\n",
        "  </thead>\n",
        "  <tbody>\n",
        "    <tr>\n",
        "      <th rowspan=\"2\" valign=\"top\">Fri</th>\n",
        "      <th>No</th>\n",
        "      <td> 3.125000</td>\n",
        "      <td> 2.500000</td>\n",
        "      <td> 19.365000</td>\n",
        "      <td> 17.475000</td>\n",
        "    </tr>\n",
        "    <tr>\n",
        "      <th>Yes</th>\n",
        "      <td> 2.682857</td>\n",
        "      <td> 2.741250</td>\n",
        "      <td> 12.654286</td>\n",
        "      <td> 20.452500</td>\n",
        "    </tr>\n",
        "    <tr>\n",
        "      <th rowspan=\"2\" valign=\"top\">Sat</th>\n",
        "      <th>No</th>\n",
        "      <td> 2.724615</td>\n",
        "      <td> 3.256563</td>\n",
        "      <td> 19.003846</td>\n",
        "      <td> 19.929063</td>\n",
        "    </tr>\n",
        "    <tr>\n",
        "      <th>Yes</th>\n",
        "      <td> 2.868667</td>\n",
        "      <td> 2.879259</td>\n",
        "      <td> 20.266667</td>\n",
        "      <td> 21.837778</td>\n",
        "    </tr>\n",
        "    <tr>\n",
        "      <th rowspan=\"2\" valign=\"top\">Sun</th>\n",
        "      <th>No</th>\n",
        "      <td> 3.329286</td>\n",
        "      <td> 3.115349</td>\n",
        "      <td> 20.824286</td>\n",
        "      <td> 20.403256</td>\n",
        "    </tr>\n",
        "    <tr>\n",
        "      <th>Yes</th>\n",
        "      <td> 3.500000</td>\n",
        "      <td> 3.521333</td>\n",
        "      <td> 16.540000</td>\n",
        "      <td> 26.141333</td>\n",
        "    </tr>\n",
        "    <tr>\n",
        "      <th rowspan=\"2\" valign=\"top\">Thur</th>\n",
        "      <th>No</th>\n",
        "      <td> 2.459600</td>\n",
        "      <td> 2.941500</td>\n",
        "      <td> 16.014400</td>\n",
        "      <td> 18.486500</td>\n",
        "    </tr>\n",
        "    <tr>\n",
        "      <th>Yes</th>\n",
        "      <td> 2.990000</td>\n",
        "      <td> 3.058000</td>\n",
        "      <td> 19.218571</td>\n",
        "      <td> 19.171000</td>\n",
        "    </tr>\n",
        "  </tbody>\n",
        "</table>\n",
        "</div>"
       ],
       "output_type": "pyout",
       "prompt_number": 177,
       "text": [
        "                  tip            total_bill           \n",
        "sex            Female      Male      Female       Male\n",
        "day  smoker                                           \n",
        "Fri  No      3.125000  2.500000   19.365000  17.475000\n",
        "     Yes     2.682857  2.741250   12.654286  20.452500\n",
        "Sat  No      2.724615  3.256563   19.003846  19.929063\n",
        "     Yes     2.868667  2.879259   20.266667  21.837778\n",
        "Sun  No      3.329286  3.115349   20.824286  20.403256\n",
        "     Yes     3.500000  3.521333   16.540000  26.141333\n",
        "Thur No      2.459600  2.941500   16.014400  18.486500\n",
        "     Yes     2.990000  3.058000   19.218571  19.171000"
       ]
      }
     ],
     "prompt_number": 177
    },
    {
     "cell_type": "code",
     "collapsed": false,
     "input": [
      "tips.pivot_table(['tip','total_bill'],rows=['day','smoker'],cols='sex',aggfunc=sum,margins=True)"
     ],
     "language": "python",
     "metadata": {},
     "outputs": [
      {
       "html": [
        "<div style=\"max-height:1000px;max-width:1500px;overflow:auto;\">\n",
        "<table border=\"1\" class=\"dataframe\">\n",
        "  <thead>\n",
        "    <tr>\n",
        "      <th></th>\n",
        "      <th></th>\n",
        "      <th colspan=\"3\" halign=\"left\">tip</th>\n",
        "      <th colspan=\"3\" halign=\"left\">total_bill</th>\n",
        "    </tr>\n",
        "    <tr>\n",
        "      <th></th>\n",
        "      <th>sex</th>\n",
        "      <th>Female</th>\n",
        "      <th>Male</th>\n",
        "      <th>All</th>\n",
        "      <th>Female</th>\n",
        "      <th>Male</th>\n",
        "      <th>All</th>\n",
        "    </tr>\n",
        "    <tr>\n",
        "      <th>day</th>\n",
        "      <th>smoker</th>\n",
        "      <th></th>\n",
        "      <th></th>\n",
        "      <th></th>\n",
        "      <th></th>\n",
        "      <th></th>\n",
        "      <th></th>\n",
        "    </tr>\n",
        "  </thead>\n",
        "  <tbody>\n",
        "    <tr>\n",
        "      <th rowspan=\"2\" valign=\"top\">Fri</th>\n",
        "      <th>No</th>\n",
        "      <td>   6.25</td>\n",
        "      <td>   5.00</td>\n",
        "      <td>  11.25</td>\n",
        "      <td>   38.73</td>\n",
        "      <td>   34.95</td>\n",
        "      <td>   73.68</td>\n",
        "    </tr>\n",
        "    <tr>\n",
        "      <th>Yes</th>\n",
        "      <td>  18.78</td>\n",
        "      <td>  21.93</td>\n",
        "      <td>  40.71</td>\n",
        "      <td>   88.58</td>\n",
        "      <td>  163.62</td>\n",
        "      <td>  252.20</td>\n",
        "    </tr>\n",
        "    <tr>\n",
        "      <th rowspan=\"2\" valign=\"top\">Sat</th>\n",
        "      <th>No</th>\n",
        "      <td>  35.42</td>\n",
        "      <td> 104.21</td>\n",
        "      <td> 139.63</td>\n",
        "      <td>  247.05</td>\n",
        "      <td>  637.73</td>\n",
        "      <td>  884.78</td>\n",
        "    </tr>\n",
        "    <tr>\n",
        "      <th>Yes</th>\n",
        "      <td>  43.03</td>\n",
        "      <td>  77.74</td>\n",
        "      <td> 120.77</td>\n",
        "      <td>  304.00</td>\n",
        "      <td>  589.62</td>\n",
        "      <td>  893.62</td>\n",
        "    </tr>\n",
        "    <tr>\n",
        "      <th rowspan=\"2\" valign=\"top\">Sun</th>\n",
        "      <th>No</th>\n",
        "      <td>  46.61</td>\n",
        "      <td> 133.96</td>\n",
        "      <td> 180.57</td>\n",
        "      <td>  291.54</td>\n",
        "      <td>  877.34</td>\n",
        "      <td> 1168.88</td>\n",
        "    </tr>\n",
        "    <tr>\n",
        "      <th>Yes</th>\n",
        "      <td>  14.00</td>\n",
        "      <td>  52.82</td>\n",
        "      <td>  66.82</td>\n",
        "      <td>   66.16</td>\n",
        "      <td>  392.12</td>\n",
        "      <td>  458.28</td>\n",
        "    </tr>\n",
        "    <tr>\n",
        "      <th rowspan=\"2\" valign=\"top\">Thur</th>\n",
        "      <th>No</th>\n",
        "      <td>  61.49</td>\n",
        "      <td>  58.83</td>\n",
        "      <td> 120.32</td>\n",
        "      <td>  400.36</td>\n",
        "      <td>  369.73</td>\n",
        "      <td>  770.09</td>\n",
        "    </tr>\n",
        "    <tr>\n",
        "      <th rowspan=\"2\" valign=\"top\">Yes</th>\n",
        "      <td>  20.93</td>\n",
        "      <td>  30.58</td>\n",
        "      <td>  51.51</td>\n",
        "      <td>  134.53</td>\n",
        "      <td>  191.71</td>\n",
        "      <td>  326.24</td>\n",
        "    </tr>\n",
        "    <tr>\n",
        "      <th>All</th>\n",
        "      <td> 246.51</td>\n",
        "      <td> 485.07</td>\n",
        "      <td> 731.58</td>\n",
        "      <td> 1570.95</td>\n",
        "      <td> 3256.82</td>\n",
        "      <td> 4827.77</td>\n",
        "    </tr>\n",
        "  </tbody>\n",
        "</table>\n",
        "</div>"
       ],
       "output_type": "pyout",
       "prompt_number": 183,
       "text": [
        "                tip                  total_bill                  \n",
        "sex          Female    Male     All      Female     Male      All\n",
        "day  smoker                                                      \n",
        "Fri  No        6.25    5.00   11.25       38.73    34.95    73.68\n",
        "     Yes      18.78   21.93   40.71       88.58   163.62   252.20\n",
        "Sat  No       35.42  104.21  139.63      247.05   637.73   884.78\n",
        "     Yes      43.03   77.74  120.77      304.00   589.62   893.62\n",
        "Sun  No       46.61  133.96  180.57      291.54   877.34  1168.88\n",
        "     Yes      14.00   52.82   66.82       66.16   392.12   458.28\n",
        "Thur No       61.49   58.83  120.32      400.36   369.73   770.09\n",
        "     Yes      20.93   30.58   51.51      134.53   191.71   326.24\n",
        "All          246.51  485.07  731.58     1570.95  3256.82  4827.77"
       ]
      }
     ],
     "prompt_number": 183
    },
    {
     "cell_type": "code",
     "collapsed": false,
     "input": [
      "# counting how often does a certain pair of values occures:\n",
      "ser1 = Series(rand.randint(0,2,10))\n",
      "ser2 = Series(rand.randint(10,12,10))\n",
      "ser3 = Series(rand.randint(20,22,10))\n",
      "dt = DataFrame([ser1,ser2,ser3])\n",
      "print(dt)\n",
      "pd.crosstab(ser1,ser2,margins=True)"
     ],
     "language": "python",
     "metadata": {},
     "outputs": [
      {
       "output_type": "stream",
       "stream": "stdout",
       "text": [
        "    0   1   2   3   4   5   6   7   8   9\n",
        "0   1   0   0   0   1   1   1   0   1   0\n",
        "1  10  11  10  11  10  10  10  10  10  11\n",
        "2  20  20  21  20  20  21  21  21  21  21\n"
       ]
      },
      {
       "html": [
        "<div style=\"max-height:1000px;max-width:1500px;overflow:auto;\">\n",
        "<table border=\"1\" class=\"dataframe\">\n",
        "  <thead>\n",
        "    <tr style=\"text-align: right;\">\n",
        "      <th>col_0</th>\n",
        "      <th>10</th>\n",
        "      <th>11</th>\n",
        "      <th>All</th>\n",
        "    </tr>\n",
        "    <tr>\n",
        "      <th>row_0</th>\n",
        "      <th></th>\n",
        "      <th></th>\n",
        "      <th></th>\n",
        "    </tr>\n",
        "  </thead>\n",
        "  <tbody>\n",
        "    <tr>\n",
        "      <th>0</th>\n",
        "      <td> 2</td>\n",
        "      <td> 3</td>\n",
        "      <td>  5</td>\n",
        "    </tr>\n",
        "    <tr>\n",
        "      <th>1</th>\n",
        "      <td> 5</td>\n",
        "      <td> 0</td>\n",
        "      <td>  5</td>\n",
        "    </tr>\n",
        "    <tr>\n",
        "      <th>All</th>\n",
        "      <td> 7</td>\n",
        "      <td> 3</td>\n",
        "      <td> 10</td>\n",
        "    </tr>\n",
        "  </tbody>\n",
        "</table>\n",
        "</div>"
       ],
       "output_type": "pyout",
       "prompt_number": 193,
       "text": [
        "col_0  10  11  All\n",
        "row_0             \n",
        "0       2   3    5\n",
        "1       5   0    5\n",
        "All     7   3   10"
       ]
      }
     ],
     "prompt_number": 193
    },
    {
     "cell_type": "code",
     "collapsed": false,
     "input": [
      "pd.crosstab([ser1,ser2],ser3,margins=True)"
     ],
     "language": "python",
     "metadata": {},
     "outputs": [
      {
       "html": [
        "<div style=\"max-height:1000px;max-width:1500px;overflow:auto;\">\n",
        "<table border=\"1\" class=\"dataframe\">\n",
        "  <thead>\n",
        "    <tr style=\"text-align: right;\">\n",
        "      <th></th>\n",
        "      <th>col_0</th>\n",
        "      <th>20</th>\n",
        "      <th>21</th>\n",
        "      <th>All</th>\n",
        "    </tr>\n",
        "    <tr>\n",
        "      <th>row_0</th>\n",
        "      <th>row_1</th>\n",
        "      <th></th>\n",
        "      <th></th>\n",
        "      <th></th>\n",
        "    </tr>\n",
        "  </thead>\n",
        "  <tbody>\n",
        "    <tr>\n",
        "      <th rowspan=\"2\" valign=\"top\">0</th>\n",
        "      <th>10</th>\n",
        "      <td> 0</td>\n",
        "      <td> 2</td>\n",
        "      <td>  2</td>\n",
        "    </tr>\n",
        "    <tr>\n",
        "      <th>11</th>\n",
        "      <td> 2</td>\n",
        "      <td> 1</td>\n",
        "      <td>  3</td>\n",
        "    </tr>\n",
        "    <tr>\n",
        "      <th>1</th>\n",
        "      <th rowspan=\"2\" valign=\"top\">10</th>\n",
        "      <td> 2</td>\n",
        "      <td> 3</td>\n",
        "      <td>  5</td>\n",
        "    </tr>\n",
        "    <tr>\n",
        "      <th>All</th>\n",
        "      <td> 4</td>\n",
        "      <td> 6</td>\n",
        "      <td> 10</td>\n",
        "    </tr>\n",
        "  </tbody>\n",
        "</table>\n",
        "</div>"
       ],
       "output_type": "pyout",
       "prompt_number": 194,
       "text": [
        "col_0        20  21  All\n",
        "row_0 row_1             \n",
        "0     10      0   2    2\n",
        "      11      2   1    3\n",
        "1     10      2   3    5\n",
        "All           4   6   10"
       ]
      }
     ],
     "prompt_number": 194
    },
    {
     "cell_type": "heading",
     "level": 1,
     "metadata": {},
     "source": [
      "Time Series"
     ]
    },
    {
     "cell_type": "code",
     "collapsed": false,
     "input": [
      "now = datetime.now()\n",
      "now.year, now.month, now.day, now.hour, now.minute"
     ],
     "language": "python",
     "metadata": {},
     "outputs": [
      {
       "output_type": "pyout",
       "prompt_number": 42,
       "text": [
        "(2013, 8, 30, 11, 45)"
       ]
      }
     ],
     "prompt_number": 42
    },
    {
     "cell_type": "code",
     "collapsed": false,
     "input": [
      "delta = now-datetime.now()\n",
      "delta.days"
     ],
     "language": "python",
     "metadata": {},
     "outputs": [
      {
       "output_type": "pyout",
       "prompt_number": 51,
       "text": [
        "-1"
       ]
      }
     ],
     "prompt_number": 51
    },
    {
     "cell_type": "code",
     "collapsed": false,
     "input": [
      "now.strftime('%d.%m.%Y')"
     ],
     "language": "python",
     "metadata": {},
     "outputs": [
      {
       "output_type": "pyout",
       "prompt_number": 53,
       "text": [
        "'30.08.2013'"
       ]
      }
     ],
     "prompt_number": 53
    },
    {
     "cell_type": "code",
     "collapsed": false,
     "input": [
      "datetime.strptime(\"2012-12-15\", '%Y-%m-%d')"
     ],
     "language": "python",
     "metadata": {},
     "outputs": [
      {
       "output_type": "pyout",
       "prompt_number": 56,
       "text": [
        "datetime.datetime(2012, 12, 15, 0, 0)"
       ]
      }
     ],
     "prompt_number": 56
    },
    {
     "cell_type": "code",
     "collapsed": false,
     "input": [
      "dateutil.parser.parse(\"07:56:59 / 12. Sep 1976\", dayfirst=True)"
     ],
     "language": "python",
     "metadata": {},
     "outputs": [
      {
       "output_type": "pyout",
       "prompt_number": 67,
       "text": [
        "datetime.datetime(1976, 9, 12, 7, 56, 59)"
       ]
      }
     ],
     "prompt_number": 67
    },
    {
     "cell_type": "code",
     "collapsed": false,
     "input": [
      "# parse arrays of date strings with pandas:\n",
      "pd.to_datetime(['7/6/2011',None])"
     ],
     "language": "python",
     "metadata": {},
     "outputs": [
      {
       "output_type": "pyout",
       "prompt_number": 72,
       "text": [
        "<class 'pandas.tseries.index.DatetimeIndex'>\n",
        "[2011-07-06 00:00:00, NaT]\n",
        "Length: 2, Freq: None, Timezone: None"
       ]
      }
     ],
     "prompt_number": 72
    },
    {
     "cell_type": "code",
     "collapsed": false,
     "input": [
      "ts = Series(np.random.randn(1000), index=pd.date_range('1/1/2000', periods=1000))\n",
      "ts[:5]"
     ],
     "language": "python",
     "metadata": {},
     "outputs": [
      {
       "output_type": "pyout",
       "prompt_number": 103,
       "text": [
        "2000-01-01   -1.977406\n",
        "2000-01-02   -1.265072\n",
        "2000-01-03   -0.156686\n",
        "2000-01-04    0.429408\n",
        "2000-01-05   -0.104964\n",
        "Freq: D, dtype: float64"
       ]
      }
     ],
     "prompt_number": 103
    },
    {
     "cell_type": "code",
     "collapsed": false,
     "input": [
      "ts['2000-02']"
     ],
     "language": "python",
     "metadata": {},
     "outputs": [
      {
       "output_type": "pyout",
       "prompt_number": 104,
       "text": [
        "2000-02-01    0.322620\n",
        "2000-02-02    0.565578\n",
        "2000-02-03    0.715117\n",
        "2000-02-04   -0.666173\n",
        "2000-02-05   -0.600000\n",
        "2000-02-06   -0.987512\n",
        "2000-02-07    2.849058\n",
        "2000-02-08    0.025071\n",
        "2000-02-09    0.099177\n",
        "2000-02-10    1.119427\n",
        "2000-02-11   -1.600575\n",
        "2000-02-12    0.606665\n",
        "2000-02-13   -0.344078\n",
        "2000-02-14   -0.080394\n",
        "2000-02-15   -0.445799\n",
        "2000-02-16   -1.199052\n",
        "2000-02-17   -0.408375\n",
        "2000-02-18   -0.388830\n",
        "2000-02-19   -0.339986\n",
        "2000-02-20    1.979030\n",
        "2000-02-21    0.742477\n",
        "2000-02-22   -0.474137\n",
        "2000-02-23   -0.000435\n",
        "2000-02-24   -0.431915\n",
        "2000-02-25    0.807162\n",
        "2000-02-26   -0.719529\n",
        "2000-02-27   -1.702265\n",
        "2000-02-28   -0.412564\n",
        "2000-02-29    1.988327\n",
        "Freq: D, dtype: float64"
       ]
      }
     ],
     "prompt_number": 104
    },
    {
     "cell_type": "code",
     "collapsed": false,
     "input": [
      "ts['2000-01-05':'2000-01-08']"
     ],
     "language": "python",
     "metadata": {},
     "outputs": [
      {
       "output_type": "pyout",
       "prompt_number": 105,
       "text": [
        "2000-01-05   -0.104964\n",
        "2000-01-06    0.242240\n",
        "2000-01-07    0.007631\n",
        "2000-01-08   -2.602129\n",
        "Freq: D, dtype: float64"
       ]
      }
     ],
     "prompt_number": 105
    },
    {
     "cell_type": "code",
     "collapsed": false,
     "input": [
      "# use ts.between_time to select between hours of a day"
     ],
     "language": "python",
     "metadata": {},
     "outputs": []
    },
    {
     "cell_type": "code",
     "collapsed": false,
     "input": [
      "pd.date_range('1/1/2000',periods=2,freq=\"D\")"
     ],
     "language": "python",
     "metadata": {},
     "outputs": [
      {
       "output_type": "pyout",
       "prompt_number": 84,
       "text": [
        "<class 'pandas.tseries.index.DatetimeIndex'>\n",
        "[2000-01-01 00:00:00, 2000-01-02 00:00:00]\n",
        "Length: 2, Freq: D, Timezone: None"
       ]
      }
     ],
     "prompt_number": 84
    },
    {
     "cell_type": "code",
     "collapsed": false,
     "input": [
      "pd.date_range('1/1/2000',periods=3,freq=\"WOM-3FRI\") # every Friday of the 3rd week of a month ie lots of options!"
     ],
     "language": "python",
     "metadata": {},
     "outputs": [
      {
       "output_type": "pyout",
       "prompt_number": 91,
       "text": [
        "<class 'pandas.tseries.index.DatetimeIndex'>\n",
        "[2000-01-21 00:00:00, ..., 2000-03-17 00:00:00]\n",
        "Length: 3, Freq: WOM-3FRI, Timezone: None"
       ]
      }
     ],
     "prompt_number": 91
    },
    {
     "cell_type": "code",
     "collapsed": false,
     "input": [
      "ts[:'2000-01-2'].resample('H')"
     ],
     "language": "python",
     "metadata": {},
     "outputs": [
      {
       "output_type": "pyout",
       "prompt_number": 90,
       "text": [
        "2000-01-01 00:00:00   -0.174162\n",
        "2000-01-01 01:00:00         NaN\n",
        "2000-01-01 02:00:00         NaN\n",
        "2000-01-01 03:00:00         NaN\n",
        "2000-01-01 04:00:00         NaN\n",
        "2000-01-01 05:00:00         NaN\n",
        "2000-01-01 06:00:00         NaN\n",
        "2000-01-01 07:00:00         NaN\n",
        "2000-01-01 08:00:00         NaN\n",
        "2000-01-01 09:00:00         NaN\n",
        "2000-01-01 10:00:00         NaN\n",
        "2000-01-01 11:00:00         NaN\n",
        "2000-01-01 12:00:00         NaN\n",
        "2000-01-01 13:00:00         NaN\n",
        "2000-01-01 14:00:00         NaN\n",
        "2000-01-01 15:00:00         NaN\n",
        "2000-01-01 16:00:00         NaN\n",
        "2000-01-01 17:00:00         NaN\n",
        "2000-01-01 18:00:00         NaN\n",
        "2000-01-01 19:00:00         NaN\n",
        "2000-01-01 20:00:00         NaN\n",
        "2000-01-01 21:00:00         NaN\n",
        "2000-01-01 22:00:00         NaN\n",
        "2000-01-01 23:00:00         NaN\n",
        "2000-01-02 00:00:00   -0.024849\n",
        "Freq: H, dtype: float64"
       ]
      }
     ],
     "prompt_number": 90
    },
    {
     "cell_type": "code",
     "collapsed": false,
     "input": [
      "# creating info about (percental) change of data points use something like: ts / ts.shift(1) - 1"
     ],
     "language": "python",
     "metadata": {},
     "outputs": [],
     "prompt_number": 92
    },
    {
     "cell_type": "code",
     "collapsed": false,
     "input": [
      "import pytz\n",
      "ts = pd.date_range('3/9/2012 9:30', periods=3, freq='D').tz_localize('CET') # ==  pd.date_range('3/9/2012 9:30', periods=3, freq='D', tz='CET')\n",
      "ts"
     ],
     "language": "python",
     "metadata": {},
     "outputs": [
      {
       "output_type": "pyout",
       "prompt_number": 98,
       "text": [
        "<class 'pandas.tseries.index.DatetimeIndex'>\n",
        "[2012-03-09 09:30:00, ..., 2012-03-11 09:30:00]\n",
        "Length: 3, Freq: D, Timezone: CET"
       ]
      }
     ],
     "prompt_number": 98
    },
    {
     "cell_type": "code",
     "collapsed": false,
     "input": [
      "ts.tz_convert('US/Eastern')"
     ],
     "language": "python",
     "metadata": {},
     "outputs": [
      {
       "output_type": "pyout",
       "prompt_number": 100,
       "text": [
        "<class 'pandas.tseries.index.DatetimeIndex'>\n",
        "[2012-03-09 03:30:00, ..., 2012-03-11 04:30:00]\n",
        "Length: 3, Freq: D, Timezone: US/Eastern"
       ]
      }
     ],
     "prompt_number": 100
    },
    {
     "cell_type": "code",
     "collapsed": false,
     "input": [
      "ts.tz_convert('Asia/Shanghai')"
     ],
     "language": "python",
     "metadata": {},
     "outputs": [
      {
       "output_type": "pyout",
       "prompt_number": 101,
       "text": [
        "<class 'pandas.tseries.index.DatetimeIndex'>\n",
        "[2012-03-09 16:30:00, ..., 2012-03-11 16:30:00]\n",
        "Length: 3, Freq: D, Timezone: Asia/Shanghai"
       ]
      }
     ],
     "prompt_number": 101
    },
    {
     "cell_type": "code",
     "collapsed": false,
     "input": [
      "# periods are time spans:\n",
      "p = pd.Period(2007, freq='A-DEC') # ie. (1.1.2007 - 31.12.2007)\n",
      "p + 1 # ie. (1.1.2008 - 31.12.2008)"
     ],
     "language": "python",
     "metadata": {},
     "outputs": [
      {
       "output_type": "pyout",
       "prompt_number": 102,
       "text": [
        "Period('2008', 'A-DEC')"
       ]
      }
     ],
     "prompt_number": 102
    },
    {
     "cell_type": "heading",
     "level": 1,
     "metadata": {},
     "source": [
      "Financial Data Analysis"
     ]
    },
    {
     "cell_type": "code",
     "collapsed": false,
     "input": [
      "import pandas.io.data as web\n",
      "data = web.get_data_yahoo('GOOG', '2013-01-01')"
     ],
     "language": "python",
     "metadata": {},
     "outputs": [],
     "prompt_number": 22
    },
    {
     "cell_type": "code",
     "collapsed": false,
     "input": [
      "data[-10:]"
     ],
     "language": "python",
     "metadata": {},
     "outputs": [
      {
       "html": [
        "<div style=\"max-height:1000px;max-width:1500px;overflow:auto;\">\n",
        "<table border=\"1\" class=\"dataframe\">\n",
        "  <thead>\n",
        "    <tr style=\"text-align: right;\">\n",
        "      <th></th>\n",
        "      <th>Open</th>\n",
        "      <th>High</th>\n",
        "      <th>Low</th>\n",
        "      <th>Close</th>\n",
        "      <th>Volume</th>\n",
        "      <th>Adj Close</th>\n",
        "    </tr>\n",
        "    <tr>\n",
        "      <th>Date</th>\n",
        "      <th></th>\n",
        "      <th></th>\n",
        "      <th></th>\n",
        "      <th></th>\n",
        "      <th></th>\n",
        "      <th></th>\n",
        "    </tr>\n",
        "  </thead>\n",
        "  <tbody>\n",
        "    <tr>\n",
        "      <th>2013-10-25</th>\n",
        "      <td> 1028.82</td>\n",
        "      <td> 1028.82</td>\n",
        "      <td> 1010.74</td>\n",
        "      <td> 1015.20</td>\n",
        "      <td> 2030500</td>\n",
        "      <td> 1015.20</td>\n",
        "    </tr>\n",
        "    <tr>\n",
        "      <th>2013-10-28</th>\n",
        "      <td> 1015.20</td>\n",
        "      <td> 1023.43</td>\n",
        "      <td> 1012.99</td>\n",
        "      <td> 1015.00</td>\n",
        "      <td> 1158700</td>\n",
        "      <td> 1015.00</td>\n",
        "    </tr>\n",
        "    <tr>\n",
        "      <th>2013-10-29</th>\n",
        "      <td> 1019.10</td>\n",
        "      <td> 1036.94</td>\n",
        "      <td> 1013.50</td>\n",
        "      <td> 1036.24</td>\n",
        "      <td> 1605000</td>\n",
        "      <td> 1036.24</td>\n",
        "    </tr>\n",
        "    <tr>\n",
        "      <th>2013-10-30</th>\n",
        "      <td> 1037.43</td>\n",
        "      <td> 1037.51</td>\n",
        "      <td> 1026.00</td>\n",
        "      <td> 1030.42</td>\n",
        "      <td> 1324100</td>\n",
        "      <td> 1030.42</td>\n",
        "    </tr>\n",
        "    <tr>\n",
        "      <th>2013-10-31</th>\n",
        "      <td> 1028.93</td>\n",
        "      <td> 1041.52</td>\n",
        "      <td> 1023.97</td>\n",
        "      <td> 1030.58</td>\n",
        "      <td> 1616400</td>\n",
        "      <td> 1030.58</td>\n",
        "    </tr>\n",
        "    <tr>\n",
        "      <th>2013-11-01</th>\n",
        "      <td> 1031.79</td>\n",
        "      <td> 1036.00</td>\n",
        "      <td> 1025.10</td>\n",
        "      <td> 1027.04</td>\n",
        "      <td> 1283300</td>\n",
        "      <td> 1027.04</td>\n",
        "    </tr>\n",
        "    <tr>\n",
        "      <th>2013-11-04</th>\n",
        "      <td> 1031.50</td>\n",
        "      <td> 1032.37</td>\n",
        "      <td> 1022.03</td>\n",
        "      <td> 1026.11</td>\n",
        "      <td> 1138800</td>\n",
        "      <td> 1026.11</td>\n",
        "    </tr>\n",
        "    <tr>\n",
        "      <th>2013-11-05</th>\n",
        "      <td> 1020.35</td>\n",
        "      <td> 1031.65</td>\n",
        "      <td> 1017.42</td>\n",
        "      <td> 1021.52</td>\n",
        "      <td> 1181400</td>\n",
        "      <td> 1021.52</td>\n",
        "    </tr>\n",
        "    <tr>\n",
        "      <th>2013-11-06</th>\n",
        "      <td> 1025.60</td>\n",
        "      <td> 1027.00</td>\n",
        "      <td> 1015.37</td>\n",
        "      <td> 1022.75</td>\n",
        "      <td>  912900</td>\n",
        "      <td> 1022.75</td>\n",
        "    </tr>\n",
        "    <tr>\n",
        "      <th>2013-11-07</th>\n",
        "      <td> 1022.61</td>\n",
        "      <td> 1023.93</td>\n",
        "      <td> 1007.64</td>\n",
        "      <td> 1007.95</td>\n",
        "      <td> 1679600</td>\n",
        "      <td> 1007.95</td>\n",
        "    </tr>\n",
        "  </tbody>\n",
        "</table>\n",
        "</div>"
       ],
       "output_type": "pyout",
       "prompt_number": 23,
       "text": [
        "               Open     High      Low    Close   Volume  Adj Close\n",
        "Date                                                              \n",
        "2013-10-25  1028.82  1028.82  1010.74  1015.20  2030500    1015.20\n",
        "2013-10-28  1015.20  1023.43  1012.99  1015.00  1158700    1015.00\n",
        "2013-10-29  1019.10  1036.94  1013.50  1036.24  1605000    1036.24\n",
        "2013-10-30  1037.43  1037.51  1026.00  1030.42  1324100    1030.42\n",
        "2013-10-31  1028.93  1041.52  1023.97  1030.58  1616400    1030.58\n",
        "2013-11-01  1031.79  1036.00  1025.10  1027.04  1283300    1027.04\n",
        "2013-11-04  1031.50  1032.37  1022.03  1026.11  1138800    1026.11\n",
        "2013-11-05  1020.35  1031.65  1017.42  1021.52  1181400    1021.52\n",
        "2013-11-06  1025.60  1027.00  1015.37  1022.75   912900    1022.75\n",
        "2013-11-07  1022.61  1023.93  1007.64  1007.95  1679600    1007.95"
       ]
      }
     ],
     "prompt_number": 23
    },
    {
     "cell_type": "code",
     "collapsed": false,
     "input": [],
     "language": "python",
     "metadata": {},
     "outputs": []
    }
   ],
   "metadata": {}
  }
 ]
}