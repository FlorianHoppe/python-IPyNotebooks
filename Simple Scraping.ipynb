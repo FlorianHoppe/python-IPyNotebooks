{
 "metadata": {
  "name": "Simple Scraping"
 },
 "nbformat": 3,
 "nbformat_minor": 0,
 "worksheets": [
  {
   "cells": [
    {
     "cell_type": "markdown",
     "metadata": {},
     "source": [
      "Scraping\n",
      "=====\n",
      "\n",
      "This is a simple script that downloads files referenced as links in an HTML file. I uses this to scrape PDFs from Coursera.org course pages.\n",
      "\n",
      "(c) Florian Hoppe 2013"
     ]
    },
    {
     "cell_type": "code",
     "collapsed": false,
     "input": [
      "import urlparse\n",
      "import urllib2 as urllib\n",
      "import urllib\n",
      "import sys\n",
      "import os\n",
      "import threading\n",
      "from lxml import etree\n",
      "\n",
      "def _download_link(url,target_dir):\n",
      "    urlpath = urlparse.urlsplit(url)\n",
      "    filename = target_dir + \"/\" + urllib.unquote(urlpath[2])[1:].replace(\"/\",\"_\")\n",
      "    \n",
      "    print(\"loading \" + url + \" and saving to \" + filename)\n",
      "    if os.path.exists(filename):\n",
      "        print(filename + \" already exists. download is aborded.\")\n",
      "    else:\n",
      "        try:\n",
      "            with open(filename, \"wb\") as f:\n",
      "                req = urllib.urlopen(url)\n",
      "                f.write(req.read())\n",
      "                print(\"Done with \" + filename)\n",
      "        except IOError:\n",
      "            print(\"IO Error for \" + url)\n",
      "        \n",
      "\n",
      "def download_all( filename, link_filter = 'pdf'):\n",
      "    \"\"\"Searches the given sourcefile for links and downloads their targets.\n",
      "\n",
      "    Args:\n",
      "        filename: should reference a HMTL file in the current working directory\n",
      "        link_filter: string that contains the extension of the files that should be downloaded\n",
      "    Returns:\n",
      "        nothing. the link targets will be saved in a subdirectory (must exists before calling the function).\n",
      "    Raises:\n",
      "        nothing\n",
      "    \"\"\"\n",
      "    \n",
      "    parser = etree.HTMLParser()\n",
      "    tree = etree.parse(filename, parser)\n",
      "\n",
      "    links = tree.xpath('//a')\n",
      "    \n",
      "    for link in links:\n",
      "        if 'href' in link.attrib:\n",
      "            url = link.attrib['href']\n",
      "\n",
      "            if url[-3:] == link_filter:\n",
      "                t = threading.Thread(target=_download_link,args=(url,link_filter + 's'))\n",
      "                t.start()\n",
      "#                download_link(url,link_filter + 's')"
     ],
     "language": "python",
     "metadata": {},
     "outputs": [],
     "prompt_number": 1
    },
    {
     "cell_type": "code",
     "collapsed": false,
     "input": [
      "cd /Users/florianhoppe/Documents/SkyDrive/Coding/python/scrapy_tutorial"
     ],
     "language": "python",
     "metadata": {},
     "outputs": [
      {
       "output_type": "stream",
       "stream": "stdout",
       "text": [
        "/Users/florianhoppe/Documents/SkyDrive/Coding/python/scrapy_tutorial\n"
       ]
      }
     ],
     "prompt_number": 19
    },
    {
     "cell_type": "code",
     "collapsed": false,
     "input": [
      "cd /Users/florianhoppe/Google Drive/Wissen/MOOCs/"
     ],
     "language": "python",
     "metadata": {},
     "outputs": [
      {
       "output_type": "stream",
       "stream": "stdout",
       "text": [
        "/Users/florianhoppe/Google Drive/Wissen/MOOCs\n"
       ]
      }
     ],
     "prompt_number": 2
    },
    {
     "cell_type": "code",
     "collapsed": false,
     "input": [
      "cd Data\\ Analysis"
     ],
     "language": "python",
     "metadata": {},
     "outputs": [
      {
       "output_type": "stream",
       "stream": "stdout",
       "text": [
        "/Users/florianhoppe/Google Drive/Wissen/MOOCs/Data Analysis\n"
       ]
      }
     ],
     "prompt_number": 3
    },
    {
     "cell_type": "code",
     "collapsed": false,
     "input": [
      "ls"
     ],
     "language": "python",
     "metadata": {},
     "outputs": [
      {
       "output_type": "stream",
       "stream": "stdout",
       "text": [
        "Data Analysis.html  code                \u001b[34mpdfs\u001b[m\u001b[m/               \u001b[34mvideos\u001b[m\u001b[m/\r\n"
       ]
      }
     ],
     "prompt_number": 4
    },
    {
     "cell_type": "code",
     "collapsed": false,
     "input": [
      "download_all('Data Analysis.html')"
     ],
     "language": "python",
     "metadata": {},
     "outputs": [
      {
       "output_type": "stream",
       "stream": "stdout",
       "text": [
        "loading https://d396qusza40orc.cloudfront.net/dataanalysis/gettingHelp.pdf and saving to pdfs/dataanalysis_gettingHelp.pdf\n",
        "loading https://d396qusza40orc.cloudfront.net/dataanalysis/whatIsData.pdf and saving to pdfs/dataanalysis_whatIsData.pdf\n",
        "pdfs/dataanalysis_gettingHelp.pdf already exists. download is aborded.\n",
        "pdfs/dataanalysis_whatIsData.pdf already exists. download is aborded.\n",
        "loading https://d396qusza40orc.cloudfront.net/dataanalysis/representingData.pdf and saving to pdfs/dataanalysis_representingData.pdf\n",
        "pdfs/dataanalysis_representingData.pdf already exists. download is aborded.\n",
        "loading https://d396qusza40orc.cloudfront.net/dataanalysis/representingDataR.pdf and saving to pdfs/dataanalysis_representingDataR.pdf\n",
        "pdfs/dataanalysis_representingDataR.pdf already exists. download is aborded.\n",
        "loading https://d396qusza40orc.cloudfront.net/dataanalysis/simulationBasics.pdf and saving to pdfs/dataanalysis_simulationBasics.pdf\n",
        "pdfs/dataanalysis_simulationBasics.pdf already exists. download is aborded.\n",
        "loading https://d396qusza40orc.cloudfront.net/dataanalysis/typesOfQuestions.pdf and saving to pdfs/dataanalysis_typesOfQuestions.pdf\n",
        "pdfs/dataanalysis_typesOfQuestions.pdf already exists. download is aborded.\n",
        "loading https://d396qusza40orc.cloudfront.net/dataanalysis/sourcesOfDataSets.pdf and saving to pdfs/dataanalysis_sourcesOfDataSets.pdf\n",
        "pdfs/dataanalysis_sourcesOfDataSets.pdf already exists. download is aborded.\n",
        "loading https://d396qusza40orc.cloudfront.net/dataanalysis/structureOfADataAnalysis1.pdf and saving to pdfs/dataanalysis_structureOfADataAnalysis1.pdf\n",
        "pdfs/dataanalysis_structureOfADataAnalysis1.pdf already exists. download is aborded.\n",
        "loading https://d396qusza40orc.cloudfront.net/dataanalysis/structureOfADataAnalysis2.pdf and saving to pdfs/dataanalysis_structureOfADataAnalysis2.pdf\n",
        "pdfs/dataanalysis_structureOfADataAnalysis2.pdf already exists. download is aborded.\n",
        "loading https://d396qusza40orc.cloudfront.net/dataanalysis/organizingADataAnalysis.pdf and saving to pdfs/dataanalysis_organizingADataAnalysis.pdf\n",
        "pdfs/dataanalysis_organizingADataAnalysis.pdf already exists. download is aborded.\n",
        "loading https://d396qusza40orc.cloudfront.net/dataanalysis/gettingData1.pdf and saving to pdfs/dataanalysis_gettingData1.pdf\n",
        "pdfs/dataanalysis_gettingData1.pdf already exists. download is aborded.\n",
        "loading https://d396qusza40orc.cloudfront.net/dataanalysis/gettingData2.pdf and saving to pdfs/dataanalysis_gettingData2.pdf\n",
        "pdfs/dataanalysis_gettingData2.pdf already exists. download is aborded.\n",
        "loading https://d396qusza40orc.cloudfront.net/dataanalysis/dataResources.pdf and saving to pdfs/dataanalysis_dataResources.pdf\n",
        "pdfs/dataanalysis_dataResources.pdf already exists. download is aborded.\n",
        "loading https://d396qusza40orc.cloudfront.net/dataanalysis/summarizingData.pdf and saving to pdfs/dataanalysis_summarizingData.pdf\n",
        "pdfs/dataanalysis_summarizingData.pdf already exists. download is aborded.\n",
        "loading https://d396qusza40orc.cloudfront.net/dataanalysis/dataMungingBasics.pdf and saving to pdfs/dataanalysis_dataMungingBasics.pdf\n",
        "pdfs/dataanalysis_dataMungingBasics.pdf already exists. download is aborded.\n",
        "loading https://d396qusza40orc.cloudfront.net/dataanalysis/exploratoryGraphs1.pdf and saving to pdfs/dataanalysis_exploratoryGraphs1.pdf\n",
        "pdfs/dataanalysis_exploratoryGraphs1.pdf already exists. download is aborded.\n",
        "loading https://d396qusza40orc.cloudfront.net/dataanalysis/exploratoryGraphs2.pdf and saving to pdfs/dataanalysis_exploratoryGraphs2.pdf\n",
        "pdfs/dataanalysis_exploratoryGraphs2.pdf already exists. download is aborded.\n",
        "loading https://d396qusza40orc.cloudfront.net/dataanalysis/expositoryGraphs.pdf and saving to pdfs/dataanalysis_expositoryGraphs.pdf\n",
        "loading https://d396qusza40orc.cloudfront.net/dataanalysis/hierarchicalClustering.pdf and saving to pdfs/dataanalysis_hierarchicalClustering.pdf\n",
        "pdfs/dataanalysis_expositoryGraphs.pdf already exists. download is aborded.\n",
        "pdfs/dataanalysis_hierarchicalClustering.pdf already exists. download is aborded.\n",
        "loading https://d396qusza40orc.cloudfront.net/dataanalysis/kmeansClustering.pdf and saving to pdfs/dataanalysis_kmeansClustering.pdf\n",
        "pdfs/dataanalysis_kmeansClustering.pdf already exists. download is aborded.\n",
        "loading https://d396qusza40orc.cloudfront.net/dataanalysis/dimensionReduction.pdf and saving to pdfs/dataanalysis_dimensionReduction.pdf\n",
        "pdfs/dataanalysis_dimensionReduction.pdf already exists. download is aborded.\n",
        "loading https://d396qusza40orc.cloudfront.net/dataanalysis/clusteringExample.pdf and saving to pdfs/dataanalysis_clusteringExample.pdf\n",
        "pdfs/dataanalysis_clusteringExample.pdf already exists. download is aborded.\n",
        "loading https://d396qusza40orc.cloudfront.net/dataanalysis/basicLeastSquares.pdf and saving to pdfs/dataanalysis_basicLeastSquares.pdf\n",
        "pdfs/dataanalysis_basicLeastSquares.pdf already exists. download is aborded.\n",
        "loading https://d396qusza40orc.cloudfront.net/dataanalysis/inferenceBasics.pdf and saving to pdfs/dataanalysis_inferenceBasics.pdf\n",
        "pdfs/dataanalysis_inferenceBasics.pdf already exists. download is aborded.\n",
        "loading https://d396qusza40orc.cloudfront.net/dataanalysis/pValues.pdf and saving to pdfs/dataanalysis_pValues.pdf\n",
        "pdfs/dataanalysis_pValues.pdf already exists. download is aborded.\n",
        "loading https://d396qusza40orc.cloudfront.net/dataanalysis/factorVariables.pdf and saving to pdfs/dataanalysis_factorVariables.pdf\n",
        "pdfs/dataanalysis_factorVariables.pdf already exists. download is aborded.\n",
        "loading https://d396qusza40orc.cloudfront.net/dataanalysis/multipleVariables.pdf and saving to pdfs/dataanalysis_multipleVariables.pdf\n",
        "pdfs/dataanalysis_multipleVariables.pdf already exists. download is aborded.\n",
        "loading https://d396qusza40orc.cloudfront.net/dataanalysis/realData.pdf and saving to pdfs/dataanalysis_realData.pdf\n",
        "pdfs/dataanalysis_realData.pdf already exists. download is aborded.\n",
        "loading https://d396qusza40orc.cloudfront.net/dataanalysis/multipleFactors.pdf and saving to pdfs/dataanalysis_multipleFactors.pdf\n",
        "loading https://d396qusza40orc.cloudfront.net/dataanalysis/binaryOutcomes.pdf and saving to pdfs/dataanalysis_binaryOutcomes.pdf\n",
        "loading https://d396qusza40orc.cloudfront.net/dataanalysis/countOutcomes.pdf and saving to pdfs/dataanalysis_countOutcomes.pdf\n",
        "loading https://d396qusza40orc.cloudfront.net/dataanalysis/modelChecking.pdf and saving to pdfs/dataanalysis_modelChecking.pdf\n"
       ]
      },
      {
       "output_type": "stream",
       "stream": "stdout",
       "text": [
        "Done with pdfs/dataanalysis_modelChecking.pdf\n",
        "Done with pdfs/dataanalysis_multipleFactors.pdf"
       ]
      },
      {
       "output_type": "stream",
       "stream": "stdout",
       "text": [
        "\n",
        "Done with pdfs/dataanalysis_binaryOutcomes.pdf"
       ]
      },
      {
       "output_type": "stream",
       "stream": "stdout",
       "text": [
        "\n",
        "Done with pdfs/dataanalysis_countOutcomes.pdf"
       ]
      }
     ],
     "prompt_number": 5
    },
    {
     "cell_type": "code",
     "collapsed": false,
     "input": [],
     "language": "python",
     "metadata": {},
     "outputs": []
    }
   ],
   "metadata": {}
  }
 ]
}