{
 "metadata": {
  "name": "",
  "signature": "sha256:cfd314c6c700f8260dd1a0941c90c7bed22ea796a78159d4f3800b10ce5b881f"
 },
 "nbformat": 3,
 "nbformat_minor": 0,
 "worksheets": [
  {
   "cells": [
    {
     "cell_type": "markdown",
     "metadata": {},
     "source": [
      "Scraping\n",
      "=====\n",
      "\n",
      "This is a simple script that downloads files referenced as links in an HTML file. I uses this to scrape PDFs from Coursera.org course pages.\n",
      "\n",
      "(c) Florian Hoppe 2013"
     ]
    },
    {
     "cell_type": "code",
     "collapsed": false,
     "input": [
      "import urlparse\n",
      "import urllib2 as urllib\n",
      "import urllib\n",
      "import sys\n",
      "import os\n",
      "import threading\n",
      "from lxml import etree\n",
      "\n",
      "def _download_link(url,target_dir):\n",
      "    urlpath = urlparse.urlsplit(url)\n",
      "    if url.startswith(\"https\"):\n",
      "        print(\"Attention: link is a HTTPS URL. Might cause problems.\")\n",
      "#         url = \"http\" + url[5:]\n",
      "    filename = target_dir + \"/\" + urllib.unquote(urlpath[2])[1:].replace(\"/\",\"_\")\n",
      "    \n",
      "    print(\"loading \" + url + \" and saving to \" + filename)\n",
      "    if os.path.exists(filename):\n",
      "        print(filename + \" already exists. download is aborded.\")\n",
      "    else:\n",
      "        try:\n",
      "            with open(filename, \"wb\") as f:\n",
      "                req = urllib.urlopen(url)\n",
      "                f.write(req.read())\n",
      "                print(\"Done with \" + filename)\n",
      "        except IOError, err:\n",
      "            print(\"IO Error for \" + url + \"\\nDue to \" + err)\n",
      "        \n",
      "\n",
      "def download_all( filename, link_filter = 'pdf'):\n",
      "    \"\"\"Searches the given sourcefile for links and downloads their targets.\n",
      "\n",
      "    Args:\n",
      "        filename: should reference a HMTL file in the current working directory\n",
      "        link_filter: string that contains the extension of the files that should be downloaded\n",
      "    Returns:\n",
      "        nothing. the link targets will be saved in a subdirectory e.g. \"pdfs\" (must exists before calling the function).\n",
      "    Raises:\n",
      "        nothing\n",
      "    \"\"\"\n",
      "    \n",
      "    parser = etree.HTMLParser()\n",
      "    tree = etree.parse(filename, parser)\n",
      "\n",
      "    links = tree.xpath('//a')\n",
      "    \n",
      "    for link in links:\n",
      "        if 'href' in link.attrib:\n",
      "            url = link.attrib['href']\n",
      "            \n",
      "            if urlparse.urlparse(url).path[-3:] == link_filter:\n",
      "                t = threading.Thread(target=_download_link,args=(url,link_filter + 's'))\n",
      "                t.start()\n",
      "#                download_link(url,link_filter + 's')"
     ],
     "language": "python",
     "metadata": {},
     "outputs": [],
     "prompt_number": 36
    },
    {
     "cell_type": "code",
     "collapsed": false,
     "input": [
      "cd /Users/florianhoppe/Documents/SkyDrive/Coding/python/scrapy_tutorial"
     ],
     "language": "python",
     "metadata": {},
     "outputs": [
      {
       "output_type": "stream",
       "stream": "stdout",
       "text": [
        "[Errno 2] No such file or directory: '/Users/florianhoppe/Documents/SkyDrive/Coding/python/scrapy_tutorial'\n",
        "/Users/florianhoppe/Documents/Onedrive/Wissen/MOOCs/Practical ML\n"
       ]
      }
     ],
     "prompt_number": 12
    },
    {
     "cell_type": "code",
     "collapsed": false,
     "input": [
      "cd /Users/florianhoppe/Documents/Onedrive/Wissen/MOOCs/"
     ],
     "language": "python",
     "metadata": {},
     "outputs": [
      {
       "output_type": "stream",
       "stream": "stdout",
       "text": [
        "/Users/florianhoppe/Documents/Onedrive/Wissen/MOOCs\n"
       ]
      }
     ],
     "prompt_number": 2
    },
    {
     "cell_type": "code",
     "collapsed": false,
     "input": [
      "cd Practical\\ ML"
     ],
     "language": "python",
     "metadata": {},
     "outputs": [
      {
       "output_type": "stream",
       "stream": "stdout",
       "text": [
        "/Users/florianhoppe/Documents/Onedrive/Wissen/MOOCs/Practical ML\n"
       ]
      }
     ],
     "prompt_number": 4
    },
    {
     "cell_type": "code",
     "collapsed": false,
     "input": [
      "cd ../Developing\\ Data\\ Products"
     ],
     "language": "python",
     "metadata": {},
     "outputs": [
      {
       "output_type": "stream",
       "stream": "stdout",
       "text": [
        "/Users/florianhoppe/Documents/Onedrive/Wissen/MOOCs/Developing Data Products\n"
       ]
      }
     ],
     "prompt_number": 20
    },
    {
     "cell_type": "code",
     "collapsed": false,
     "input": [
      "mkdir pdfs"
     ],
     "language": "python",
     "metadata": {},
     "outputs": [],
     "prompt_number": 21
    },
    {
     "cell_type": "code",
     "collapsed": false,
     "input": [
      "download_all('Coursera.html')"
     ],
     "language": "python",
     "metadata": {},
     "outputs": [
      {
       "output_type": "stream",
       "stream": "stdout",
       "text": [
        "Attention: link is a HTTPS URL. Might cause problems.\n",
        "loading https://github.com/bcaffo/courses/blob/master/09_DevelopingDataProducts/lectures/shiny.pdf?raw=true and saving to pdfs/bcaffo_courses_blob_master_09_DevelopingDataProducts_lectures_shiny.pdf\n",
        "Attention: link is a HTTPS URL. Might cause problems.\n",
        "loading https://github.com/bcaffo/courses/blob/master/09_DevelopingDataProducts/lectures/shiny2.pdf?raw=true and saving to pdfs/bcaffo_courses_blob_master_09_DevelopingDataProducts_lectures_shiny2.pdf\n",
        "Attention: link is a HTTPS URL. Might cause problems.\n",
        "loading https://github.com/bcaffo/courses/blob/master/09_DevelopingDataProducts/lectures/manipulate.pdf?raw=true and saving to pdfs/bcaffo_courses_blob_master_09_DevelopingDataProducts_lectures_manipulate.pdf\n",
        "Attention: link is a HTTPS URL. Might cause problems.\n",
        "loading https://github.com/bcaffo/courses/blob/master/09_DevelopingDataProducts/lectures/rCharts.pdf?raw=true and saving to pdfs/bcaffo_courses_blob_master_09_DevelopingDataProducts_lectures_rCharts.pdf\n",
        "Attention: link is a HTTPS URL. Might cause problems.\n",
        "loading https://github.com/bcaffo/courses/blob/master/09_DevelopingDataProducts/lectures/googleVis.pdf?raw=true and saving to pdfs/bcaffo_courses_blob_master_09_DevelopingDataProducts_lectures_googleVis.pdf\n",
        "Attention: link is a HTTPS URL. Might cause problems.\n",
        "loading https://github.com/bcaffo/courses/blob/master/09_DevelopingDataProducts/lectures/slidify.pdf?raw=true and saving to pdfs/bcaffo_courses_blob_master_09_DevelopingDataProducts_lectures_slidify.pdf\n",
        "Attention: link is a HTTPS URL. Might cause problems.\n",
        "loading https://github.com/bcaffo/courses/blob/master/09_DevelopingDataProducts/lectures/RPackages.pdf?raw=true and saving to pdfs/bcaffo_courses_blob_master_09_DevelopingDataProducts_lectures_RPackages.pdf\n",
        "Attention: link is a HTTPS URL. Might cause problems.\n",
        "loading https://github.com/bcaffo/courses/blob/master/09_DevelopingDataProducts/lectures/classes-methods.pdf?raw=true and saving to pdfs/bcaffo_courses_blob_master_09_DevelopingDataProducts_lectures_classes-methods.pdf\n"
       ]
      },
      {
       "output_type": "stream",
       "stream": "stdout",
       "text": [
        "Done with pdfs/bcaffo_courses_blob_master_09_DevelopingDataProducts_lectures_shiny2.pdf\n",
        "Done with pdfs/bcaffo_courses_blob_master_09_DevelopingDataProducts_lectures_manipulate.pdf\n"
       ]
      },
      {
       "output_type": "stream",
       "stream": "stdout",
       "text": [
        "Done with pdfs/bcaffo_courses_blob_master_09_DevelopingDataProducts_lectures_RPackages.pdf\n",
        "Done with pdfs/bcaffo_courses_blob_master_09_DevelopingDataProducts_lectures_classes-methods.pdf\n"
       ]
      },
      {
       "output_type": "stream",
       "stream": "stdout",
       "text": [
        "Done with pdfs/bcaffo_courses_blob_master_09_DevelopingDataProducts_lectures_shiny.pdf\n",
        "Done with pdfs/bcaffo_courses_blob_master_09_DevelopingDataProducts_lectures_googleVis.pdf\n"
       ]
      },
      {
       "output_type": "stream",
       "stream": "stdout",
       "text": [
        "Done with pdfs/bcaffo_courses_blob_master_09_DevelopingDataProducts_lectures_rCharts.pdf\n",
        "Done with pdfs/bcaffo_courses_blob_master_09_DevelopingDataProducts_lectures_slidify.pdf\n"
       ]
      }
     ],
     "prompt_number": 37
    },
    {
     "cell_type": "code",
     "collapsed": false,
     "input": [],
     "language": "python",
     "metadata": {},
     "outputs": []
    }
   ],
   "metadata": {}
  }
 ]
}