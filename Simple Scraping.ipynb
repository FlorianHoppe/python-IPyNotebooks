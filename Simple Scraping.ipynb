{
 "metadata": {
  "name": "Simple Scraping"
 },
 "nbformat": 3,
 "nbformat_minor": 0,
 "worksheets": [
  {
   "cells": [
    {
     "cell_type": "markdown",
     "metadata": {},
     "source": [
      "Scraping\n",
      "=====\n",
      "\n",
      "This is a simple script that downloads files referenced as links in an HTML file. I uses this to scrape PDFs from Coursera.org course pages.\n",
      "\n",
      "(c) Florian Hoppe 2013"
     ]
    },
    {
     "cell_type": "code",
     "collapsed": false,
     "input": [
      "import urlparse\n",
      "import urllib2 as urllib\n",
      "import urllib\n",
      "import sys\n",
      "from lxml import etree\n",
      "\n",
      "def _download_link(url,target_dir):\n",
      "    urlpath = urlparse.urlsplit(url)\n",
      "    filename = target_dir + \"/\" + urllib.unquote(urlpath[2])[1:].replace(\"/\",\"_\")\n",
      "    \n",
      "    print(\"loading \" + url + \" and saving to \" + filename)\n",
      "    \n",
      "    req = urllib.urlopen(url)\n",
      "    with open(filename, \"wb\") as f:\n",
      "        f.write(req.read())\n",
      "\n",
      "def download_all( filename, link_filter = 'pdf'):\n",
      "    \"\"\"Searches the given sourcefile for links and downloads their targets.\n",
      "\n",
      "    Args:\n",
      "        filename: should reference a HMTL file in the current working directory\n",
      "        link_filter: string that contains the extension of the files that should be downloaded\n",
      "    Returns:\n",
      "        nothing. the link targets will be saved in a subdirectory (must exists before calling the function).\n",
      "    Raises:\n",
      "        nothing\n",
      "    \"\"\"\n",
      "    \n",
      "    parser = etree.HTMLParser()\n",
      "    tree = etree.parse(filename, parser)\n",
      "\n",
      "    links = tree.xpath('//a')\n",
      "    \n",
      "    for link in links:\n",
      "        if 'href' in link.attrib:\n",
      "            url = link.attrib['href']\n",
      "\n",
      "            if url[-3:] == link_filter:\n",
      "                t = threading.Thread(target=_download_link,args=(url,link_filter + 's'))\n",
      "                t.start()\n",
      "#                download_link(url,link_filter + 's')"
     ],
     "language": "python",
     "metadata": {},
     "outputs": [],
     "prompt_number": 2
    },
    {
     "cell_type": "code",
     "collapsed": false,
     "input": [
      "cd /Users/florianhoppe/Documents/SkyDrive/Coding/python/scrapy_tutorial"
     ],
     "language": "python",
     "metadata": {},
     "outputs": [
      {
       "output_type": "stream",
       "stream": "stdout",
       "text": [
        "/Users/florianhoppe/Documents/SkyDrive/Coding/python/scrapy_tutorial\n"
       ]
      }
     ],
     "prompt_number": 19
    },
    {
     "cell_type": "code",
     "collapsed": false,
     "input": [
      "cd /Users/florianhoppe/Google Drive/Wissen/MOOCs/"
     ],
     "language": "python",
     "metadata": {},
     "outputs": [
      {
       "output_type": "stream",
       "stream": "stdout",
       "text": [
        "/Users/florianhoppe/Google Drive/Wissen/MOOCs\n"
       ]
      }
     ],
     "prompt_number": 21
    },
    {
     "cell_type": "code",
     "collapsed": false,
     "input": [
      "mkdir pdfs"
     ],
     "language": "python",
     "metadata": {},
     "outputs": [],
     "prompt_number": 26
    },
    {
     "cell_type": "code",
     "collapsed": false,
     "input": [
      "download('Data Analysis.html')"
     ],
     "language": "python",
     "metadata": {},
     "outputs": [
      {
       "output_type": "stream",
       "stream": "stdout",
       "text": [
        "now loading https://d396qusza40orc.cloudfront.net/dataanalysis/gettingHelp.pdf and saving to pdfs/dataanalysis_gettingHelp.pdf\n",
        "now loading https://d396qusza40orc.cloudfront.net/dataanalysis/whatIsData.pdf and saving to pdfs/dataanalysis_whatIsData.pdf"
       ]
      },
      {
       "output_type": "stream",
       "stream": "stdout",
       "text": [
        "\n",
        "now loading https://d396qusza40orc.cloudfront.net/dataanalysis/representingData.pdf and saving to pdfs/dataanalysis_representingData.pdf"
       ]
      },
      {
       "output_type": "stream",
       "stream": "stdout",
       "text": [
        "\n",
        "now loading https://d396qusza40orc.cloudfront.net/dataanalysis/representingDataR.pdf and saving to pdfs/dataanalysis_representingDataR.pdf"
       ]
      },
      {
       "output_type": "stream",
       "stream": "stdout",
       "text": [
        "\n",
        "now loading https://d396qusza40orc.cloudfront.net/dataanalysis/simulationBasics.pdf and saving to pdfs/dataanalysis_simulationBasics.pdf"
       ]
      },
      {
       "output_type": "stream",
       "stream": "stdout",
       "text": [
        "\n",
        "now loading https://d396qusza40orc.cloudfront.net/dataanalysis/typesOfQuestions.pdf and saving to pdfs/dataanalysis_typesOfQuestions.pdf"
       ]
      },
      {
       "output_type": "stream",
       "stream": "stdout",
       "text": [
        "\n",
        "now loading https://d396qusza40orc.cloudfront.net/dataanalysis/sourcesOfDataSets.pdf and saving to pdfs/dataanalysis_sourcesOfDataSets.pdf"
       ]
      },
      {
       "output_type": "stream",
       "stream": "stdout",
       "text": [
        "\n",
        "now loading https://d396qusza40orc.cloudfront.net/dataanalysis/structureOfADataAnalysis1.pdf and saving to pdfs/dataanalysis_structureOfADataAnalysis1.pdf"
       ]
      },
      {
       "output_type": "stream",
       "stream": "stdout",
       "text": [
        "\n",
        "now loading https://d396qusza40orc.cloudfront.net/dataanalysis/structureOfADataAnalysis2.pdf and saving to pdfs/dataanalysis_structureOfADataAnalysis2.pdf"
       ]
      },
      {
       "output_type": "stream",
       "stream": "stdout",
       "text": [
        "\n",
        "now loading https://d396qusza40orc.cloudfront.net/dataanalysis/organizingADataAnalysis.pdf and saving to pdfs/dataanalysis_organizingADataAnalysis.pdf"
       ]
      },
      {
       "output_type": "stream",
       "stream": "stdout",
       "text": [
        "\n",
        "now loading https://d396qusza40orc.cloudfront.net/dataanalysis/gettingData1.pdf and saving to pdfs/dataanalysis_gettingData1.pdf"
       ]
      },
      {
       "output_type": "stream",
       "stream": "stdout",
       "text": [
        "\n",
        "now loading https://d396qusza40orc.cloudfront.net/dataanalysis/gettingData2.pdf and saving to pdfs/dataanalysis_gettingData2.pdf"
       ]
      },
      {
       "output_type": "stream",
       "stream": "stdout",
       "text": [
        "\n",
        "now loading https://d396qusza40orc.cloudfront.net/dataanalysis/dataResources.pdf and saving to pdfs/dataanalysis_dataResources.pdf"
       ]
      },
      {
       "output_type": "stream",
       "stream": "stdout",
       "text": [
        "\n",
        "now loading https://d396qusza40orc.cloudfront.net/dataanalysis/summarizingData.pdf and saving to pdfs/dataanalysis_summarizingData.pdf"
       ]
      },
      {
       "output_type": "stream",
       "stream": "stdout",
       "text": [
        "\n",
        "now loading https://d396qusza40orc.cloudfront.net/dataanalysis/dataMungingBasics.pdf and saving to pdfs/dataanalysis_dataMungingBasics.pdf"
       ]
      },
      {
       "output_type": "stream",
       "stream": "stdout",
       "text": [
        "\n"
       ]
      }
     ],
     "prompt_number": 29
    },
    {
     "cell_type": "code",
     "collapsed": false,
     "input": [],
     "language": "python",
     "metadata": {},
     "outputs": []
    }
   ],
   "metadata": {}
  }
 ]
}